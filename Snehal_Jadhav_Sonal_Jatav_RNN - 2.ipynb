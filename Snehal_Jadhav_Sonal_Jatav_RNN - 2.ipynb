{
 "cells": [
  {
   "cell_type": "markdown",
   "metadata": {},
   "source": [
    "# Gesture Recognition Assignment\n",
    "\n",
    "### Objective:\n",
    "\n",
    "Experiment with models, trainable parameters, hyperparameters to derive appropriate model to recognize a model with minimized loss and higher accuracy.\n",
    "\n",
    "---\n",
    "#### Steps\n",
    "---\n",
    "\n",
    "1. Preprocess data\n",
    "2. Standardize videos\n",
    "3. Use generator function to generate training and validation data\n",
    "4. Model selection [experiment to derive appropriate model]\n",
    "5. a. CNN + RNN LSTM\n",
    "6. b. 3D Convolution n/w\n",
    "7. Derive Loss and accuracy of different models\n",
    "8. Condense training time\n",
    "9. Derive appropriate trainable parameters - i/p weights and biases, o/p weights and biases\n",
    "10. Derive appropriate hyperparameters - no. of epochs, batch_size, learning rate, optimizer"
   ]
  },
  {
   "cell_type": "code",
   "execution_count": 1,
   "metadata": {},
   "outputs": [],
   "source": [
    "import numpy as np\n",
    "import os\n",
    "from skimage.transform import resize\n",
    "from imageio import imread\n",
    "import datetime\n",
    "import os"
   ]
  },
  {
   "cell_type": "markdown",
   "metadata": {},
   "source": [
    "We set the random seed so that the results don't vary drastically."
   ]
  },
  {
   "cell_type": "code",
   "execution_count": 2,
   "metadata": {},
   "outputs": [],
   "source": [
    "np.random.seed(30)\n",
    "import random as rn\n",
    "rn.seed(30)\n",
    "from keras import backend as K\n",
    "import tensorflow as tf\n",
    "tf.random.set_seed(30)"
   ]
  },
  {
   "cell_type": "markdown",
   "metadata": {},
   "source": [
    "In this block, you read the folder names for training and validation. You also set the `batch_size` here. Note that you set the batch size in such a way that you are able to use the GPU in full capacity. You keep increasing the batch size until the machine throws an error."
   ]
  },
  {
   "cell_type": "code",
   "execution_count": 3,
   "metadata": {},
   "outputs": [],
   "source": [
    "train_doc = np.random.permutation(open('./datasets/Project_data/train.csv').readlines())\n",
    "val_doc = np.random.permutation(open('./datasets/Project_data/val.csv').readlines())\n",
    "batch_size = 30 #experiment with the batch size\n",
    "y, z = (224, 224)"
   ]
  },
  {
   "cell_type": "code",
   "execution_count": 4,
   "metadata": {},
   "outputs": [],
   "source": [
    "# Resize images witth padding, so we do not lose the aspect ratio\n",
    "def preprocess_image_with_padding(image, target_size=(360, 360)):\n",
    "    # Calculate the scaling factor to resize image while maintaining aspect ratio\n",
    "    old_size = image.shape[:2]  # Original size (height, width)\n",
    "    ratio = min(target_size[0] / old_size[0], target_size[1] / old_size[1])\n",
    "    new_size = (int(old_size[0] * ratio), int(old_size[1] * ratio))\n",
    "    \n",
    "    # Resize the image with the calculated new size\n",
    "    image_resized = resize(image, new_size, anti_aliasing=True)\n",
    "    \n",
    "    # Create a new image array with the target size, filled with black (0) padding\n",
    "    padded_image = np.zeros((target_size[0], target_size[1], 3))\n",
    "    \n",
    "    # Place the resized image in the center of the padded image\n",
    "    pad_top = (target_size[0] - new_size[0]) // 2\n",
    "    pad_left = (target_size[1] - new_size[1]) // 2\n",
    "    padded_image[pad_top:pad_top+new_size[0], pad_left:pad_left+new_size[1], :] = image_resized\n",
    "    \n",
    "    return padded_image"
   ]
  },
  {
   "cell_type": "markdown",
   "metadata": {},
   "source": [
    "## Generator\n",
    "This is one of the most important part of the code. The overall structure of the generator has been given. In the generator, you are going to preprocess the images as you have images of 2 different dimensions as well as create a batch of video frames. You have to experiment with `img_idx`, `y`,`z` and normalization such that you get high accuracy."
   ]
  },
  {
   "cell_type": "code",
   "execution_count": 5,
   "metadata": {},
   "outputs": [],
   "source": [
    "def generator(source_path, folder_list, batch_size):\n",
    "    print('Source path = ', source_path, '; batch size =', batch_size)\n",
    "    \n",
    "    # Create a list of specific image indices you want to use for each video.\n",
    "    img_idx = [0, 2, 4, 6, 8, 10, 12, 14, 16, 18]  # Example: Using 10 frames from each video, adjust as needed\n",
    "    \n",
    "    while True:\n",
    "        # Shuffle the list of folders randomly to ensure that the training is not biased by the order of folders.\n",
    "        t = np.random.permutation(folder_list)\n",
    "        \n",
    "        # Calculate the number of batches per epoch.\n",
    "        num_batches = len(folder_list) // batch_size  # Ensuring that we have full batches only\n",
    "        \n",
    "        for batch in range(num_batches):  # We iterate over the number of batches\n",
    "            # Initialize batch data array with zeros\n",
    "            # batch_data has shape (batch_size, #frames, height, width, #channels)\n",
    "            batch_data = np.zeros((batch_size, len(img_idx), y, z, 3))  # Replace `y` and `z` with image height and width\n",
    "            batch_labels = np.zeros((batch_size, 5))  # Assuming 5 classes for one-hot encoded labels\n",
    "            \n",
    "            for folder in range(batch_size):  # Iterate over each item in the batch\n",
    "                # Get the list of images in the folder corresponding to the shuffled list\n",
    "                imgs = os.listdir(source_path + '/' + t[folder + (batch * batch_size)].split(';')[0])\n",
    "                \n",
    "                for idx, item in enumerate(img_idx):  # Iterate over the selected frames for the video\n",
    "                    # Read each specified image for the current folder\n",
    "                    image = imread(source_path + '/' + t[folder + (batch * batch_size)].strip().split(';')[0] + '/' + imgs[item]).astype(np.float32)\n",
    "                    \n",
    "                    # Crop the images and resize them to (y, z) so that all images have the same shape\n",
    "                    image = preprocess_image_with_padding(image, (y, z))\n",
    "                    # Normalize and store the image into the batch_data array\n",
    "                    batch_data[folder, idx, :, :, 0] = (image[:, :, 0] / 255.0)  # Normalizing the R channel\n",
    "                    batch_data[folder, idx, :, :, 1] = (image[:, :, 1] / 255.0)  # Normalizing the G channel\n",
    "                    batch_data[folder, idx, :, :, 2] = (image[:, :, 2] / 255.0)  # Normalizing the B channel\n",
    "                \n",
    "                # One-hot encode the label for the current folder\n",
    "                batch_labels[folder, int(t[folder + (batch * batch_size)].strip().split(';')[2])] = 1\n",
    "            \n",
    "            # Yield a batch of data and labels. Yielding allows the function to generate batches as needed during training.\n",
    "            yield batch_data, batch_labels\n",
    "\n",
    "        # Handle any remaining data that doesn't fit into a complete batch\n",
    "        remaining = len(folder_list) % batch_size\n",
    "        if remaining > 0:\n",
    "            # Prepare batch data and labels for the remaining samples\n",
    "            batch_data = np.zeros((remaining, len(img_idx), y, z, 3))\n",
    "            batch_labels = np.zeros((remaining, 5))\n",
    "            \n",
    "            for folder in range(remaining):\n",
    "                imgs = os.listdir(source_path + '/' + t[folder + (num_batches * batch_size)].split(';')[0])\n",
    "                \n",
    "                for idx, item in enumerate(img_idx):\n",
    "                    image = imread(source_path + '/' + t[folder + (num_batches * batch_size)].strip().split(';')[0] + '/' + imgs[item]).astype(np.float32)\n",
    "                    \n",
    "                    # Crop the images and resize them to (y, z) so that all images have the same shape\n",
    "                    image = preprocess_image_with_padding(image, (y, z))\n",
    "\n",
    "                    # Normalize and store the image into the batch_data array\n",
    "                    batch_data[folder, idx, :, :, 0] = (image[:, :, 0] / 255.0)\n",
    "                    batch_data[folder, idx, :, :, 1] = (image[:, :, 1] / 255.0)\n",
    "                    batch_data[folder, idx, :, :, 2] = (image[:, :, 2] / 255.0)\n",
    "                \n",
    "                batch_labels[folder, int(t[folder + (num_batches * batch_size)].strip().split(';')[2])] = 1\n",
    "            \n",
    "            yield batch_data, batch_labels"
   ]
  },
  {
   "cell_type": "markdown",
   "metadata": {},
   "source": [
    "Note here that a video is represented above in the generator as (number of images, height, width, number of channels). Take this into consideration while creating the model architecture."
   ]
  },
  {
   "cell_type": "code",
   "execution_count": 6,
   "metadata": {},
   "outputs": [
    {
     "name": "stdout",
     "output_type": "stream",
     "text": [
      "# training sequences = 663\n",
      "# validation sequences = 100\n",
      "# epochs = 30\n"
     ]
    }
   ],
   "source": [
    "curr_dt_time = datetime.datetime.now()\n",
    "train_path = './datasets/Project_data/train'\n",
    "val_path = './datasets/Project_data/val'\n",
    "num_train_sequences = len(train_doc)\n",
    "print('# training sequences =', num_train_sequences)\n",
    "num_val_sequences = len(val_doc)\n",
    "print('# validation sequences =', num_val_sequences)\n",
    "num_epochs = 30 # choose the number of epochs\n",
    "print ('# epochs =', num_epochs)"
   ]
  },
  {
   "cell_type": "markdown",
   "metadata": {},
   "source": [
    "## Model\n",
    "Here you make the model using different functionalities that Keras provides. Remember to use `Conv3D` and `MaxPooling3D` and not `Conv2D` and `Maxpooling2D` for a 3D convolution model. You would want to use `TimeDistributed` while building a Conv2D + RNN model. Also remember that the last layer is the softmax. Design the network in such a way that the model is able to give good accuracy on the least number of parameters so that it can fit in the memory of the webcam."
   ]
  },
  {
   "cell_type": "code",
   "execution_count": 7,
   "metadata": {},
   "outputs": [],
   "source": [
    "from keras.models import Sequential, Model\n",
    "from keras.layers import Dense, GRU, Flatten, TimeDistributed, Flatten, BatchNormalization, Activation, GlobalAveragePooling3D\n",
    "from keras.layers import Conv3D, MaxPooling3D\n",
    "from keras.callbacks import ModelCheckpoint, ReduceLROnPlateau\n",
    "from keras import optimizers\n"
   ]
  },
  {
   "cell_type": "code",
   "execution_count": 8,
   "metadata": {},
   "outputs": [
    {
     "name": "stderr",
     "output_type": "stream",
     "text": [
      "2024-11-04 03:41:12.183997: W tensorflow/core/common_runtime/gpu/gpu_bfc_allocator.cc:39] Overriding allow_growth setting because the TF_FORCE_GPU_ALLOW_GROWTH environment variable is set. Original config value was 0.\n",
      "2024-11-04 03:41:12.184069: I tensorflow/core/common_runtime/gpu/gpu_device.cc:1525] Created device /job:localhost/replica:0/task:0/device:GPU:0 with 14800 MB memory:  -> device: 0, name: Quadro RTX 5000, pci bus id: 0000:40:00.0, compute capability: 7.5\n"
     ]
    }
   ],
   "source": [
    "# Model parameters\n",
    "input_shape = (16, 224, 224, 3)  # Example: (frames, height, width, channels)\n",
    "num_classes = 5  # Adjust this based on the number of gesture classes\n",
    "\n",
    "model = Sequential()\n",
    "\n",
    "# First 3D Convolutional layer\n",
    "model.add(Conv3D(16, kernel_size=(3, 3, 3), activation='relu', input_shape=input_shape, padding='same'))\n",
    "model.add(MaxPooling3D(pool_size=(2, 2, 2), padding='same'))\n",
    "# model.add(BatchNormalization())\n",
    "\n",
    "# Second 3D Convolutional layer\n",
    "model.add(Conv3D(32, kernel_size=(3, 3, 3), activation='relu', padding='same'))\n",
    "model.add(MaxPooling3D(pool_size=(2, 2, 2), padding='same'))\n",
    "# model.add(BatchNormalization())\n",
    "\n",
    "# Third 3D Convolutional layer \n",
    "model.add(Conv3D(64, kernel_size=(3, 3, 3), activation='relu', padding='same'))\n",
    "model.add(MaxPooling3D(pool_size=(2, 2, 2), padding='same'))\n",
    "# model.add(BatchNormalization())\n",
    "\n",
    "# Global Average Pooling instead of Flatten to reduce the parameter count\n",
    "model.add(GlobalAveragePooling3D())\n",
    "\n",
    "# Fully connected layer with dropout for regularization\n",
    "model.add(Dense(128, activation='relu'))\n",
    "# model.add(Dropout(0.3))\n",
    "\n",
    "# Output layer with softmax for multi-class classification\n",
    "model.add(Dense(num_classes, activation='softmax'))"
   ]
  },
  {
   "cell_type": "markdown",
   "metadata": {},
   "source": [
    "Now that you have written the model, the next step is to `compile` the model. When you print the `summary` of the model, you'll see the total number of parameters you have to train."
   ]
  },
  {
   "cell_type": "code",
   "execution_count": 9,
   "metadata": {},
   "outputs": [
    {
     "name": "stdout",
     "output_type": "stream",
     "text": [
      "Model: \"sequential\"\n",
      "_________________________________________________________________\n",
      " Layer (type)                Output Shape              Param #   \n",
      "=================================================================\n",
      " conv3d (Conv3D)             (None, 16, 224, 224, 16)  1312      \n",
      "                                                                 \n",
      " max_pooling3d (MaxPooling3D  (None, 8, 112, 112, 16)  0         \n",
      " )                                                               \n",
      "                                                                 \n",
      " conv3d_1 (Conv3D)           (None, 8, 112, 112, 32)   13856     \n",
      "                                                                 \n",
      " max_pooling3d_1 (MaxPooling  (None, 4, 56, 56, 32)    0         \n",
      " 3D)                                                             \n",
      "                                                                 \n",
      " conv3d_2 (Conv3D)           (None, 4, 56, 56, 64)     55360     \n",
      "                                                                 \n",
      " max_pooling3d_2 (MaxPooling  (None, 2, 28, 28, 64)    0         \n",
      " 3D)                                                             \n",
      "                                                                 \n",
      " global_average_pooling3d (G  (None, 64)               0         \n",
      " lobalAveragePooling3D)                                          \n",
      "                                                                 \n",
      " dense (Dense)               (None, 128)               8320      \n",
      "                                                                 \n",
      " dense_1 (Dense)             (None, 5)                 645       \n",
      "                                                                 \n",
      "=================================================================\n",
      "Total params: 79,493\n",
      "Trainable params: 79,493\n",
      "Non-trainable params: 0\n",
      "_________________________________________________________________\n",
      "None\n"
     ]
    }
   ],
   "source": [
    "optimiser = tf.keras.optimizers.Adam() #write your optimizer\n",
    "model.compile(optimizer=optimiser, loss='categorical_crossentropy', metrics=['categorical_accuracy'])\n",
    "print (model.summary())"
   ]
  },
  {
   "cell_type": "markdown",
   "metadata": {},
   "source": [
    "Let us create the `train_generator` and the `val_generator` which will be used in `.fit_generator`."
   ]
  },
  {
   "cell_type": "code",
   "execution_count": 10,
   "metadata": {},
   "outputs": [],
   "source": [
    "train_generator = generator(train_path, train_doc, batch_size)\n",
    "val_generator = generator(val_path, val_doc, batch_size)"
   ]
  },
  {
   "cell_type": "code",
   "execution_count": 11,
   "metadata": {},
   "outputs": [],
   "source": [
    "model_name = 'model_init' + '_' + str(curr_dt_time).replace(' ','').replace(':','_') + '/'\n",
    "    \n",
    "if not os.path.exists(model_name):\n",
    "    os.mkdir(model_name)\n",
    "        \n",
    "filepath = model_name + 'model-{epoch:05d}-{loss:.5f}-{categorical_accuracy:.5f}-{val_loss:.5f}-{val_categorical_accuracy:.5f}.keras'\n",
    "\n",
    "checkpoint = ModelCheckpoint(filepath, monitor='val_loss', verbose=1, save_best_only=False, save_weights_only=False, mode='auto')\n",
    "\n",
    "LR = tf.keras.callbacks.ReduceLROnPlateau(\n",
    "    monitor=\"val_loss\",\n",
    "    verbose=1,\n",
    "    mode=\"auto\"\n",
    ") # write the REducelronplateau code here\n",
    "callbacks_list = [checkpoint, LR]"
   ]
  },
  {
   "cell_type": "markdown",
   "metadata": {},
   "source": [
    "The `steps_per_epoch` and `validation_steps` are used by `fit_generator` to decide the number of next() calls it need to make."
   ]
  },
  {
   "cell_type": "code",
   "execution_count": 12,
   "metadata": {},
   "outputs": [],
   "source": [
    "if (num_train_sequences%batch_size) == 0:\n",
    "    steps_per_epoch = int(num_train_sequences/batch_size)\n",
    "else:\n",
    "    steps_per_epoch = (num_train_sequences//batch_size) + 1\n",
    "\n",
    "if (num_val_sequences%batch_size) == 0:\n",
    "    validation_steps = int(num_val_sequences/batch_size)\n",
    "else:\n",
    "    validation_steps = (num_val_sequences//batch_size) + 1"
   ]
  },
  {
   "cell_type": "markdown",
   "metadata": {},
   "source": [
    "Let us now fit the model. This will start training the model and with the help of the checkpoints, you'll be able to save the model at the end of each epoch."
   ]
  },
  {
   "cell_type": "code",
   "execution_count": 13,
   "metadata": {},
   "outputs": [
    {
     "name": "stdout",
     "output_type": "stream",
     "text": [
      "Source path =  ./datasets/Project_data/train ; batch size = 30\n",
      "Epoch 1/30\n"
     ]
    },
    {
     "name": "stderr",
     "output_type": "stream",
     "text": [
      "2024-11-04 03:41:16.759758: I tensorflow/stream_executor/cuda/cuda_dnn.cc:377] Loaded cuDNN version 8302\n"
     ]
    },
    {
     "name": "stdout",
     "output_type": "stream",
     "text": [
      "23/23 [==============================] - ETA: 0s - loss: 1.6079 - categorical_accuracy: 0.2066Source path =  ./datasets/Project_data/val ; batch size = 30\n",
      "\n",
      "Epoch 00001: saving model to model_init_2024-11-0403_41_11.443234/model-00001-1.60790-0.20664-1.58690-0.23000.keras\n",
      "23/23 [==============================] - 78s 3s/step - loss: 1.6079 - categorical_accuracy: 0.2066 - val_loss: 1.5869 - val_categorical_accuracy: 0.2300 - lr: 0.0010\n",
      "Epoch 2/30\n",
      "23/23 [==============================] - ETA: 0s - loss: 1.5789 - categorical_accuracy: 0.2081\n",
      "Epoch 00002: saving model to model_init_2024-11-0403_41_11.443234/model-00002-1.57893-0.20814-1.52826-0.24000.keras\n",
      "23/23 [==============================] - 75s 3s/step - loss: 1.5789 - categorical_accuracy: 0.2081 - val_loss: 1.5283 - val_categorical_accuracy: 0.2400 - lr: 0.0010\n",
      "Epoch 3/30\n",
      "23/23 [==============================] - ETA: 0s - loss: 1.5239 - categorical_accuracy: 0.2775\n",
      "Epoch 00003: saving model to model_init_2024-11-0403_41_11.443234/model-00003-1.52393-0.27753-1.41915-0.36000.keras\n",
      "23/23 [==============================] - 74s 3s/step - loss: 1.5239 - categorical_accuracy: 0.2775 - val_loss: 1.4191 - val_categorical_accuracy: 0.3600 - lr: 0.0010\n",
      "Epoch 4/30\n",
      "22/23 [===========================>..] - ETA: 2s - loss: 1.4781 - categorical_accuracy: 0.3364\n",
      "Epoch 00004: saving model to model_init_2024-11-0403_41_11.443234/model-00004-1.47771-0.33635-1.34350-0.48000.keras\n",
      "23/23 [==============================] - 73s 3s/step - loss: 1.4777 - categorical_accuracy: 0.3363 - val_loss: 1.3435 - val_categorical_accuracy: 0.4800 - lr: 0.0010\n",
      "Epoch 5/30\n",
      "22/23 [===========================>..] - ETA: 2s - loss: 1.4344 - categorical_accuracy: 0.3424\n",
      "Epoch 00005: saving model to model_init_2024-11-0403_41_11.443234/model-00005-1.43570-0.34087-1.26941-0.44000.keras\n",
      "23/23 [==============================] - 75s 3s/step - loss: 1.4357 - categorical_accuracy: 0.3409 - val_loss: 1.2694 - val_categorical_accuracy: 0.4400 - lr: 0.0010\n",
      "Epoch 6/30\n",
      "22/23 [===========================>..] - ETA: 2s - loss: 1.4030 - categorical_accuracy: 0.3803\n",
      "Epoch 00006: saving model to model_init_2024-11-0403_41_11.443234/model-00006-1.40310-0.38160-1.32941-0.34000.keras\n",
      "23/23 [==============================] - 74s 3s/step - loss: 1.4031 - categorical_accuracy: 0.3816 - val_loss: 1.3294 - val_categorical_accuracy: 0.3400 - lr: 0.0010\n",
      "Epoch 7/30\n",
      "23/23 [==============================] - ETA: 0s - loss: 1.4002 - categorical_accuracy: 0.3605\n",
      "Epoch 00007: saving model to model_init_2024-11-0403_41_11.443234/model-00007-1.40020-0.36048-1.22356-0.43000.keras\n",
      "23/23 [==============================] - 76s 3s/step - loss: 1.4002 - categorical_accuracy: 0.3605 - val_loss: 1.2236 - val_categorical_accuracy: 0.4300 - lr: 0.0010\n",
      "Epoch 8/30\n",
      "22/23 [===========================>..] - ETA: 2s - loss: 1.3555 - categorical_accuracy: 0.3909\n",
      "Epoch 00008: saving model to model_init_2024-11-0403_41_11.443234/model-00008-1.35563-0.39216-1.22488-0.46000.keras\n",
      "23/23 [==============================] - 73s 3s/step - loss: 1.3556 - categorical_accuracy: 0.3922 - val_loss: 1.2249 - val_categorical_accuracy: 0.4600 - lr: 0.0010\n",
      "Epoch 9/30\n",
      "22/23 [===========================>..] - ETA: 2s - loss: 1.3332 - categorical_accuracy: 0.3864\n",
      "Epoch 00009: saving model to model_init_2024-11-0403_41_11.443234/model-00009-1.33498-0.38462-1.17859-0.50000.keras\n",
      "23/23 [==============================] - 75s 3s/step - loss: 1.3350 - categorical_accuracy: 0.3846 - val_loss: 1.1786 - val_categorical_accuracy: 0.5000 - lr: 0.0010\n",
      "Epoch 10/30\n",
      "22/23 [===========================>..] - ETA: 2s - loss: 1.3635 - categorical_accuracy: 0.3894\n",
      "Epoch 00010: saving model to model_init_2024-11-0403_41_11.443234/model-00010-1.36319-0.38914-1.21729-0.45000.keras\n",
      "23/23 [==============================] - 75s 3s/step - loss: 1.3632 - categorical_accuracy: 0.3891 - val_loss: 1.2173 - val_categorical_accuracy: 0.4500 - lr: 0.0010\n",
      "Epoch 11/30\n",
      "22/23 [===========================>..] - ETA: 2s - loss: 1.3174 - categorical_accuracy: 0.3970\n",
      "Epoch 00011: saving model to model_init_2024-11-0403_41_11.443234/model-00011-1.31647-0.39819-1.17395-0.54000.keras\n",
      "23/23 [==============================] - 75s 3s/step - loss: 1.3165 - categorical_accuracy: 0.3982 - val_loss: 1.1739 - val_categorical_accuracy: 0.5400 - lr: 0.0010\n",
      "Epoch 12/30\n",
      "22/23 [===========================>..] - ETA: 2s - loss: 1.2744 - categorical_accuracy: 0.4288\n",
      "Epoch 00012: saving model to model_init_2024-11-0403_41_11.443234/model-00012-1.27614-0.42685-1.12304-0.50000.keras\n",
      "23/23 [==============================] - 73s 3s/step - loss: 1.2761 - categorical_accuracy: 0.4268 - val_loss: 1.1230 - val_categorical_accuracy: 0.5000 - lr: 0.0010\n",
      "Epoch 13/30\n",
      "23/23 [==============================] - ETA: 0s - loss: 1.2471 - categorical_accuracy: 0.4359\n",
      "Epoch 00013: saving model to model_init_2024-11-0403_41_11.443234/model-00013-1.24707-0.43590-1.08793-0.54000.keras\n",
      "23/23 [==============================] - 76s 3s/step - loss: 1.2471 - categorical_accuracy: 0.4359 - val_loss: 1.0879 - val_categorical_accuracy: 0.5400 - lr: 0.0010\n",
      "Epoch 14/30\n",
      "23/23 [==============================] - ETA: 0s - loss: 1.2574 - categorical_accuracy: 0.4133\n",
      "Epoch 00014: saving model to model_init_2024-11-0403_41_11.443234/model-00014-1.25743-0.41327-1.05061-0.56000.keras\n",
      "23/23 [==============================] - 75s 3s/step - loss: 1.2574 - categorical_accuracy: 0.4133 - val_loss: 1.0506 - val_categorical_accuracy: 0.5600 - lr: 0.0010\n",
      "Epoch 15/30\n",
      "23/23 [==============================] - ETA: 0s - loss: 1.2174 - categorical_accuracy: 0.4344\n",
      "Epoch 00015: saving model to model_init_2024-11-0403_41_11.443234/model-00015-1.21740-0.43439-1.16389-0.41000.keras\n",
      "23/23 [==============================] - 77s 3s/step - loss: 1.2174 - categorical_accuracy: 0.4344 - val_loss: 1.1639 - val_categorical_accuracy: 0.4100 - lr: 0.0010\n",
      "Epoch 16/30\n",
      "22/23 [===========================>..] - ETA: 2s - loss: 1.2256 - categorical_accuracy: 0.4167\n",
      "Epoch 00016: saving model to model_init_2024-11-0403_41_11.443234/model-00016-1.22480-0.41629-1.13696-0.46000.keras\n",
      "23/23 [==============================] - 73s 3s/step - loss: 1.2248 - categorical_accuracy: 0.4163 - val_loss: 1.1370 - val_categorical_accuracy: 0.4600 - lr: 0.0010\n",
      "Epoch 17/30\n",
      "22/23 [===========================>..] - ETA: 2s - loss: 1.1747 - categorical_accuracy: 0.4273\n",
      "Epoch 00017: saving model to model_init_2024-11-0403_41_11.443234/model-00017-1.17505-0.42685-1.02095-0.54000.keras\n",
      "23/23 [==============================] - 75s 3s/step - loss: 1.1750 - categorical_accuracy: 0.4268 - val_loss: 1.0209 - val_categorical_accuracy: 0.5400 - lr: 0.0010\n",
      "Epoch 18/30\n",
      "23/23 [==============================] - ETA: 0s - loss: 1.1842 - categorical_accuracy: 0.4344\n",
      "Epoch 00018: saving model to model_init_2024-11-0403_41_11.443234/model-00018-1.18417-0.43439-1.01189-0.67000.keras\n",
      "23/23 [==============================] - 75s 3s/step - loss: 1.1842 - categorical_accuracy: 0.4344 - val_loss: 1.0119 - val_categorical_accuracy: 0.6700 - lr: 0.0010\n",
      "Epoch 19/30\n",
      "22/23 [===========================>..] - ETA: 2s - loss: 1.1790 - categorical_accuracy: 0.4409\n",
      "Epoch 00019: saving model to model_init_2024-11-0403_41_11.443234/model-00019-1.18032-0.44042-0.97768-0.52000.keras\n",
      "23/23 [==============================] - 76s 3s/step - loss: 1.1803 - categorical_accuracy: 0.4404 - val_loss: 0.9777 - val_categorical_accuracy: 0.5200 - lr: 0.0010\n",
      "Epoch 20/30\n",
      "22/23 [===========================>..] - ETA: 2s - loss: 1.1374 - categorical_accuracy: 0.4667\n",
      "Epoch 00020: saving model to model_init_2024-11-0403_41_11.443234/model-00020-1.13672-0.46908-1.03367-0.57000.keras\n",
      "23/23 [==============================] - 73s 3s/step - loss: 1.1367 - categorical_accuracy: 0.4691 - val_loss: 1.0337 - val_categorical_accuracy: 0.5700 - lr: 0.0010\n",
      "Epoch 21/30\n",
      "22/23 [===========================>..] - ETA: 2s - loss: 1.1196 - categorical_accuracy: 0.4758\n",
      "Epoch 00021: saving model to model_init_2024-11-0403_41_11.443234/model-00021-1.11971-0.47662-0.98325-0.65000.keras\n",
      "23/23 [==============================] - 75s 3s/step - loss: 1.1197 - categorical_accuracy: 0.4766 - val_loss: 0.9833 - val_categorical_accuracy: 0.6500 - lr: 0.0010\n",
      "Epoch 22/30\n",
      "22/23 [===========================>..] - ETA: 2s - loss: 1.0684 - categorical_accuracy: 0.5136\n",
      "Epoch 00022: saving model to model_init_2024-11-0403_41_11.443234/model-00022-1.06761-0.51433-0.96600-0.62000.keras\n",
      "23/23 [==============================] - 74s 3s/step - loss: 1.0676 - categorical_accuracy: 0.5143 - val_loss: 0.9660 - val_categorical_accuracy: 0.6200 - lr: 0.0010\n",
      "Epoch 23/30\n",
      "23/23 [==============================] - ETA: 0s - loss: 1.0413 - categorical_accuracy: 0.5294\n",
      "Epoch 00023: saving model to model_init_2024-11-0403_41_11.443234/model-00023-1.04126-0.52941-1.01181-0.54000.keras\n",
      "23/23 [==============================] - 75s 3s/step - loss: 1.0413 - categorical_accuracy: 0.5294 - val_loss: 1.0118 - val_categorical_accuracy: 0.5400 - lr: 0.0010\n",
      "Epoch 24/30\n",
      "22/23 [===========================>..] - ETA: 2s - loss: 1.0828 - categorical_accuracy: 0.4909\n",
      "Epoch 00024: saving model to model_init_2024-11-0403_41_11.443234/model-00024-1.07989-0.49321-0.92390-0.60000.keras\n",
      "23/23 [==============================] - 72s 3s/step - loss: 1.0799 - categorical_accuracy: 0.4932 - val_loss: 0.9239 - val_categorical_accuracy: 0.6000 - lr: 0.0010\n",
      "Epoch 25/30\n",
      "23/23 [==============================] - ETA: 0s - loss: 1.0014 - categorical_accuracy: 0.5294\n",
      "Epoch 00025: saving model to model_init_2024-11-0403_41_11.443234/model-00025-1.00136-0.52941-0.90473-0.63000.keras\n",
      "23/23 [==============================] - 74s 3s/step - loss: 1.0014 - categorical_accuracy: 0.5294 - val_loss: 0.9047 - val_categorical_accuracy: 0.6300 - lr: 0.0010\n",
      "Epoch 26/30\n",
      "23/23 [==============================] - ETA: 0s - loss: 1.0054 - categorical_accuracy: 0.5551\n",
      "Epoch 00026: saving model to model_init_2024-11-0403_41_11.443234/model-00026-1.00542-0.55505-0.98752-0.55000.keras\n",
      "23/23 [==============================] - 74s 3s/step - loss: 1.0054 - categorical_accuracy: 0.5551 - val_loss: 0.9875 - val_categorical_accuracy: 0.5500 - lr: 0.0010\n",
      "Epoch 27/30\n",
      "22/23 [===========================>..] - ETA: 2s - loss: 1.0479 - categorical_accuracy: 0.5182\n",
      "Epoch 00027: saving model to model_init_2024-11-0403_41_11.443234/model-00027-1.04737-0.51584-0.85122-0.69000.keras\n",
      "23/23 [==============================] - 75s 3s/step - loss: 1.0474 - categorical_accuracy: 0.5158 - val_loss: 0.8512 - val_categorical_accuracy: 0.6900 - lr: 0.0010\n",
      "Epoch 28/30\n",
      "22/23 [===========================>..] - ETA: 2s - loss: 0.9362 - categorical_accuracy: 0.5697\n",
      "Epoch 00028: saving model to model_init_2024-11-0403_41_11.443234/model-00028-0.93678-0.57014-0.82291-0.71000.keras\n",
      "23/23 [==============================] - 72s 3s/step - loss: 0.9368 - categorical_accuracy: 0.5701 - val_loss: 0.8229 - val_categorical_accuracy: 0.7100 - lr: 0.0010\n",
      "Epoch 29/30\n",
      "23/23 [==============================] - ETA: 0s - loss: 0.9244 - categorical_accuracy: 0.5792\n",
      "Epoch 00029: saving model to model_init_2024-11-0403_41_11.443234/model-00029-0.92442-0.57919-0.84154-0.61000.keras\n",
      "23/23 [==============================] - 74s 3s/step - loss: 0.9244 - categorical_accuracy: 0.5792 - val_loss: 0.8415 - val_categorical_accuracy: 0.6100 - lr: 0.0010\n",
      "Epoch 30/30\n",
      "22/23 [===========================>..] - ETA: 2s - loss: 0.9978 - categorical_accuracy: 0.5273\n",
      "Epoch 00030: saving model to model_init_2024-11-0403_41_11.443234/model-00030-0.99924-0.52640-0.85681-0.60000.keras\n",
      "23/23 [==============================] - 75s 3s/step - loss: 0.9992 - categorical_accuracy: 0.5264 - val_loss: 0.8568 - val_categorical_accuracy: 0.6000 - lr: 0.0010\n"
     ]
    },
    {
     "data": {
      "text/plain": [
       "<keras.callbacks.History at 0x7f44c430f8b0>"
      ]
     },
     "execution_count": 13,
     "metadata": {},
     "output_type": "execute_result"
    }
   ],
   "source": [
    "model.fit(train_generator, steps_per_epoch=steps_per_epoch, epochs=num_epochs, verbose=1, \n",
    "                    callbacks=callbacks_list, validation_data=val_generator, \n",
    "                    validation_steps=validation_steps, class_weight=None, initial_epoch=0)"
   ]
  },
  {
   "cell_type": "code",
   "execution_count": null,
   "metadata": {},
   "outputs": [],
   "source": []
  }
 ],
 "metadata": {
  "kernelspec": {
   "display_name": "Python 3 (ipykernel)",
   "language": "python",
   "name": "python3"
  },
  "language_info": {
   "codemirror_mode": {
    "name": "ipython",
    "version": 3
   },
   "file_extension": ".py",
   "mimetype": "text/x-python",
   "name": "python",
   "nbconvert_exporter": "python",
   "pygments_lexer": "ipython3",
   "version": "3.12.4"
  }
 },
 "nbformat": 4,
 "nbformat_minor": 4
}
