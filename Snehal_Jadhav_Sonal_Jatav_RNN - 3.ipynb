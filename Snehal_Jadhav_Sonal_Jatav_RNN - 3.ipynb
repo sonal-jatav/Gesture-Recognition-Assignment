{
 "cells": [
  {
   "cell_type": "markdown",
   "metadata": {},
   "source": [
    "# Gesture Recognition Assignment\n",
    "\n",
    "### Objective:\n",
    "\n",
    "Experiment with models, trainable parameters, hyperparameters to derive appropriate model to recognize a model with minimized loss and higher accuracy.\n",
    "\n",
    "---\n",
    "#### Steps\n",
    "---\n",
    "\n",
    "1. Preprocess data\n",
    "2. Standardize videos\n",
    "3. Use generator function to generate training and validation data\n",
    "4. Model selection [experiment to derive appropriate model]\n",
    "5. a. CNN + RNN LSTM\n",
    "6. b. 3D Convolution n/w\n",
    "7. Derive Loss and accuracy of different models\n",
    "8. Condense training time\n",
    "9. Derive appropriate trainable parameters - i/p weights and biases, o/p weights and biases\n",
    "10. Derive appropriate hyperparameters - no. of epochs, batch_size, learning rate, optimizer"
   ]
  },
  {
   "cell_type": "code",
   "execution_count": 1,
   "metadata": {},
   "outputs": [],
   "source": [
    "import numpy as np\n",
    "import os\n",
    "from skimage.transform import resize\n",
    "from imageio import imread\n",
    "import datetime\n",
    "import os"
   ]
  },
  {
   "cell_type": "markdown",
   "metadata": {},
   "source": [
    "We set the random seed so that the results don't vary drastically."
   ]
  },
  {
   "cell_type": "code",
   "execution_count": 2,
   "metadata": {},
   "outputs": [],
   "source": [
    "np.random.seed(30)\n",
    "import random as rn\n",
    "rn.seed(30)\n",
    "from keras import backend as K\n",
    "import tensorflow as tf\n",
    "tf.random.set_seed(30)"
   ]
  },
  {
   "cell_type": "markdown",
   "metadata": {},
   "source": [
    "In this block, you read the folder names for training and validation. You also set the `batch_size` here. Note that you set the batch size in such a way that you are able to use the GPU in full capacity. You keep increasing the batch size until the machine throws an error."
   ]
  },
  {
   "cell_type": "code",
   "execution_count": 3,
   "metadata": {},
   "outputs": [],
   "source": [
    "train_doc = np.random.permutation(open('./datasets/Project_data/train.csv').readlines())\n",
    "val_doc = np.random.permutation(open('./datasets/Project_data/val.csv').readlines())\n",
    "batch_size = 10 #experiment with the batch size\n",
    "y, z = (224, 224)"
   ]
  },
  {
   "cell_type": "code",
   "execution_count": 4,
   "metadata": {},
   "outputs": [],
   "source": [
    "# Resize images witth padding, so we do not lose the aspect ratio\n",
    "def preprocess_image_with_padding(image, target_size=(360, 360)):\n",
    "    # Calculate the scaling factor to resize image while maintaining aspect ratio\n",
    "    old_size = image.shape[:2]  # Original size (height, width)\n",
    "    ratio = min(target_size[0] / old_size[0], target_size[1] / old_size[1])\n",
    "    new_size = (int(old_size[0] * ratio), int(old_size[1] * ratio))\n",
    "    \n",
    "    # Resize the image with the calculated new size\n",
    "    image_resized = resize(image, new_size, anti_aliasing=True)\n",
    "    \n",
    "    # Create a new image array with the target size, filled with black (0) padding\n",
    "    padded_image = np.zeros((target_size[0], target_size[1], 3))\n",
    "    \n",
    "    # Place the resized image in the center of the padded image\n",
    "    pad_top = (target_size[0] - new_size[0]) // 2\n",
    "    pad_left = (target_size[1] - new_size[1]) // 2\n",
    "    padded_image[pad_top:pad_top+new_size[0], pad_left:pad_left+new_size[1], :] = image_resized\n",
    "    \n",
    "    return padded_image"
   ]
  },
  {
   "cell_type": "markdown",
   "metadata": {},
   "source": [
    "## Generator\n",
    "This is one of the most important part of the code. The overall structure of the generator has been given. In the generator, you are going to preprocess the images as you have images of 2 different dimensions as well as create a batch of video frames. You have to experiment with `img_idx`, `y`,`z` and normalization such that you get high accuracy."
   ]
  },
  {
   "cell_type": "code",
   "execution_count": 5,
   "metadata": {},
   "outputs": [],
   "source": [
    "def generator(source_path, folder_list, batch_size):\n",
    "    print('Source path = ', source_path, '; batch size =', batch_size)\n",
    "    \n",
    "    # Create a list of specific image indices you want to use for each video.\n",
    "    img_idx = [0, 2, 4, 6, 8, 10, 12, 14, 16, 18]  # Example: Using 10 frames from each video, adjust as needed\n",
    "    \n",
    "    while True:\n",
    "        # Shuffle the list of folders randomly to ensure that the training is not biased by the order of folders.\n",
    "        t = np.random.permutation(folder_list)\n",
    "        \n",
    "        # Calculate the number of batches per epoch.\n",
    "        num_batches = len(folder_list) // batch_size  # Ensuring that we have full batches only\n",
    "        \n",
    "        for batch in range(num_batches):  # We iterate over the number of batches\n",
    "            # Initialize batch data array with zeros\n",
    "            # batch_data has shape (batch_size, #frames, height, width, #channels)\n",
    "            batch_data = np.zeros((batch_size, len(img_idx), y, z, 3))  # Replace `y` and `z` with image height and width\n",
    "            batch_labels = np.zeros((batch_size, 5))  # Assuming 5 classes for one-hot encoded labels\n",
    "            \n",
    "            for folder in range(batch_size):  # Iterate over each item in the batch\n",
    "                # Get the list of images in the folder corresponding to the shuffled list\n",
    "                imgs = os.listdir(source_path + '/' + t[folder + (batch * batch_size)].split(';')[0])\n",
    "                \n",
    "                for idx, item in enumerate(img_idx):  # Iterate over the selected frames for the video\n",
    "                    # Read each specified image for the current folder\n",
    "                    image = imread(source_path + '/' + t[folder + (batch * batch_size)].strip().split(';')[0] + '/' + imgs[item]).astype(np.float32)\n",
    "                    \n",
    "                    # Crop the images and resize them to (y, z) so that all images have the same shape\n",
    "                    image = preprocess_image_with_padding(image, (y, z))\n",
    "                    # Normalize and store the image into the batch_data array\n",
    "                    batch_data[folder, idx, :, :, 0] = (image[:, :, 0] / 255.0)  # Normalizing the R channel\n",
    "                    batch_data[folder, idx, :, :, 1] = (image[:, :, 1] / 255.0)  # Normalizing the G channel\n",
    "                    batch_data[folder, idx, :, :, 2] = (image[:, :, 2] / 255.0)  # Normalizing the B channel\n",
    "                \n",
    "                # One-hot encode the label for the current folder\n",
    "                batch_labels[folder, int(t[folder + (batch * batch_size)].strip().split(';')[2])] = 1\n",
    "            \n",
    "            # Yield a batch of data and labels. Yielding allows the function to generate batches as needed during training.\n",
    "            yield batch_data, batch_labels\n",
    "\n",
    "        # Handle any remaining data that doesn't fit into a complete batch\n",
    "        remaining = len(folder_list) % batch_size\n",
    "        if remaining > 0:\n",
    "            # Prepare batch data and labels for the remaining samples\n",
    "            batch_data = np.zeros((remaining, len(img_idx), y, z, 3))\n",
    "            batch_labels = np.zeros((remaining, 5))\n",
    "            \n",
    "            for folder in range(remaining):\n",
    "                imgs = os.listdir(source_path + '/' + t[folder + (num_batches * batch_size)].split(';')[0])\n",
    "                \n",
    "                for idx, item in enumerate(img_idx):\n",
    "                    image = imread(source_path + '/' + t[folder + (num_batches * batch_size)].strip().split(';')[0] + '/' + imgs[item]).astype(np.float32)\n",
    "                    \n",
    "                    # Crop the images and resize them to (y, z) so that all images have the same shape\n",
    "                    image = preprocess_image_with_padding(image, (y, z))\n",
    "\n",
    "                    # Normalize and store the image into the batch_data array\n",
    "                    batch_data[folder, idx, :, :, 0] = (image[:, :, 0] / 255.0)\n",
    "                    batch_data[folder, idx, :, :, 1] = (image[:, :, 1] / 255.0)\n",
    "                    batch_data[folder, idx, :, :, 2] = (image[:, :, 2] / 255.0)\n",
    "                \n",
    "                batch_labels[folder, int(t[folder + (num_batches * batch_size)].strip().split(';')[2])] = 1\n",
    "            \n",
    "            yield batch_data, batch_labels"
   ]
  },
  {
   "cell_type": "markdown",
   "metadata": {},
   "source": [
    "Note here that a video is represented above in the generator as (number of images, height, width, number of channels). Take this into consideration while creating the model architecture."
   ]
  },
  {
   "cell_type": "code",
   "execution_count": 6,
   "metadata": {},
   "outputs": [
    {
     "name": "stdout",
     "output_type": "stream",
     "text": [
      "# training sequences = 663\n",
      "# validation sequences = 100\n",
      "# epochs = 50\n"
     ]
    }
   ],
   "source": [
    "curr_dt_time = datetime.datetime.now()\n",
    "train_path = './datasets/Project_data/train'\n",
    "val_path = './datasets/Project_data/val'\n",
    "num_train_sequences = len(train_doc)\n",
    "print('# training sequences =', num_train_sequences)\n",
    "num_val_sequences = len(val_doc)\n",
    "print('# validation sequences =', num_val_sequences)\n",
    "num_epochs = 50 # choose the number of epochs\n",
    "print ('# epochs =', num_epochs)"
   ]
  },
  {
   "cell_type": "markdown",
   "metadata": {},
   "source": [
    "## Model\n",
    "Here you make the model using different functionalities that Keras provides. Remember to use `Conv3D` and `MaxPooling3D` and not `Conv2D` and `Maxpooling2D` for a 3D convolution model. You would want to use `TimeDistributed` while building a Conv2D + RNN model. Also remember that the last layer is the softmax. Design the network in such a way that the model is able to give good accuracy on the least number of parameters so that it can fit in the memory of the webcam."
   ]
  },
  {
   "cell_type": "code",
   "execution_count": 7,
   "metadata": {},
   "outputs": [],
   "source": [
    "from keras.models import Sequential, Model\n",
    "from keras.layers import Dense, GRU, Flatten, TimeDistributed, Flatten, BatchNormalization, Activation, GlobalAveragePooling3D\n",
    "from keras.layers import Conv3D, MaxPooling3D\n",
    "from keras.callbacks import ModelCheckpoint, ReduceLROnPlateau\n",
    "from keras import optimizers\n"
   ]
  },
  {
   "cell_type": "code",
   "execution_count": 8,
   "metadata": {},
   "outputs": [
    {
     "name": "stderr",
     "output_type": "stream",
     "text": [
      "2024-11-04 04:42:14.239470: W tensorflow/core/common_runtime/gpu/gpu_bfc_allocator.cc:39] Overriding allow_growth setting because the TF_FORCE_GPU_ALLOW_GROWTH environment variable is set. Original config value was 0.\n",
      "2024-11-04 04:42:14.239534: I tensorflow/core/common_runtime/gpu/gpu_device.cc:1525] Created device /job:localhost/replica:0/task:0/device:GPU:0 with 14800 MB memory:  -> device: 0, name: Quadro RTX 5000, pci bus id: 0000:40:00.0, compute capability: 7.5\n"
     ]
    }
   ],
   "source": [
    "# Model parameters\n",
    "input_shape = (16, 224, 224, 3)  # Example: (frames, height, width, channels)\n",
    "num_classes = 5  # Adjust this based on the number of gesture classes\n",
    "\n",
    "model = Sequential()\n",
    "\n",
    "# First 3D Convolutional layer\n",
    "model.add(Conv3D(16, kernel_size=(3, 3, 3), activation='relu', input_shape=input_shape, padding='same'))\n",
    "model.add(MaxPooling3D(pool_size=(2, 2, 2), padding='same'))\n",
    "model.add(BatchNormalization())\n",
    "\n",
    "# Second 3D Convolutional layer\n",
    "model.add(Conv3D(32, kernel_size=(3, 3, 3), activation='relu', padding='same'))\n",
    "model.add(MaxPooling3D(pool_size=(2, 2, 2), padding='same'))\n",
    "model.add(BatchNormalization())\n",
    "\n",
    "# Third 3D Convolutional layer \n",
    "model.add(Conv3D(64, kernel_size=(3, 3, 3), activation='relu', padding='same'))\n",
    "model.add(MaxPooling3D(pool_size=(2, 2, 2), padding='same'))\n",
    "model.add(BatchNormalization())\n",
    "\n",
    "# Global Average Pooling instead of Flatten to reduce the parameter count\n",
    "model.add(GlobalAveragePooling3D())\n",
    "\n",
    "# Fully connected layer with dropout for regularization\n",
    "model.add(Dense(128, activation='relu'))\n",
    "# model.add(Dropout(0.3))\n",
    "\n",
    "# Output layer with softmax for multi-class classification\n",
    "model.add(Dense(num_classes, activation='softmax'))"
   ]
  },
  {
   "cell_type": "markdown",
   "metadata": {},
   "source": [
    "Now that you have written the model, the next step is to `compile` the model. When you print the `summary` of the model, you'll see the total number of parameters you have to train."
   ]
  },
  {
   "cell_type": "code",
   "execution_count": 9,
   "metadata": {},
   "outputs": [
    {
     "name": "stdout",
     "output_type": "stream",
     "text": [
      "Model: \"sequential\"\n",
      "_________________________________________________________________\n",
      " Layer (type)                Output Shape              Param #   \n",
      "=================================================================\n",
      " conv3d (Conv3D)             (None, 16, 224, 224, 16)  1312      \n",
      "                                                                 \n",
      " max_pooling3d (MaxPooling3D  (None, 8, 112, 112, 16)  0         \n",
      " )                                                               \n",
      "                                                                 \n",
      " batch_normalization (BatchN  (None, 8, 112, 112, 16)  64        \n",
      " ormalization)                                                   \n",
      "                                                                 \n",
      " conv3d_1 (Conv3D)           (None, 8, 112, 112, 32)   13856     \n",
      "                                                                 \n",
      " max_pooling3d_1 (MaxPooling  (None, 4, 56, 56, 32)    0         \n",
      " 3D)                                                             \n",
      "                                                                 \n",
      " batch_normalization_1 (Batc  (None, 4, 56, 56, 32)    128       \n",
      " hNormalization)                                                 \n",
      "                                                                 \n",
      " conv3d_2 (Conv3D)           (None, 4, 56, 56, 64)     55360     \n",
      "                                                                 \n",
      " max_pooling3d_2 (MaxPooling  (None, 2, 28, 28, 64)    0         \n",
      " 3D)                                                             \n",
      "                                                                 \n",
      " batch_normalization_2 (Batc  (None, 2, 28, 28, 64)    256       \n",
      " hNormalization)                                                 \n",
      "                                                                 \n",
      " global_average_pooling3d (G  (None, 64)               0         \n",
      " lobalAveragePooling3D)                                          \n",
      "                                                                 \n",
      " dense (Dense)               (None, 128)               8320      \n",
      "                                                                 \n",
      " dense_1 (Dense)             (None, 5)                 645       \n",
      "                                                                 \n",
      "=================================================================\n",
      "Total params: 79,941\n",
      "Trainable params: 79,717\n",
      "Non-trainable params: 224\n",
      "_________________________________________________________________\n",
      "None\n"
     ]
    }
   ],
   "source": [
    "optimiser = tf.keras.optimizers.Adam() #write your optimizer\n",
    "model.compile(optimizer=optimiser, loss='categorical_crossentropy', metrics=['categorical_accuracy'])\n",
    "print (model.summary())"
   ]
  },
  {
   "cell_type": "markdown",
   "metadata": {},
   "source": [
    "Let us create the `train_generator` and the `val_generator` which will be used in `.fit_generator`."
   ]
  },
  {
   "cell_type": "code",
   "execution_count": 10,
   "metadata": {},
   "outputs": [],
   "source": [
    "train_generator = generator(train_path, train_doc, batch_size)\n",
    "val_generator = generator(val_path, val_doc, batch_size)"
   ]
  },
  {
   "cell_type": "code",
   "execution_count": 11,
   "metadata": {},
   "outputs": [],
   "source": [
    "model_name = 'model_init' + '_' + str(curr_dt_time).replace(' ','').replace(':','_') + '/'\n",
    "    \n",
    "if not os.path.exists(model_name):\n",
    "    os.mkdir(model_name)\n",
    "        \n",
    "filepath = model_name + 'model-{epoch:05d}-{loss:.5f}-{categorical_accuracy:.5f}-{val_loss:.5f}-{val_categorical_accuracy:.5f}.keras'\n",
    "\n",
    "checkpoint = ModelCheckpoint(filepath, monitor='val_loss', verbose=1, save_best_only=False, save_weights_only=False, mode='auto')\n",
    "\n",
    "LR = tf.keras.callbacks.ReduceLROnPlateau(\n",
    "    monitor=\"val_loss\",\n",
    "    verbose=1,\n",
    "    mode=\"auto\"\n",
    ") # write the REducelronplateau code here\n",
    "callbacks_list = [checkpoint, LR]"
   ]
  },
  {
   "cell_type": "markdown",
   "metadata": {},
   "source": [
    "The `steps_per_epoch` and `validation_steps` are used by `fit_generator` to decide the number of next() calls it need to make."
   ]
  },
  {
   "cell_type": "code",
   "execution_count": 12,
   "metadata": {},
   "outputs": [],
   "source": [
    "if (num_train_sequences%batch_size) == 0:\n",
    "    steps_per_epoch = int(num_train_sequences/batch_size)\n",
    "else:\n",
    "    steps_per_epoch = (num_train_sequences//batch_size) + 1\n",
    "\n",
    "if (num_val_sequences%batch_size) == 0:\n",
    "    validation_steps = int(num_val_sequences/batch_size)\n",
    "else:\n",
    "    validation_steps = (num_val_sequences//batch_size) + 1"
   ]
  },
  {
   "cell_type": "markdown",
   "metadata": {},
   "source": [
    "Let us now fit the model. This will start training the model and with the help of the checkpoints, you'll be able to save the model at the end of each epoch."
   ]
  },
  {
   "cell_type": "code",
   "execution_count": 13,
   "metadata": {},
   "outputs": [
    {
     "name": "stdout",
     "output_type": "stream",
     "text": [
      "Source path =  ./datasets/Project_data/train ; batch size = 10\n",
      "Epoch 1/50\n"
     ]
    },
    {
     "name": "stderr",
     "output_type": "stream",
     "text": [
      "2024-11-04 04:42:16.951567: I tensorflow/stream_executor/cuda/cuda_dnn.cc:377] Loaded cuDNN version 8302\n"
     ]
    },
    {
     "name": "stdout",
     "output_type": "stream",
     "text": [
      "67/67 [==============================] - ETA: 0s - loss: 1.2739 - categorical_accuracy: 0.4103Source path =  ./datasets/Project_data/val ; batch size = 10\n",
      "\n",
      "Epoch 00001: saving model to model_init_2024-11-0404_42_13.426141/model-00001-1.27386-0.41026-1.69487-0.24000.keras\n",
      "67/67 [==============================] - 80s 1s/step - loss: 1.2739 - categorical_accuracy: 0.4103 - val_loss: 1.6949 - val_categorical_accuracy: 0.2400 - lr: 0.0010\n",
      "Epoch 2/50\n",
      "67/67 [==============================] - ETA: 0s - loss: 1.0670 - categorical_accuracy: 0.5189\n",
      "Epoch 00002: saving model to model_init_2024-11-0404_42_13.426141/model-00002-1.06698-0.51885-4.24190-0.21000.keras\n",
      "67/67 [==============================] - 77s 1s/step - loss: 1.0670 - categorical_accuracy: 0.5189 - val_loss: 4.2419 - val_categorical_accuracy: 0.2100 - lr: 0.0010\n",
      "Epoch 3/50\n",
      "67/67 [==============================] - ETA: 0s - loss: 1.0281 - categorical_accuracy: 0.5535\n",
      "Epoch 00003: saving model to model_init_2024-11-0404_42_13.426141/model-00003-1.02810-0.55354-3.49820-0.25000.keras\n",
      "67/67 [==============================] - 77s 1s/step - loss: 1.0281 - categorical_accuracy: 0.5535 - val_loss: 3.4982 - val_categorical_accuracy: 0.2500 - lr: 0.0010\n",
      "Epoch 4/50\n",
      "67/67 [==============================] - ETA: 0s - loss: 0.9405 - categorical_accuracy: 0.6048\n",
      "Epoch 00004: saving model to model_init_2024-11-0404_42_13.426141/model-00004-0.94053-0.60483-4.09744-0.20000.keras\n",
      "67/67 [==============================] - 77s 1s/step - loss: 0.9405 - categorical_accuracy: 0.6048 - val_loss: 4.0974 - val_categorical_accuracy: 0.2000 - lr: 0.0010\n",
      "Epoch 5/50\n",
      "67/67 [==============================] - ETA: 0s - loss: 0.8828 - categorical_accuracy: 0.6229\n",
      "Epoch 00005: saving model to model_init_2024-11-0404_42_13.426141/model-00005-0.88285-0.62293-3.74376-0.20000.keras\n",
      "67/67 [==============================] - 77s 1s/step - loss: 0.8828 - categorical_accuracy: 0.6229 - val_loss: 3.7438 - val_categorical_accuracy: 0.2000 - lr: 0.0010\n",
      "Epoch 6/50\n",
      "67/67 [==============================] - ETA: 0s - loss: 0.9018 - categorical_accuracy: 0.6275\n",
      "Epoch 00006: saving model to model_init_2024-11-0404_42_13.426141/model-00006-0.90180-0.62745-2.29710-0.34000.keras\n",
      "67/67 [==============================] - 78s 1s/step - loss: 0.9018 - categorical_accuracy: 0.6275 - val_loss: 2.2971 - val_categorical_accuracy: 0.3400 - lr: 0.0010\n",
      "Epoch 7/50\n",
      "67/67 [==============================] - ETA: 0s - loss: 0.8244 - categorical_accuracy: 0.6606\n",
      "Epoch 00007: saving model to model_init_2024-11-0404_42_13.426141/model-00007-0.82436-0.66063-2.51166-0.19000.keras\n",
      "67/67 [==============================] - 77s 1s/step - loss: 0.8244 - categorical_accuracy: 0.6606 - val_loss: 2.5117 - val_categorical_accuracy: 0.1900 - lr: 0.0010\n",
      "Epoch 8/50\n",
      "67/67 [==============================] - ETA: 0s - loss: 0.7500 - categorical_accuracy: 0.6878\n",
      "Epoch 00008: saving model to model_init_2024-11-0404_42_13.426141/model-00008-0.75001-0.68778-1.87654-0.32000.keras\n",
      "67/67 [==============================] - 78s 1s/step - loss: 0.7500 - categorical_accuracy: 0.6878 - val_loss: 1.8765 - val_categorical_accuracy: 0.3200 - lr: 0.0010\n",
      "Epoch 9/50\n",
      "67/67 [==============================] - ETA: 0s - loss: 0.7368 - categorical_accuracy: 0.6983\n",
      "Epoch 00009: saving model to model_init_2024-11-0404_42_13.426141/model-00009-0.73677-0.69834-2.11560-0.39000.keras\n",
      "67/67 [==============================] - 76s 1s/step - loss: 0.7368 - categorical_accuracy: 0.6983 - val_loss: 2.1156 - val_categorical_accuracy: 0.3900 - lr: 0.0010\n",
      "Epoch 10/50\n",
      "67/67 [==============================] - ETA: 0s - loss: 0.7108 - categorical_accuracy: 0.7014\n",
      "Epoch 00010: saving model to model_init_2024-11-0404_42_13.426141/model-00010-0.71083-0.70136-0.74375-0.74000.keras\n",
      "67/67 [==============================] - 78s 1s/step - loss: 0.7108 - categorical_accuracy: 0.7014 - val_loss: 0.7437 - val_categorical_accuracy: 0.7400 - lr: 0.0010\n",
      "Epoch 11/50\n",
      "67/67 [==============================] - ETA: 0s - loss: 0.6750 - categorical_accuracy: 0.7074\n",
      "Epoch 00011: saving model to model_init_2024-11-0404_42_13.426141/model-00011-0.67500-0.70739-3.23899-0.37000.keras\n",
      "67/67 [==============================] - 79s 1s/step - loss: 0.6750 - categorical_accuracy: 0.7074 - val_loss: 3.2390 - val_categorical_accuracy: 0.3700 - lr: 0.0010\n",
      "Epoch 12/50\n",
      "67/67 [==============================] - ETA: 0s - loss: 0.6666 - categorical_accuracy: 0.7134\n",
      "Epoch 00012: saving model to model_init_2024-11-0404_42_13.426141/model-00012-0.66663-0.71342-0.99486-0.64000.keras\n",
      "67/67 [==============================] - 78s 1s/step - loss: 0.6666 - categorical_accuracy: 0.7134 - val_loss: 0.9949 - val_categorical_accuracy: 0.6400 - lr: 0.0010\n",
      "Epoch 13/50\n",
      "67/67 [==============================] - ETA: 0s - loss: 0.6830 - categorical_accuracy: 0.7119\n",
      "Epoch 00013: saving model to model_init_2024-11-0404_42_13.426141/model-00013-0.68298-0.71192-0.77155-0.71000.keras\n",
      "67/67 [==============================] - 78s 1s/step - loss: 0.6830 - categorical_accuracy: 0.7119 - val_loss: 0.7716 - val_categorical_accuracy: 0.7100 - lr: 0.0010\n",
      "Epoch 14/50\n",
      "67/67 [==============================] - ETA: 0s - loss: 0.5905 - categorical_accuracy: 0.7557\n",
      "Epoch 00014: saving model to model_init_2024-11-0404_42_13.426141/model-00014-0.59055-0.75566-0.64393-0.77000.keras\n",
      "67/67 [==============================] - 77s 1s/step - loss: 0.5905 - categorical_accuracy: 0.7557 - val_loss: 0.6439 - val_categorical_accuracy: 0.7700 - lr: 0.0010\n",
      "Epoch 15/50\n",
      "67/67 [==============================] - ETA: 0s - loss: 0.5954 - categorical_accuracy: 0.7496\n",
      "Epoch 00015: saving model to model_init_2024-11-0404_42_13.426141/model-00015-0.59541-0.74962-1.17688-0.54000.keras\n",
      "67/67 [==============================] - 79s 1s/step - loss: 0.5954 - categorical_accuracy: 0.7496 - val_loss: 1.1769 - val_categorical_accuracy: 0.5400 - lr: 0.0010\n",
      "Epoch 16/50\n",
      "67/67 [==============================] - ETA: 0s - loss: 0.5770 - categorical_accuracy: 0.7602\n",
      "Epoch 00016: saving model to model_init_2024-11-0404_42_13.426141/model-00016-0.57704-0.76018-1.85662-0.54000.keras\n",
      "67/67 [==============================] - 79s 1s/step - loss: 0.5770 - categorical_accuracy: 0.7602 - val_loss: 1.8566 - val_categorical_accuracy: 0.5400 - lr: 0.0010\n",
      "Epoch 17/50\n",
      "67/67 [==============================] - ETA: 0s - loss: 0.5777 - categorical_accuracy: 0.7466\n",
      "Epoch 00017: saving model to model_init_2024-11-0404_42_13.426141/model-00017-0.57772-0.74661-1.09535-0.60000.keras\n",
      "67/67 [==============================] - 78s 1s/step - loss: 0.5777 - categorical_accuracy: 0.7466 - val_loss: 1.0953 - val_categorical_accuracy: 0.6000 - lr: 0.0010\n",
      "Epoch 18/50\n",
      "67/67 [==============================] - ETA: 0s - loss: 0.5190 - categorical_accuracy: 0.7858\n",
      "Epoch 00018: saving model to model_init_2024-11-0404_42_13.426141/model-00018-0.51896-0.78582-1.10980-0.64000.keras\n",
      "67/67 [==============================] - 77s 1s/step - loss: 0.5190 - categorical_accuracy: 0.7858 - val_loss: 1.1098 - val_categorical_accuracy: 0.6400 - lr: 0.0010\n",
      "Epoch 19/50\n",
      "67/67 [==============================] - ETA: 0s - loss: 0.4931 - categorical_accuracy: 0.8054\n",
      "Epoch 00019: saving model to model_init_2024-11-0404_42_13.426141/model-00019-0.49309-0.80543-0.91764-0.66000.keras\n",
      "67/67 [==============================] - 79s 1s/step - loss: 0.4931 - categorical_accuracy: 0.8054 - val_loss: 0.9176 - val_categorical_accuracy: 0.6600 - lr: 0.0010\n",
      "Epoch 20/50\n",
      "67/67 [==============================] - ETA: 0s - loss: 0.5860 - categorical_accuracy: 0.7662\n",
      "Epoch 00020: saving model to model_init_2024-11-0404_42_13.426141/model-00020-0.58603-0.76621-3.16766-0.36000.keras\n",
      "67/67 [==============================] - 77s 1s/step - loss: 0.5860 - categorical_accuracy: 0.7662 - val_loss: 3.1677 - val_categorical_accuracy: 0.3600 - lr: 0.0010\n",
      "Epoch 21/50\n",
      "67/67 [==============================] - ETA: 0s - loss: 0.4405 - categorical_accuracy: 0.8371\n",
      "Epoch 00021: saving model to model_init_2024-11-0404_42_13.426141/model-00021-0.44054-0.83710-1.23326-0.65000.keras\n",
      "67/67 [==============================] - 77s 1s/step - loss: 0.4405 - categorical_accuracy: 0.8371 - val_loss: 1.2333 - val_categorical_accuracy: 0.6500 - lr: 0.0010\n",
      "Epoch 22/50\n",
      "67/67 [==============================] - ETA: 0s - loss: 0.4563 - categorical_accuracy: 0.8296\n",
      "Epoch 00022: saving model to model_init_2024-11-0404_42_13.426141/model-00022-0.45627-0.82956-0.73234-0.70000.keras\n",
      "67/67 [==============================] - 79s 1s/step - loss: 0.4563 - categorical_accuracy: 0.8296 - val_loss: 0.7323 - val_categorical_accuracy: 0.7000 - lr: 0.0010\n",
      "Epoch 23/50\n",
      "67/67 [==============================] - ETA: 0s - loss: 0.4702 - categorical_accuracy: 0.8281\n",
      "Epoch 00023: saving model to model_init_2024-11-0404_42_13.426141/model-00023-0.47024-0.82805-1.47073-0.54000.keras\n",
      "67/67 [==============================] - 78s 1s/step - loss: 0.4702 - categorical_accuracy: 0.8281 - val_loss: 1.4707 - val_categorical_accuracy: 0.5400 - lr: 0.0010\n",
      "Epoch 24/50\n",
      "67/67 [==============================] - ETA: 0s - loss: 0.4242 - categorical_accuracy: 0.8235\n",
      "Epoch 00024: saving model to model_init_2024-11-0404_42_13.426141/model-00024-0.42415-0.82353-1.82353-0.53000.keras\n",
      "\n",
      "Epoch 00024: ReduceLROnPlateau reducing learning rate to 0.00010000000474974513.\n",
      "67/67 [==============================] - 79s 1s/step - loss: 0.4242 - categorical_accuracy: 0.8235 - val_loss: 1.8235 - val_categorical_accuracy: 0.5300 - lr: 0.0010\n",
      "Epoch 25/50\n",
      "67/67 [==============================] - ETA: 0s - loss: 0.3782 - categorical_accuracy: 0.8492\n",
      "Epoch 00025: saving model to model_init_2024-11-0404_42_13.426141/model-00025-0.37823-0.84917-0.46996-0.79000.keras\n",
      "67/67 [==============================] - 77s 1s/step - loss: 0.3782 - categorical_accuracy: 0.8492 - val_loss: 0.4700 - val_categorical_accuracy: 0.7900 - lr: 1.0000e-04\n",
      "Epoch 26/50\n",
      "67/67 [==============================] - ETA: 0s - loss: 0.3449 - categorical_accuracy: 0.8733\n",
      "Epoch 00026: saving model to model_init_2024-11-0404_42_13.426141/model-00026-0.34493-0.87330-0.24658-0.90000.keras\n",
      "67/67 [==============================] - 77s 1s/step - loss: 0.3449 - categorical_accuracy: 0.8733 - val_loss: 0.2466 - val_categorical_accuracy: 0.9000 - lr: 1.0000e-04\n",
      "Epoch 27/50\n",
      "67/67 [==============================] - ETA: 0s - loss: 0.3526 - categorical_accuracy: 0.8658\n",
      "Epoch 00027: saving model to model_init_2024-11-0404_42_13.426141/model-00027-0.35260-0.86576-0.35479-0.77000.keras\n",
      "67/67 [==============================] - 77s 1s/step - loss: 0.3526 - categorical_accuracy: 0.8658 - val_loss: 0.3548 - val_categorical_accuracy: 0.7700 - lr: 1.0000e-04\n",
      "Epoch 28/50\n",
      "67/67 [==============================] - ETA: 0s - loss: 0.3586 - categorical_accuracy: 0.8658\n",
      "Epoch 00028: saving model to model_init_2024-11-0404_42_13.426141/model-00028-0.35860-0.86576-0.29171-0.87000.keras\n",
      "67/67 [==============================] - 77s 1s/step - loss: 0.3586 - categorical_accuracy: 0.8658 - val_loss: 0.2917 - val_categorical_accuracy: 0.8700 - lr: 1.0000e-04\n",
      "Epoch 29/50\n",
      "67/67 [==============================] - ETA: 0s - loss: 0.3784 - categorical_accuracy: 0.8537\n",
      "Epoch 00029: saving model to model_init_2024-11-0404_42_13.426141/model-00029-0.37839-0.85370-0.26166-0.86000.keras\n",
      "67/67 [==============================] - 77s 1s/step - loss: 0.3784 - categorical_accuracy: 0.8537 - val_loss: 0.2617 - val_categorical_accuracy: 0.8600 - lr: 1.0000e-04\n",
      "Epoch 30/50\n",
      "67/67 [==============================] - ETA: 0s - loss: 0.3531 - categorical_accuracy: 0.8763\n",
      "Epoch 00030: saving model to model_init_2024-11-0404_42_13.426141/model-00030-0.35306-0.87632-0.30870-0.83000.keras\n",
      "67/67 [==============================] - 77s 1s/step - loss: 0.3531 - categorical_accuracy: 0.8763 - val_loss: 0.3087 - val_categorical_accuracy: 0.8300 - lr: 1.0000e-04\n",
      "Epoch 31/50\n",
      "67/67 [==============================] - ETA: 0s - loss: 0.3567 - categorical_accuracy: 0.8462\n",
      "Epoch 00031: saving model to model_init_2024-11-0404_42_13.426141/model-00031-0.35669-0.84615-0.31244-0.86000.keras\n",
      "67/67 [==============================] - 78s 1s/step - loss: 0.3567 - categorical_accuracy: 0.8462 - val_loss: 0.3124 - val_categorical_accuracy: 0.8600 - lr: 1.0000e-04\n",
      "Epoch 32/50\n",
      "67/67 [==============================] - ETA: 0s - loss: 0.3420 - categorical_accuracy: 0.8929\n",
      "Epoch 00032: saving model to model_init_2024-11-0404_42_13.426141/model-00032-0.34198-0.89291-0.31367-0.84000.keras\n",
      "67/67 [==============================] - 77s 1s/step - loss: 0.3420 - categorical_accuracy: 0.8929 - val_loss: 0.3137 - val_categorical_accuracy: 0.8400 - lr: 1.0000e-04\n",
      "Epoch 33/50\n",
      "67/67 [==============================] - ETA: 0s - loss: 0.3303 - categorical_accuracy: 0.8718\n",
      "Epoch 00033: saving model to model_init_2024-11-0404_42_13.426141/model-00033-0.33035-0.87179-0.25970-0.87000.keras\n",
      "67/67 [==============================] - 77s 1s/step - loss: 0.3303 - categorical_accuracy: 0.8718 - val_loss: 0.2597 - val_categorical_accuracy: 0.8700 - lr: 1.0000e-04\n",
      "Epoch 34/50\n",
      "67/67 [==============================] - ETA: 0s - loss: 0.3273 - categorical_accuracy: 0.8899\n",
      "Epoch 00034: saving model to model_init_2024-11-0404_42_13.426141/model-00034-0.32726-0.88989-0.29124-0.89000.keras\n",
      "67/67 [==============================] - 77s 1s/step - loss: 0.3273 - categorical_accuracy: 0.8899 - val_loss: 0.2912 - val_categorical_accuracy: 0.8900 - lr: 1.0000e-04\n",
      "Epoch 35/50\n",
      "67/67 [==============================] - ETA: 0s - loss: 0.3028 - categorical_accuracy: 0.8914\n",
      "Epoch 00035: saving model to model_init_2024-11-0404_42_13.426141/model-00035-0.30282-0.89140-0.24950-0.88000.keras\n",
      "67/67 [==============================] - 77s 1s/step - loss: 0.3028 - categorical_accuracy: 0.8914 - val_loss: 0.2495 - val_categorical_accuracy: 0.8800 - lr: 1.0000e-04\n",
      "Epoch 36/50\n",
      "67/67 [==============================] - ETA: 0s - loss: 0.3117 - categorical_accuracy: 0.8763\n",
      "Epoch 00036: saving model to model_init_2024-11-0404_42_13.426141/model-00036-0.31170-0.87632-0.40319-0.75000.keras\n",
      "\n",
      "Epoch 00036: ReduceLROnPlateau reducing learning rate to 1.0000000474974514e-05.\n",
      "67/67 [==============================] - 77s 1s/step - loss: 0.3117 - categorical_accuracy: 0.8763 - val_loss: 0.4032 - val_categorical_accuracy: 0.7500 - lr: 1.0000e-04\n",
      "Epoch 37/50\n",
      "67/67 [==============================] - ETA: 0s - loss: 0.3056 - categorical_accuracy: 0.8869\n",
      "Epoch 00037: saving model to model_init_2024-11-0404_42_13.426141/model-00037-0.30560-0.88688-0.29678-0.85000.keras\n",
      "67/67 [==============================] - 77s 1s/step - loss: 0.3056 - categorical_accuracy: 0.8869 - val_loss: 0.2968 - val_categorical_accuracy: 0.8500 - lr: 1.0000e-05\n",
      "Epoch 38/50\n",
      "67/67 [==============================] - ETA: 0s - loss: 0.2970 - categorical_accuracy: 0.9005\n",
      "Epoch 00038: saving model to model_init_2024-11-0404_42_13.426141/model-00038-0.29696-0.90045-0.33219-0.84000.keras\n",
      "67/67 [==============================] - 78s 1s/step - loss: 0.2970 - categorical_accuracy: 0.9005 - val_loss: 0.3322 - val_categorical_accuracy: 0.8400 - lr: 1.0000e-05\n",
      "Epoch 39/50\n",
      "67/67 [==============================] - ETA: 0s - loss: 0.3162 - categorical_accuracy: 0.8839\n",
      "Epoch 00039: saving model to model_init_2024-11-0404_42_13.426141/model-00039-0.31617-0.88386-0.31202-0.85000.keras\n",
      "67/67 [==============================] - 76s 1s/step - loss: 0.3162 - categorical_accuracy: 0.8839 - val_loss: 0.3120 - val_categorical_accuracy: 0.8500 - lr: 1.0000e-05\n",
      "Epoch 40/50\n",
      "67/67 [==============================] - ETA: 0s - loss: 0.2825 - categorical_accuracy: 0.9050\n",
      "Epoch 00040: saving model to model_init_2024-11-0404_42_13.426141/model-00040-0.28250-0.90498-0.29725-0.87000.keras\n",
      "67/67 [==============================] - 77s 1s/step - loss: 0.2825 - categorical_accuracy: 0.9050 - val_loss: 0.2973 - val_categorical_accuracy: 0.8700 - lr: 1.0000e-05\n",
      "Epoch 41/50\n",
      "67/67 [==============================] - ETA: 0s - loss: 0.2869 - categorical_accuracy: 0.9095\n",
      "Epoch 00041: saving model to model_init_2024-11-0404_42_13.426141/model-00041-0.28686-0.90950-0.30575-0.87000.keras\n",
      "67/67 [==============================] - 75s 1s/step - loss: 0.2869 - categorical_accuracy: 0.9095 - val_loss: 0.3057 - val_categorical_accuracy: 0.8700 - lr: 1.0000e-05\n",
      "Epoch 42/50\n",
      "67/67 [==============================] - ETA: 0s - loss: 0.3299 - categorical_accuracy: 0.8914\n",
      "Epoch 00042: saving model to model_init_2024-11-0404_42_13.426141/model-00042-0.32991-0.89140-0.27680-0.89000.keras\n",
      "67/67 [==============================] - 75s 1s/step - loss: 0.3299 - categorical_accuracy: 0.8914 - val_loss: 0.2768 - val_categorical_accuracy: 0.8900 - lr: 1.0000e-05\n",
      "Epoch 43/50\n",
      "67/67 [==============================] - ETA: 0s - loss: 0.3063 - categorical_accuracy: 0.8929\n",
      "Epoch 00043: saving model to model_init_2024-11-0404_42_13.426141/model-00043-0.30633-0.89291-0.29836-0.87000.keras\n",
      "67/67 [==============================] - 75s 1s/step - loss: 0.3063 - categorical_accuracy: 0.8929 - val_loss: 0.2984 - val_categorical_accuracy: 0.8700 - lr: 1.0000e-05\n",
      "Epoch 44/50\n",
      "67/67 [==============================] - ETA: 0s - loss: 0.2882 - categorical_accuracy: 0.9020\n",
      "Epoch 00044: saving model to model_init_2024-11-0404_42_13.426141/model-00044-0.28819-0.90196-0.28996-0.86000.keras\n",
      "67/67 [==============================] - 75s 1s/step - loss: 0.2882 - categorical_accuracy: 0.9020 - val_loss: 0.2900 - val_categorical_accuracy: 0.8600 - lr: 1.0000e-05\n",
      "Epoch 45/50\n",
      "67/67 [==============================] - ETA: 0s - loss: 0.3062 - categorical_accuracy: 0.9020\n",
      "Epoch 00045: saving model to model_init_2024-11-0404_42_13.426141/model-00045-0.30622-0.90196-0.29136-0.87000.keras\n",
      "67/67 [==============================] - 75s 1s/step - loss: 0.3062 - categorical_accuracy: 0.9020 - val_loss: 0.2914 - val_categorical_accuracy: 0.8700 - lr: 1.0000e-05\n",
      "Epoch 46/50\n",
      "67/67 [==============================] - ETA: 0s - loss: 0.3107 - categorical_accuracy: 0.8869\n",
      "Epoch 00046: saving model to model_init_2024-11-0404_42_13.426141/model-00046-0.31075-0.88688-0.31925-0.84000.keras\n",
      "\n",
      "Epoch 00046: ReduceLROnPlateau reducing learning rate to 1.0000000656873453e-06.\n",
      "67/67 [==============================] - 75s 1s/step - loss: 0.3107 - categorical_accuracy: 0.8869 - val_loss: 0.3193 - val_categorical_accuracy: 0.8400 - lr: 1.0000e-05\n",
      "Epoch 47/50\n",
      "67/67 [==============================] - ETA: 0s - loss: 0.3021 - categorical_accuracy: 0.9005\n",
      "Epoch 00047: saving model to model_init_2024-11-0404_42_13.426141/model-00047-0.30212-0.90045-0.34258-0.82000.keras\n",
      "67/67 [==============================] - 76s 1s/step - loss: 0.3021 - categorical_accuracy: 0.9005 - val_loss: 0.3426 - val_categorical_accuracy: 0.8200 - lr: 1.0000e-06\n",
      "Epoch 48/50\n",
      "67/67 [==============================] - ETA: 0s - loss: 0.2839 - categorical_accuracy: 0.9020\n",
      "Epoch 00048: saving model to model_init_2024-11-0404_42_13.426141/model-00048-0.28394-0.90196-0.26256-0.87000.keras\n",
      "67/67 [==============================] - 75s 1s/step - loss: 0.2839 - categorical_accuracy: 0.9020 - val_loss: 0.2626 - val_categorical_accuracy: 0.8700 - lr: 1.0000e-06\n",
      "Epoch 49/50\n",
      "67/67 [==============================] - ETA: 0s - loss: 0.3392 - categorical_accuracy: 0.8597\n",
      "Epoch 00049: saving model to model_init_2024-11-0404_42_13.426141/model-00049-0.33915-0.85973-0.31333-0.85000.keras\n",
      "67/67 [==============================] - 75s 1s/step - loss: 0.3392 - categorical_accuracy: 0.8597 - val_loss: 0.3133 - val_categorical_accuracy: 0.8500 - lr: 1.0000e-06\n",
      "Epoch 50/50\n",
      "67/67 [==============================] - ETA: 0s - loss: 0.2909 - categorical_accuracy: 0.9065\n",
      "Epoch 00050: saving model to model_init_2024-11-0404_42_13.426141/model-00050-0.29092-0.90649-0.31601-0.87000.keras\n",
      "67/67 [==============================] - 75s 1s/step - loss: 0.2909 - categorical_accuracy: 0.9065 - val_loss: 0.3160 - val_categorical_accuracy: 0.8700 - lr: 1.0000e-06\n"
     ]
    },
    {
     "data": {
      "text/plain": [
       "<keras.callbacks.History at 0x7f16972c0550>"
      ]
     },
     "execution_count": 13,
     "metadata": {},
     "output_type": "execute_result"
    }
   ],
   "source": [
    "model.fit(train_generator, steps_per_epoch=steps_per_epoch, epochs=num_epochs, verbose=1, \n",
    "                    callbacks=callbacks_list, validation_data=val_generator, \n",
    "                    validation_steps=validation_steps, class_weight=None, initial_epoch=0)"
   ]
  },
  {
   "cell_type": "code",
   "execution_count": null,
   "metadata": {},
   "outputs": [],
   "source": []
  }
 ],
 "metadata": {
  "kernelspec": {
   "display_name": "Python 3 (ipykernel)",
   "language": "python",
   "name": "python3"
  },
  "language_info": {
   "codemirror_mode": {
    "name": "ipython",
    "version": 3
   },
   "file_extension": ".py",
   "mimetype": "text/x-python",
   "name": "python",
   "nbconvert_exporter": "python",
   "pygments_lexer": "ipython3",
   "version": "3.12.4"
  }
 },
 "nbformat": 4,
 "nbformat_minor": 4
}
