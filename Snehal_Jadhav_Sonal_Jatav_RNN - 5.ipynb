{
 "cells": [
  {
   "cell_type": "markdown",
   "metadata": {},
   "source": [
    "# Gesture Recognition Assignment\n",
    "\n",
    "### Objective:\n",
    "\n",
    "Experiment with models, trainable parameters, hyperparameters to derive appropriate model to recognize a model with minimized loss and higher accuracy.\n",
    "\n",
    "---\n",
    "#### Steps\n",
    "---\n",
    "\n",
    "1. Preprocess data\n",
    "2. Standardize videos\n",
    "3. Use generator function to generate training and validation data\n",
    "4. Model selection [experiment to derive appropriate model]\n",
    "5. a. CNN + RNN LSTM\n",
    "6. b. 3D Convolution n/w\n",
    "7. Derive Loss and accuracy of different models\n",
    "8. Condense training time\n",
    "9. Derive appropriate trainable parameters - i/p weights and biases, o/p weights and biases\n",
    "10. Derive appropriate hyperparameters - no. of epochs, batch_size, learning rate, optimizer"
   ]
  },
  {
   "cell_type": "code",
   "execution_count": 1,
   "metadata": {},
   "outputs": [],
   "source": [
    "import numpy as np\n",
    "import os\n",
    "from skimage.transform import resize\n",
    "from imageio import imread\n",
    "import datetime\n",
    "import os"
   ]
  },
  {
   "cell_type": "markdown",
   "metadata": {},
   "source": [
    "We set the random seed so that the results don't vary drastically."
   ]
  },
  {
   "cell_type": "code",
   "execution_count": 2,
   "metadata": {},
   "outputs": [],
   "source": [
    "np.random.seed(30)\n",
    "import random as rn\n",
    "rn.seed(30)\n",
    "from keras import backend as K\n",
    "import tensorflow as tf\n",
    "tf.random.set_seed(30)"
   ]
  },
  {
   "cell_type": "markdown",
   "metadata": {},
   "source": [
    "In this block, you read the folder names for training and validation. You also set the `batch_size` here. Note that you set the batch size in such a way that you are able to use the GPU in full capacity. You keep increasing the batch size until the machine throws an error."
   ]
  },
  {
   "cell_type": "code",
   "execution_count": 3,
   "metadata": {},
   "outputs": [],
   "source": [
    "train_doc = np.random.permutation(open('./datasets/Project_data/train.csv').readlines())\n",
    "val_doc = np.random.permutation(open('./datasets/Project_data/val.csv').readlines())\n",
    "batch_size = 20 #experiment with the batch size\n",
    "y, z = (128, 128)"
   ]
  },
  {
   "cell_type": "code",
   "execution_count": 4,
   "metadata": {},
   "outputs": [],
   "source": [
    "# Resize images witth padding, so we do not lose the aspect ratio\n",
    "def preprocess_image_with_padding(image, target_size=(360, 360)):\n",
    "    # Calculate the scaling factor to resize image while maintaining aspect ratio\n",
    "    old_size = image.shape[:2]  # Original size (height, width)\n",
    "    ratio = min(target_size[0] / old_size[0], target_size[1] / old_size[1])\n",
    "    new_size = (int(old_size[0] * ratio), int(old_size[1] * ratio))\n",
    "    \n",
    "    # Resize the image with the calculated new size\n",
    "    image_resized = resize(image, new_size, anti_aliasing=True)\n",
    "    \n",
    "    # Create a new image array with the target size, filled with black (0) padding\n",
    "    padded_image = np.zeros((target_size[0], target_size[1], 3))\n",
    "    \n",
    "    # Place the resized image in the center of the padded image\n",
    "    pad_top = (target_size[0] - new_size[0]) // 2\n",
    "    pad_left = (target_size[1] - new_size[1]) // 2\n",
    "    padded_image[pad_top:pad_top+new_size[0], pad_left:pad_left+new_size[1], :] = image_resized\n",
    "    \n",
    "    return padded_image"
   ]
  },
  {
   "cell_type": "markdown",
   "metadata": {},
   "source": [
    "## Generator\n",
    "This is one of the most important part of the code. The overall structure of the generator has been given. In the generator, you are going to preprocess the images as you have images of 2 different dimensions as well as create a batch of video frames. You have to experiment with `img_idx`, `y`,`z` and normalization such that you get high accuracy."
   ]
  },
  {
   "cell_type": "code",
   "execution_count": 5,
   "metadata": {},
   "outputs": [],
   "source": [
    "def generator(source_path, folder_list, batch_size):\n",
    "    print('Source path = ', source_path, '; batch size =', batch_size)\n",
    "    \n",
    "    # Create a list of specific image indices you want to use for each video.\n",
    "    img_idx = [0, 2, 4, 6, 8, 10, 12, 14, 16, 18]  # Example: Using 10 frames from each video, adjust as needed\n",
    "    \n",
    "    while True:\n",
    "        # Shuffle the list of folders randomly to ensure that the training is not biased by the order of folders.\n",
    "        t = np.random.permutation(folder_list)\n",
    "        \n",
    "        # Calculate the number of batches per epoch.\n",
    "        num_batches = len(folder_list) // batch_size  # Ensuring that we have full batches only\n",
    "        \n",
    "        for batch in range(num_batches):  # We iterate over the number of batches\n",
    "            # Initialize batch data array with zeros\n",
    "            # batch_data has shape (batch_size, #frames, height, width, #channels)\n",
    "            batch_data = np.zeros((batch_size, len(img_idx), y, z, 3))  # Replace `y` and `z` with image height and width\n",
    "            batch_labels = np.zeros((batch_size, 5))  # Assuming 5 classes for one-hot encoded labels\n",
    "            \n",
    "            for folder in range(batch_size):  # Iterate over each item in the batch\n",
    "                # Get the list of images in the folder corresponding to the shuffled list\n",
    "                imgs = os.listdir(source_path + '/' + t[folder + (batch * batch_size)].split(';')[0])\n",
    "                \n",
    "                for idx, item in enumerate(img_idx):  # Iterate over the selected frames for the video\n",
    "                    # Read each specified image for the current folder\n",
    "                    image = imread(source_path + '/' + t[folder + (batch * batch_size)].strip().split(';')[0] + '/' + imgs[item]).astype(np.float32)\n",
    "                    \n",
    "                    # Crop the images and resize them to (y, z) so that all images have the same shape\n",
    "                    image = preprocess_image_with_padding(image, (y, z))\n",
    "                    # Normalize and store the image into the batch_data array\n",
    "                    batch_data[folder, idx, :, :, 0] = (image[:, :, 0] / 255.0)  # Normalizing the R channel\n",
    "                    batch_data[folder, idx, :, :, 1] = (image[:, :, 1] / 255.0)  # Normalizing the G channel\n",
    "                    batch_data[folder, idx, :, :, 2] = (image[:, :, 2] / 255.0)  # Normalizing the B channel\n",
    "                \n",
    "                # One-hot encode the label for the current folder\n",
    "                batch_labels[folder, int(t[folder + (batch * batch_size)].strip().split(';')[2])] = 1\n",
    "            \n",
    "            # Yield a batch of data and labels. Yielding allows the function to generate batches as needed during training.\n",
    "            yield batch_data, batch_labels\n",
    "\n",
    "        # Handle any remaining data that doesn't fit into a complete batch\n",
    "        remaining = len(folder_list) % batch_size\n",
    "        if remaining > 0:\n",
    "            # Prepare batch data and labels for the remaining samples\n",
    "            batch_data = np.zeros((remaining, len(img_idx), y, z, 3))\n",
    "            batch_labels = np.zeros((remaining, 5))\n",
    "            \n",
    "            for folder in range(remaining):\n",
    "                imgs = os.listdir(source_path + '/' + t[folder + (num_batches * batch_size)].split(';')[0])\n",
    "                \n",
    "                for idx, item in enumerate(img_idx):\n",
    "                    image = imread(source_path + '/' + t[folder + (num_batches * batch_size)].strip().split(';')[0] + '/' + imgs[item]).astype(np.float32)\n",
    "                    \n",
    "                    # Crop the images and resize them to (y, z) so that all images have the same shape\n",
    "                    image = preprocess_image_with_padding(image, (y, z))\n",
    "\n",
    "                    # Normalize and store the image into the batch_data array\n",
    "                    batch_data[folder, idx, :, :, 0] = (image[:, :, 0] / 255.0)\n",
    "                    batch_data[folder, idx, :, :, 1] = (image[:, :, 1] / 255.0)\n",
    "                    batch_data[folder, idx, :, :, 2] = (image[:, :, 2] / 255.0)\n",
    "                \n",
    "                batch_labels[folder, int(t[folder + (num_batches * batch_size)].strip().split(';')[2])] = 1\n",
    "            \n",
    "            yield batch_data, batch_labels"
   ]
  },
  {
   "cell_type": "markdown",
   "metadata": {},
   "source": [
    "Note here that a video is represented above in the generator as (number of images, height, width, number of channels). Take this into consideration while creating the model architecture."
   ]
  },
  {
   "cell_type": "code",
   "execution_count": 6,
   "metadata": {},
   "outputs": [
    {
     "name": "stdout",
     "output_type": "stream",
     "text": [
      "# training sequences = 663\n",
      "# validation sequences = 100\n",
      "# epochs = 50\n"
     ]
    }
   ],
   "source": [
    "curr_dt_time = datetime.datetime.now()\n",
    "train_path = './datasets/Project_data/train'\n",
    "val_path = './datasets/Project_data/val'\n",
    "num_train_sequences = len(train_doc)\n",
    "print('# training sequences =', num_train_sequences)\n",
    "num_val_sequences = len(val_doc)\n",
    "print('# validation sequences =', num_val_sequences)\n",
    "num_epochs = 50 # choose the number of epochs\n",
    "print ('# epochs =', num_epochs)"
   ]
  },
  {
   "cell_type": "markdown",
   "metadata": {},
   "source": [
    "## Model\n",
    "Here you make the model using different functionalities that Keras provides. Remember to use `Conv3D` and `MaxPooling3D` and not `Conv2D` and `Maxpooling2D` for a 3D convolution model. You would want to use `TimeDistributed` while building a Conv2D + RNN model. Also remember that the last layer is the softmax. Design the network in such a way that the model is able to give good accuracy on the least number of parameters so that it can fit in the memory of the webcam."
   ]
  },
  {
   "cell_type": "code",
   "execution_count": 7,
   "metadata": {},
   "outputs": [],
   "source": [
    "from keras.models import Sequential, Model\n",
    "from keras.layers import Dense, ConvLSTM2D, GRU, Flatten, TimeDistributed, Flatten, BatchNormalization, Activation, GlobalAveragePooling3D, GlobalAveragePooling2D\n",
    "from keras.layers import Conv3D, MaxPooling3D, MaxPooling2D\n",
    "from keras.callbacks import ModelCheckpoint, ReduceLROnPlateau\n",
    "from keras import optimizers\n"
   ]
  },
  {
   "cell_type": "code",
   "execution_count": 8,
   "metadata": {},
   "outputs": [
    {
     "name": "stderr",
     "output_type": "stream",
     "text": [
      "2024-11-04 07:39:32.024816: W tensorflow/core/common_runtime/gpu/gpu_bfc_allocator.cc:39] Overriding allow_growth setting because the TF_FORCE_GPU_ALLOW_GROWTH environment variable is set. Original config value was 0.\n",
      "2024-11-04 07:39:32.024897: I tensorflow/core/common_runtime/gpu/gpu_device.cc:1525] Created device /job:localhost/replica:0/task:0/device:GPU:0 with 14800 MB memory:  -> device: 0, name: Quadro RTX 5000, pci bus id: 0000:40:00.0, compute capability: 7.5\n"
     ]
    }
   ],
   "source": [
    "# Model parameters\n",
    "input_shape = (10, 128, 128, 3)  # Example: (frames, height, width, channels)\n",
    "num_classes = 5\n",
    "\n",
    "model = Sequential()\n",
    "\n",
    "# First 3D Convolutional layer\n",
    "model.add(ConvLSTM2D(16, kernel_size=(3, 3), activation='relu', input_shape=input_shape, padding='same', return_sequences=True))\n",
    "# model.add(MaxPooling3D(pool_size=(2, 2, 2), padding='same'))\n",
    "model.add(BatchNormalization())\n",
    "model.add(TimeDistributed(MaxPooling2D(pool_size=(2, 2), padding='same'))) \n",
    "\n",
    "# Second 3D Convolutional layer\n",
    "model.add(ConvLSTM2D(32, kernel_size=(3, 3), activation='relu', padding='same', return_sequences=True))\n",
    "# model.add(MaxPooling3D(pool_size=(2, 2, 2), padding='same'))\n",
    "model.add(BatchNormalization())\n",
    "model.add(TimeDistributed(MaxPooling2D(pool_size=(2, 2), padding='same'))) \n",
    "\n",
    "# Third 3D Convolutional layer \n",
    "model.add(ConvLSTM2D(64, kernel_size=(3, 3), activation='relu', padding='same', return_sequences=False))\n",
    "# model.add(MaxPooling3D(pool_size=(2, 2, 2), padding='same'))\n",
    "model.add(BatchNormalization())\n",
    "\n",
    "# Global Average Pooling instead of Flatten to reduce the parameter count\n",
    "model.add(GlobalAveragePooling2D())\n",
    "\n",
    "# Fully connected layer with dropout for regularization\n",
    "model.add(Dense(128, activation='relu'))\n",
    "# model.add(Dropout(0.3))\n",
    "\n",
    "# Output layer with softmax for multi-class classification\n",
    "model.add(Dense(num_classes, activation='softmax'))"
   ]
  },
  {
   "cell_type": "markdown",
   "metadata": {},
   "source": [
    "Now that you have written the model, the next step is to `compile` the model. When you print the `summary` of the model, you'll see the total number of parameters you have to train."
   ]
  },
  {
   "cell_type": "code",
   "execution_count": 9,
   "metadata": {},
   "outputs": [
    {
     "name": "stdout",
     "output_type": "stream",
     "text": [
      "Model: \"sequential\"\n",
      "_________________________________________________________________\n",
      " Layer (type)                Output Shape              Param #   \n",
      "=================================================================\n",
      " conv_lstm2d (ConvLSTM2D)    (None, 10, 128, 128, 16)  11008     \n",
      "                                                                 \n",
      " batch_normalization (BatchN  (None, 10, 128, 128, 16)  64       \n",
      " ormalization)                                                   \n",
      "                                                                 \n",
      " time_distributed (TimeDistr  (None, 10, 64, 64, 16)   0         \n",
      " ibuted)                                                         \n",
      "                                                                 \n",
      " conv_lstm2d_1 (ConvLSTM2D)  (None, 10, 64, 64, 32)    55424     \n",
      "                                                                 \n",
      " batch_normalization_1 (Batc  (None, 10, 64, 64, 32)   128       \n",
      " hNormalization)                                                 \n",
      "                                                                 \n",
      " time_distributed_1 (TimeDis  (None, 10, 32, 32, 32)   0         \n",
      " tributed)                                                       \n",
      "                                                                 \n",
      " conv_lstm2d_2 (ConvLSTM2D)  (None, 32, 32, 64)        221440    \n",
      "                                                                 \n",
      " batch_normalization_2 (Batc  (None, 32, 32, 64)       256       \n",
      " hNormalization)                                                 \n",
      "                                                                 \n",
      " global_average_pooling2d (G  (None, 64)               0         \n",
      " lobalAveragePooling2D)                                          \n",
      "                                                                 \n",
      " dense (Dense)               (None, 128)               8320      \n",
      "                                                                 \n",
      " dense_1 (Dense)             (None, 5)                 645       \n",
      "                                                                 \n",
      "=================================================================\n",
      "Total params: 297,285\n",
      "Trainable params: 297,061\n",
      "Non-trainable params: 224\n",
      "_________________________________________________________________\n",
      "None\n"
     ]
    }
   ],
   "source": [
    "optimiser = tf.keras.optimizers.Adam() #write your optimizer\n",
    "model.compile(optimizer=optimiser, loss='categorical_crossentropy', metrics=['categorical_accuracy'])\n",
    "print (model.summary())"
   ]
  },
  {
   "cell_type": "markdown",
   "metadata": {},
   "source": [
    "Let us create the `train_generator` and the `val_generator` which will be used in `.fit_generator`."
   ]
  },
  {
   "cell_type": "code",
   "execution_count": 10,
   "metadata": {},
   "outputs": [],
   "source": [
    "train_generator = generator(train_path, train_doc, batch_size)\n",
    "val_generator = generator(val_path, val_doc, batch_size)"
   ]
  },
  {
   "cell_type": "code",
   "execution_count": 11,
   "metadata": {},
   "outputs": [],
   "source": [
    "model_name = 'model_init' + '_' + str(curr_dt_time).replace(' ','').replace(':','_') + '/'\n",
    "    \n",
    "if not os.path.exists(model_name):\n",
    "    os.mkdir(model_name)\n",
    "        \n",
    "filepath = model_name + 'model-{epoch:05d}-{loss:.5f}-{categorical_accuracy:.5f}-{val_loss:.5f}-{val_categorical_accuracy:.5f}.keras'\n",
    "\n",
    "checkpoint = ModelCheckpoint(filepath, monitor='val_loss', verbose=1, save_best_only=False, save_weights_only=False, mode='auto')\n",
    "\n",
    "LR = tf.keras.callbacks.ReduceLROnPlateau(\n",
    "    monitor=\"val_loss\",\n",
    "    verbose=1,\n",
    "    factor=0.5,\n",
    "    patience=3,\n",
    "    mode=\"auto\"\n",
    ") # write the REducelronplateau code here\n",
    "callbacks_list = [checkpoint, LR]"
   ]
  },
  {
   "cell_type": "markdown",
   "metadata": {},
   "source": [
    "The `steps_per_epoch` and `validation_steps` are used by `fit_generator` to decide the number of next() calls it need to make."
   ]
  },
  {
   "cell_type": "code",
   "execution_count": 12,
   "metadata": {},
   "outputs": [],
   "source": [
    "if (num_train_sequences%batch_size) == 0:\n",
    "    steps_per_epoch = int(num_train_sequences/batch_size)\n",
    "else:\n",
    "    steps_per_epoch = (num_train_sequences//batch_size) + 1\n",
    "\n",
    "if (num_val_sequences%batch_size) == 0:\n",
    "    validation_steps = int(num_val_sequences/batch_size)\n",
    "else:\n",
    "    validation_steps = (num_val_sequences//batch_size) + 1"
   ]
  },
  {
   "cell_type": "markdown",
   "metadata": {},
   "source": [
    "Let us now fit the model. This will start training the model and with the help of the checkpoints, you'll be able to save the model at the end of each epoch."
   ]
  },
  {
   "cell_type": "code",
   "execution_count": 13,
   "metadata": {},
   "outputs": [
    {
     "name": "stdout",
     "output_type": "stream",
     "text": [
      "Source path =  ./datasets/Project_data/train ; batch size = 20\n",
      "Epoch 1/50\n"
     ]
    },
    {
     "name": "stderr",
     "output_type": "stream",
     "text": [
      "2024-11-04 07:39:41.012975: I tensorflow/stream_executor/cuda/cuda_dnn.cc:377] Loaded cuDNN version 8302\n"
     ]
    },
    {
     "name": "stdout",
     "output_type": "stream",
     "text": [
      "34/34 [==============================] - ETA: 0s - loss: 1.3179 - categorical_accuracy: 0.4404Source path =  ./datasets/Project_data/val ; batch size = 20\n",
      "\n",
      "Epoch 00001: saving model to model_init_2024-11-0407_39_31.249026/model-00001-1.31789-0.44042-1.80112-0.16000.keras\n",
      "34/34 [==============================] - 65s 2s/step - loss: 1.3179 - categorical_accuracy: 0.4404 - val_loss: 1.8011 - val_categorical_accuracy: 0.1600 - lr: 0.0010\n",
      "Epoch 2/50\n",
      "34/34 [==============================] - ETA: 0s - loss: 1.0453 - categorical_accuracy: 0.5385\n",
      "Epoch 00002: saving model to model_init_2024-11-0407_39_31.249026/model-00002-1.04526-0.53846-2.31121-0.19000.keras\n",
      "34/34 [==============================] - 54s 2s/step - loss: 1.0453 - categorical_accuracy: 0.5385 - val_loss: 2.3112 - val_categorical_accuracy: 0.1900 - lr: 0.0010\n",
      "Epoch 3/50\n",
      "34/34 [==============================] - ETA: 0s - loss: 0.9077 - categorical_accuracy: 0.6320\n",
      "Epoch 00003: saving model to model_init_2024-11-0407_39_31.249026/model-00003-0.90771-0.63198-2.30199-0.16000.keras\n",
      "34/34 [==============================] - 54s 2s/step - loss: 0.9077 - categorical_accuracy: 0.6320 - val_loss: 2.3020 - val_categorical_accuracy: 0.1600 - lr: 0.0010\n",
      "Epoch 4/50\n",
      "34/34 [==============================] - ETA: 0s - loss: 0.8311 - categorical_accuracy: 0.6772\n",
      "Epoch 00004: saving model to model_init_2024-11-0407_39_31.249026/model-00004-0.83111-0.67722-2.50721-0.21000.keras\n",
      "\n",
      "Epoch 00004: ReduceLROnPlateau reducing learning rate to 0.0005000000237487257.\n",
      "34/34 [==============================] - 53s 2s/step - loss: 0.8311 - categorical_accuracy: 0.6772 - val_loss: 2.5072 - val_categorical_accuracy: 0.2100 - lr: 0.0010\n",
      "Epoch 5/50\n",
      "34/34 [==============================] - ETA: 0s - loss: 0.7186 - categorical_accuracy: 0.7330\n",
      "Epoch 00005: saving model to model_init_2024-11-0407_39_31.249026/model-00005-0.71860-0.73303-2.79802-0.19000.keras\n",
      "34/34 [==============================] - 53s 2s/step - loss: 0.7186 - categorical_accuracy: 0.7330 - val_loss: 2.7980 - val_categorical_accuracy: 0.1900 - lr: 5.0000e-04\n",
      "Epoch 6/50\n",
      "34/34 [==============================] - ETA: 0s - loss: 0.6668 - categorical_accuracy: 0.7572\n",
      "Epoch 00006: saving model to model_init_2024-11-0407_39_31.249026/model-00006-0.66677-0.75716-2.70428-0.21000.keras\n",
      "34/34 [==============================] - 53s 2s/step - loss: 0.6668 - categorical_accuracy: 0.7572 - val_loss: 2.7043 - val_categorical_accuracy: 0.2100 - lr: 5.0000e-04\n",
      "Epoch 7/50\n",
      "34/34 [==============================] - ETA: 0s - loss: 0.5606 - categorical_accuracy: 0.8009\n",
      "Epoch 00007: saving model to model_init_2024-11-0407_39_31.249026/model-00007-0.56062-0.80090-2.74953-0.23000.keras\n",
      "\n",
      "Epoch 00007: ReduceLROnPlateau reducing learning rate to 0.0002500000118743628.\n",
      "34/34 [==============================] - 54s 2s/step - loss: 0.5606 - categorical_accuracy: 0.8009 - val_loss: 2.7495 - val_categorical_accuracy: 0.2300 - lr: 5.0000e-04\n",
      "Epoch 8/50\n",
      "34/34 [==============================] - ETA: 0s - loss: 0.4987 - categorical_accuracy: 0.8160\n",
      "Epoch 00008: saving model to model_init_2024-11-0407_39_31.249026/model-00008-0.49872-0.81599-2.88239-0.12000.keras\n",
      "34/34 [==============================] - 54s 2s/step - loss: 0.4987 - categorical_accuracy: 0.8160 - val_loss: 2.8824 - val_categorical_accuracy: 0.1200 - lr: 2.5000e-04\n",
      "Epoch 9/50\n",
      "34/34 [==============================] - ETA: 0s - loss: 0.4781 - categorical_accuracy: 0.8175\n",
      "Epoch 00009: saving model to model_init_2024-11-0407_39_31.249026/model-00009-0.47809-0.81750-2.35523-0.28000.keras\n",
      "34/34 [==============================] - 53s 2s/step - loss: 0.4781 - categorical_accuracy: 0.8175 - val_loss: 2.3552 - val_categorical_accuracy: 0.2800 - lr: 2.5000e-04\n",
      "Epoch 10/50\n",
      "34/34 [==============================] - ETA: 0s - loss: 0.4182 - categorical_accuracy: 0.8567\n",
      "Epoch 00010: saving model to model_init_2024-11-0407_39_31.249026/model-00010-0.41818-0.85671-2.94441-0.19000.keras\n",
      "\n",
      "Epoch 00010: ReduceLROnPlateau reducing learning rate to 0.0001250000059371814.\n",
      "34/34 [==============================] - 54s 2s/step - loss: 0.4182 - categorical_accuracy: 0.8567 - val_loss: 2.9444 - val_categorical_accuracy: 0.1900 - lr: 2.5000e-04\n",
      "Epoch 11/50\n",
      "34/34 [==============================] - ETA: 0s - loss: 0.3779 - categorical_accuracy: 0.8658\n",
      "Epoch 00011: saving model to model_init_2024-11-0407_39_31.249026/model-00011-0.37793-0.86576-2.86320-0.21000.keras\n",
      "34/34 [==============================] - 54s 2s/step - loss: 0.3779 - categorical_accuracy: 0.8658 - val_loss: 2.8632 - val_categorical_accuracy: 0.2100 - lr: 1.2500e-04\n",
      "Epoch 12/50\n",
      "34/34 [==============================] - ETA: 0s - loss: 0.3593 - categorical_accuracy: 0.8808\n",
      "Epoch 00012: saving model to model_init_2024-11-0407_39_31.249026/model-00012-0.35930-0.88084-3.00171-0.20000.keras\n",
      "34/34 [==============================] - 54s 2s/step - loss: 0.3593 - categorical_accuracy: 0.8808 - val_loss: 3.0017 - val_categorical_accuracy: 0.2000 - lr: 1.2500e-04\n",
      "Epoch 13/50\n",
      "34/34 [==============================] - ETA: 0s - loss: 0.3511 - categorical_accuracy: 0.8824\n",
      "Epoch 00013: saving model to model_init_2024-11-0407_39_31.249026/model-00013-0.35110-0.88235-2.93425-0.23000.keras\n",
      "\n",
      "Epoch 00013: ReduceLROnPlateau reducing learning rate to 6.25000029685907e-05.\n",
      "34/34 [==============================] - 54s 2s/step - loss: 0.3511 - categorical_accuracy: 0.8824 - val_loss: 2.9342 - val_categorical_accuracy: 0.2300 - lr: 1.2500e-04\n",
      "Epoch 14/50\n",
      "34/34 [==============================] - ETA: 0s - loss: 0.3182 - categorical_accuracy: 0.8959\n",
      "Epoch 00014: saving model to model_init_2024-11-0407_39_31.249026/model-00014-0.31820-0.89593-2.44425-0.24000.keras\n",
      "34/34 [==============================] - 55s 2s/step - loss: 0.3182 - categorical_accuracy: 0.8959 - val_loss: 2.4442 - val_categorical_accuracy: 0.2400 - lr: 6.2500e-05\n",
      "Epoch 15/50\n",
      "34/34 [==============================] - ETA: 0s - loss: 0.3037 - categorical_accuracy: 0.9065\n",
      "Epoch 00015: saving model to model_init_2024-11-0407_39_31.249026/model-00015-0.30373-0.90649-1.90953-0.24000.keras\n",
      "34/34 [==============================] - 55s 2s/step - loss: 0.3037 - categorical_accuracy: 0.9065 - val_loss: 1.9095 - val_categorical_accuracy: 0.2400 - lr: 6.2500e-05\n",
      "Epoch 16/50\n",
      "34/34 [==============================] - ETA: 0s - loss: 0.3242 - categorical_accuracy: 0.8884\n",
      "Epoch 00016: saving model to model_init_2024-11-0407_39_31.249026/model-00016-0.32420-0.88839-1.52696-0.32000.keras\n",
      "34/34 [==============================] - 55s 2s/step - loss: 0.3242 - categorical_accuracy: 0.8884 - val_loss: 1.5270 - val_categorical_accuracy: 0.3200 - lr: 6.2500e-05\n",
      "Epoch 17/50\n",
      "34/34 [==============================] - ETA: 0s - loss: 0.2908 - categorical_accuracy: 0.9050\n",
      "Epoch 00017: saving model to model_init_2024-11-0407_39_31.249026/model-00017-0.29083-0.90498-1.46602-0.36000.keras\n",
      "34/34 [==============================] - 55s 2s/step - loss: 0.2908 - categorical_accuracy: 0.9050 - val_loss: 1.4660 - val_categorical_accuracy: 0.3600 - lr: 6.2500e-05\n",
      "Epoch 18/50\n",
      "34/34 [==============================] - ETA: 0s - loss: 0.2995 - categorical_accuracy: 0.9050\n",
      "Epoch 00018: saving model to model_init_2024-11-0407_39_31.249026/model-00018-0.29951-0.90498-1.31050-0.46000.keras\n",
      "34/34 [==============================] - 55s 2s/step - loss: 0.2995 - categorical_accuracy: 0.9050 - val_loss: 1.3105 - val_categorical_accuracy: 0.4600 - lr: 6.2500e-05\n",
      "Epoch 19/50\n",
      "34/34 [==============================] - ETA: 0s - loss: 0.2954 - categorical_accuracy: 0.9020\n",
      "Epoch 00019: saving model to model_init_2024-11-0407_39_31.249026/model-00019-0.29543-0.90196-0.74975-0.75000.keras\n",
      "34/34 [==============================] - 56s 2s/step - loss: 0.2954 - categorical_accuracy: 0.9020 - val_loss: 0.7498 - val_categorical_accuracy: 0.7500 - lr: 6.2500e-05\n",
      "Epoch 20/50\n",
      "34/34 [==============================] - ETA: 0s - loss: 0.2732 - categorical_accuracy: 0.9140\n",
      "Epoch 00020: saving model to model_init_2024-11-0407_39_31.249026/model-00020-0.27318-0.91403-0.51804-0.80000.keras\n",
      "34/34 [==============================] - 56s 2s/step - loss: 0.2732 - categorical_accuracy: 0.9140 - val_loss: 0.5180 - val_categorical_accuracy: 0.8000 - lr: 6.2500e-05\n",
      "Epoch 21/50\n",
      "34/34 [==============================] - ETA: 0s - loss: 0.2971 - categorical_accuracy: 0.9005\n",
      "Epoch 00021: saving model to model_init_2024-11-0407_39_31.249026/model-00021-0.29710-0.90045-0.55009-0.78000.keras\n",
      "34/34 [==============================] - 57s 2s/step - loss: 0.2971 - categorical_accuracy: 0.9005 - val_loss: 0.5501 - val_categorical_accuracy: 0.7800 - lr: 6.2500e-05\n",
      "Epoch 22/50\n",
      "34/34 [==============================] - ETA: 0s - loss: 0.2538 - categorical_accuracy: 0.9186\n",
      "Epoch 00022: saving model to model_init_2024-11-0407_39_31.249026/model-00022-0.25380-0.91855-0.42406-0.86000.keras\n",
      "34/34 [==============================] - 54s 2s/step - loss: 0.2538 - categorical_accuracy: 0.9186 - val_loss: 0.4241 - val_categorical_accuracy: 0.8600 - lr: 6.2500e-05\n",
      "Epoch 23/50\n",
      "34/34 [==============================] - ETA: 0s - loss: 0.2747 - categorical_accuracy: 0.9155\n",
      "Epoch 00023: saving model to model_init_2024-11-0407_39_31.249026/model-00023-0.27466-0.91554-0.36007-0.88000.keras\n",
      "34/34 [==============================] - 55s 2s/step - loss: 0.2747 - categorical_accuracy: 0.9155 - val_loss: 0.3601 - val_categorical_accuracy: 0.8800 - lr: 6.2500e-05\n",
      "Epoch 24/50\n",
      "34/34 [==============================] - ETA: 0s - loss: 0.2473 - categorical_accuracy: 0.9170\n",
      "Epoch 00024: saving model to model_init_2024-11-0407_39_31.249026/model-00024-0.24726-0.91704-0.35505-0.88000.keras\n",
      "34/34 [==============================] - 55s 2s/step - loss: 0.2473 - categorical_accuracy: 0.9170 - val_loss: 0.3551 - val_categorical_accuracy: 0.8800 - lr: 6.2500e-05\n",
      "Epoch 25/50\n",
      "34/34 [==============================] - ETA: 0s - loss: 0.2197 - categorical_accuracy: 0.9276\n",
      "Epoch 00025: saving model to model_init_2024-11-0407_39_31.249026/model-00025-0.21973-0.92760-0.36896-0.87000.keras\n",
      "34/34 [==============================] - 55s 2s/step - loss: 0.2197 - categorical_accuracy: 0.9276 - val_loss: 0.3690 - val_categorical_accuracy: 0.8700 - lr: 6.2500e-05\n",
      "Epoch 26/50\n",
      "34/34 [==============================] - ETA: 0s - loss: 0.2308 - categorical_accuracy: 0.9261\n",
      "Epoch 00026: saving model to model_init_2024-11-0407_39_31.249026/model-00026-0.23075-0.92609-0.33484-0.87000.keras\n",
      "34/34 [==============================] - 56s 2s/step - loss: 0.2308 - categorical_accuracy: 0.9261 - val_loss: 0.3348 - val_categorical_accuracy: 0.8700 - lr: 6.2500e-05\n",
      "Epoch 27/50\n",
      "34/34 [==============================] - ETA: 0s - loss: 0.2098 - categorical_accuracy: 0.9351\n",
      "Epoch 00027: saving model to model_init_2024-11-0407_39_31.249026/model-00027-0.20976-0.93514-0.35082-0.86000.keras\n",
      "34/34 [==============================] - 55s 2s/step - loss: 0.2098 - categorical_accuracy: 0.9351 - val_loss: 0.3508 - val_categorical_accuracy: 0.8600 - lr: 6.2500e-05\n",
      "Epoch 28/50\n",
      "34/34 [==============================] - ETA: 0s - loss: 0.1924 - categorical_accuracy: 0.9502\n",
      "Epoch 00028: saving model to model_init_2024-11-0407_39_31.249026/model-00028-0.19235-0.95023-0.33080-0.87000.keras\n",
      "34/34 [==============================] - 56s 2s/step - loss: 0.1924 - categorical_accuracy: 0.9502 - val_loss: 0.3308 - val_categorical_accuracy: 0.8700 - lr: 6.2500e-05\n",
      "Epoch 29/50\n",
      "34/34 [==============================] - ETA: 0s - loss: 0.2368 - categorical_accuracy: 0.9246\n",
      "Epoch 00029: saving model to model_init_2024-11-0407_39_31.249026/model-00029-0.23681-0.92459-0.27243-0.88000.keras\n",
      "34/34 [==============================] - 56s 2s/step - loss: 0.2368 - categorical_accuracy: 0.9246 - val_loss: 0.2724 - val_categorical_accuracy: 0.8800 - lr: 6.2500e-05\n",
      "Epoch 30/50\n",
      "34/34 [==============================] - ETA: 0s - loss: 0.2330 - categorical_accuracy: 0.9246\n",
      "Epoch 00030: saving model to model_init_2024-11-0407_39_31.249026/model-00030-0.23297-0.92459-0.37029-0.91000.keras\n",
      "34/34 [==============================] - 55s 2s/step - loss: 0.2330 - categorical_accuracy: 0.9246 - val_loss: 0.3703 - val_categorical_accuracy: 0.9100 - lr: 6.2500e-05\n",
      "Epoch 31/50\n",
      "34/34 [==============================] - ETA: 0s - loss: 0.2288 - categorical_accuracy: 0.9321\n",
      "Epoch 00031: saving model to model_init_2024-11-0407_39_31.249026/model-00031-0.22878-0.93213-0.36724-0.90000.keras\n",
      "34/34 [==============================] - 55s 2s/step - loss: 0.2288 - categorical_accuracy: 0.9321 - val_loss: 0.3672 - val_categorical_accuracy: 0.9000 - lr: 6.2500e-05\n",
      "Epoch 32/50\n",
      "34/34 [==============================] - ETA: 0s - loss: 0.1999 - categorical_accuracy: 0.9336\n",
      "Epoch 00032: saving model to model_init_2024-11-0407_39_31.249026/model-00032-0.19987-0.93363-0.32779-0.89000.keras\n",
      "\n",
      "Epoch 00032: ReduceLROnPlateau reducing learning rate to 3.125000148429535e-05.\n",
      "34/34 [==============================] - 56s 2s/step - loss: 0.1999 - categorical_accuracy: 0.9336 - val_loss: 0.3278 - val_categorical_accuracy: 0.8900 - lr: 6.2500e-05\n",
      "Epoch 33/50\n",
      "34/34 [==============================] - ETA: 0s - loss: 0.1898 - categorical_accuracy: 0.9442\n",
      "Epoch 00033: saving model to model_init_2024-11-0407_39_31.249026/model-00033-0.18982-0.94419-0.30355-0.90000.keras\n",
      "34/34 [==============================] - 56s 2s/step - loss: 0.1898 - categorical_accuracy: 0.9442 - val_loss: 0.3035 - val_categorical_accuracy: 0.9000 - lr: 3.1250e-05\n",
      "Epoch 34/50\n",
      "34/34 [==============================] - ETA: 0s - loss: 0.1794 - categorical_accuracy: 0.9472\n",
      "Epoch 00034: saving model to model_init_2024-11-0407_39_31.249026/model-00034-0.17936-0.94721-0.36810-0.88000.keras\n",
      "34/34 [==============================] - 56s 2s/step - loss: 0.1794 - categorical_accuracy: 0.9472 - val_loss: 0.3681 - val_categorical_accuracy: 0.8800 - lr: 3.1250e-05\n",
      "Epoch 35/50\n",
      "34/34 [==============================] - ETA: 0s - loss: 0.1920 - categorical_accuracy: 0.9427\n",
      "Epoch 00035: saving model to model_init_2024-11-0407_39_31.249026/model-00035-0.19202-0.94268-0.27115-0.91000.keras\n",
      "34/34 [==============================] - 65s 2s/step - loss: 0.1920 - categorical_accuracy: 0.9427 - val_loss: 0.2711 - val_categorical_accuracy: 0.9100 - lr: 3.1250e-05\n",
      "Epoch 36/50\n",
      "34/34 [==============================] - ETA: 0s - loss: 0.1834 - categorical_accuracy: 0.9517\n",
      "Epoch 00036: saving model to model_init_2024-11-0407_39_31.249026/model-00036-0.18337-0.95173-0.26308-0.90000.keras\n",
      "34/34 [==============================] - 57s 2s/step - loss: 0.1834 - categorical_accuracy: 0.9517 - val_loss: 0.2631 - val_categorical_accuracy: 0.9000 - lr: 3.1250e-05\n",
      "Epoch 37/50\n",
      "34/34 [==============================] - ETA: 0s - loss: 0.1835 - categorical_accuracy: 0.9532\n",
      "Epoch 00037: saving model to model_init_2024-11-0407_39_31.249026/model-00037-0.18350-0.95324-0.30396-0.92000.keras\n",
      "34/34 [==============================] - 56s 2s/step - loss: 0.1835 - categorical_accuracy: 0.9532 - val_loss: 0.3040 - val_categorical_accuracy: 0.9200 - lr: 3.1250e-05\n",
      "Epoch 38/50\n",
      "34/34 [==============================] - ETA: 0s - loss: 0.1854 - categorical_accuracy: 0.9517\n",
      "Epoch 00038: saving model to model_init_2024-11-0407_39_31.249026/model-00038-0.18535-0.95173-0.21306-0.95000.keras\n",
      "34/34 [==============================] - 55s 2s/step - loss: 0.1854 - categorical_accuracy: 0.9517 - val_loss: 0.2131 - val_categorical_accuracy: 0.9500 - lr: 3.1250e-05\n",
      "Epoch 39/50\n",
      "34/34 [==============================] - ETA: 0s - loss: 0.1667 - categorical_accuracy: 0.9563\n",
      "Epoch 00039: saving model to model_init_2024-11-0407_39_31.249026/model-00039-0.16671-0.95626-0.27872-0.88000.keras\n",
      "34/34 [==============================] - 56s 2s/step - loss: 0.1667 - categorical_accuracy: 0.9563 - val_loss: 0.2787 - val_categorical_accuracy: 0.8800 - lr: 3.1250e-05\n",
      "Epoch 40/50\n",
      "34/34 [==============================] - ETA: 0s - loss: 0.1784 - categorical_accuracy: 0.9472\n",
      "Epoch 00040: saving model to model_init_2024-11-0407_39_31.249026/model-00040-0.17838-0.94721-0.27753-0.89000.keras\n",
      "34/34 [==============================] - 55s 2s/step - loss: 0.1784 - categorical_accuracy: 0.9472 - val_loss: 0.2775 - val_categorical_accuracy: 0.8900 - lr: 3.1250e-05\n",
      "Epoch 41/50\n",
      "34/34 [==============================] - ETA: 0s - loss: 0.1866 - categorical_accuracy: 0.9427\n",
      "Epoch 00041: saving model to model_init_2024-11-0407_39_31.249026/model-00041-0.18656-0.94268-0.29424-0.91000.keras\n",
      "\n",
      "Epoch 00041: ReduceLROnPlateau reducing learning rate to 1.5625000742147677e-05.\n",
      "34/34 [==============================] - 55s 2s/step - loss: 0.1866 - categorical_accuracy: 0.9427 - val_loss: 0.2942 - val_categorical_accuracy: 0.9100 - lr: 3.1250e-05\n",
      "Epoch 42/50\n",
      "34/34 [==============================] - ETA: 0s - loss: 0.1723 - categorical_accuracy: 0.9668\n",
      "Epoch 00042: saving model to model_init_2024-11-0407_39_31.249026/model-00042-0.17225-0.96682-0.25083-0.88000.keras\n",
      "34/34 [==============================] - 56s 2s/step - loss: 0.1723 - categorical_accuracy: 0.9668 - val_loss: 0.2508 - val_categorical_accuracy: 0.8800 - lr: 1.5625e-05\n",
      "Epoch 43/50\n",
      "34/34 [==============================] - ETA: 0s - loss: 0.1572 - categorical_accuracy: 0.9623\n",
      "Epoch 00043: saving model to model_init_2024-11-0407_39_31.249026/model-00043-0.15723-0.96229-0.29968-0.91000.keras\n",
      "34/34 [==============================] - 56s 2s/step - loss: 0.1572 - categorical_accuracy: 0.9623 - val_loss: 0.2997 - val_categorical_accuracy: 0.9100 - lr: 1.5625e-05\n",
      "Epoch 44/50\n",
      "34/34 [==============================] - ETA: 0s - loss: 0.1720 - categorical_accuracy: 0.9578\n",
      "Epoch 00044: saving model to model_init_2024-11-0407_39_31.249026/model-00044-0.17199-0.95777-0.29929-0.91000.keras\n",
      "\n",
      "Epoch 00044: ReduceLROnPlateau reducing learning rate to 7.812500371073838e-06.\n",
      "34/34 [==============================] - 56s 2s/step - loss: 0.1720 - categorical_accuracy: 0.9578 - val_loss: 0.2993 - val_categorical_accuracy: 0.9100 - lr: 1.5625e-05\n",
      "Epoch 45/50\n",
      "34/34 [==============================] - ETA: 0s - loss: 0.1721 - categorical_accuracy: 0.9532\n",
      "Epoch 00045: saving model to model_init_2024-11-0407_39_31.249026/model-00045-0.17208-0.95324-0.24893-0.92000.keras\n",
      "34/34 [==============================] - 54s 2s/step - loss: 0.1721 - categorical_accuracy: 0.9532 - val_loss: 0.2489 - val_categorical_accuracy: 0.9200 - lr: 7.8125e-06\n",
      "Epoch 46/50\n",
      "34/34 [==============================] - ETA: 0s - loss: 0.1606 - categorical_accuracy: 0.9548\n",
      "Epoch 00046: saving model to model_init_2024-11-0407_39_31.249026/model-00046-0.16064-0.95475-0.27048-0.92000.keras\n",
      "34/34 [==============================] - 55s 2s/step - loss: 0.1606 - categorical_accuracy: 0.9548 - val_loss: 0.2705 - val_categorical_accuracy: 0.9200 - lr: 7.8125e-06\n",
      "Epoch 47/50\n",
      "34/34 [==============================] - ETA: 0s - loss: 0.1506 - categorical_accuracy: 0.9608\n",
      "Epoch 00047: saving model to model_init_2024-11-0407_39_31.249026/model-00047-0.15058-0.96078-0.27759-0.92000.keras\n",
      "\n",
      "Epoch 00047: ReduceLROnPlateau reducing learning rate to 3.906250185536919e-06.\n",
      "34/34 [==============================] - 55s 2s/step - loss: 0.1506 - categorical_accuracy: 0.9608 - val_loss: 0.2776 - val_categorical_accuracy: 0.9200 - lr: 7.8125e-06\n",
      "Epoch 48/50\n",
      "34/34 [==============================] - ETA: 0s - loss: 0.1443 - categorical_accuracy: 0.9653\n",
      "Epoch 00048: saving model to model_init_2024-11-0407_39_31.249026/model-00048-0.14426-0.96531-0.31676-0.93000.keras\n",
      "34/34 [==============================] - 55s 2s/step - loss: 0.1443 - categorical_accuracy: 0.9653 - val_loss: 0.3168 - val_categorical_accuracy: 0.9300 - lr: 3.9063e-06\n",
      "Epoch 49/50\n",
      "34/34 [==============================] - ETA: 0s - loss: 0.1482 - categorical_accuracy: 0.9638\n",
      "Epoch 00049: saving model to model_init_2024-11-0407_39_31.249026/model-00049-0.14824-0.96380-0.27596-0.92000.keras\n",
      "34/34 [==============================] - 55s 2s/step - loss: 0.1482 - categorical_accuracy: 0.9638 - val_loss: 0.2760 - val_categorical_accuracy: 0.9200 - lr: 3.9063e-06\n",
      "Epoch 50/50\n",
      "34/34 [==============================] - ETA: 0s - loss: 0.1663 - categorical_accuracy: 0.9593\n",
      "Epoch 00050: saving model to model_init_2024-11-0407_39_31.249026/model-00050-0.16633-0.95928-0.27927-0.93000.keras\n",
      "\n",
      "Epoch 00050: ReduceLROnPlateau reducing learning rate to 1.9531250927684596e-06.\n",
      "34/34 [==============================] - 56s 2s/step - loss: 0.1663 - categorical_accuracy: 0.9593 - val_loss: 0.2793 - val_categorical_accuracy: 0.9300 - lr: 3.9063e-06\n"
     ]
    },
    {
     "data": {
      "text/plain": [
       "<keras.callbacks.History at 0x7f1b289efb80>"
      ]
     },
     "execution_count": 13,
     "metadata": {},
     "output_type": "execute_result"
    }
   ],
   "source": [
    "model.fit(train_generator, steps_per_epoch=steps_per_epoch, epochs=num_epochs, verbose=1, \n",
    "                    callbacks=callbacks_list, validation_data=val_generator, \n",
    "                    validation_steps=validation_steps, class_weight=None, initial_epoch=0)"
   ]
  },
  {
   "cell_type": "code",
   "execution_count": null,
   "metadata": {},
   "outputs": [],
   "source": []
  },
  {
   "cell_type": "code",
   "execution_count": null,
   "metadata": {},
   "outputs": [],
   "source": []
  }
 ],
 "metadata": {
  "kernelspec": {
   "display_name": "Python 3 (ipykernel)",
   "language": "python",
   "name": "python3"
  },
  "language_info": {
   "codemirror_mode": {
    "name": "ipython",
    "version": 3
   },
   "file_extension": ".py",
   "mimetype": "text/x-python",
   "name": "python",
   "nbconvert_exporter": "python",
   "pygments_lexer": "ipython3",
   "version": "3.12.4"
  }
 },
 "nbformat": 4,
 "nbformat_minor": 4
}
