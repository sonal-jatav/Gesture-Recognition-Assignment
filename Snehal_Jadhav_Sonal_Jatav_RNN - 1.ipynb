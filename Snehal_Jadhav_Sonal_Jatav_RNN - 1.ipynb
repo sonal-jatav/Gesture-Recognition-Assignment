{
 "cells": [
  {
   "cell_type": "markdown",
   "metadata": {},
   "source": [
    "# Gesture Recognition Assignment\n",
    "\n",
    "### Objective:\n",
    "\n",
    "Experiment with models, trainable parameters, hyperparameters to derive appropriate model to recognize a model with minimized loss and higher accuracy.\n",
    "\n",
    "---\n",
    "#### Steps\n",
    "---\n",
    "\n",
    "1. Preprocess data\n",
    "2. Standardize videos\n",
    "3. Use generator function to generate training and validation data\n",
    "4. Model selection [experiment to derive appropriate model]\n",
    "5. a. CNN + RNN LSTM\n",
    "6. b. 3D Convolution n/w\n",
    "7. Derive Loss and accuracy of different models\n",
    "8. Condense training time\n",
    "9. Derive appropriate trainable parameters - i/p weights and biases, o/p weights and biases\n",
    "10. Derive appropriate hyperparameters - no. of epochs, batch_size, learning rate, optimizer"
   ]
  },
  {
   "cell_type": "code",
   "execution_count": 1,
   "metadata": {},
   "outputs": [],
   "source": [
    "import numpy as np\n",
    "import os\n",
    "from skimage.transform import resize\n",
    "from imageio import imread\n",
    "import datetime\n",
    "import os"
   ]
  },
  {
   "cell_type": "markdown",
   "metadata": {},
   "source": [
    "We set the random seed so that the results don't vary drastically."
   ]
  },
  {
   "cell_type": "code",
   "execution_count": 2,
   "metadata": {},
   "outputs": [],
   "source": [
    "np.random.seed(30)\n",
    "import random as rn\n",
    "rn.seed(30)\n",
    "from keras import backend as K\n",
    "import tensorflow as tf\n",
    "tf.random.set_seed(30)"
   ]
  },
  {
   "cell_type": "markdown",
   "metadata": {},
   "source": [
    "In this block, you read the folder names for training and validation. You also set the `batch_size` here. Note that you set the batch size in such a way that you are able to use the GPU in full capacity. You keep increasing the batch size until the machine throws an error."
   ]
  },
  {
   "cell_type": "code",
   "execution_count": 3,
   "metadata": {},
   "outputs": [],
   "source": [
    "train_doc = np.random.permutation(open('./datasets/Project_data/train.csv').readlines())\n",
    "val_doc = np.random.permutation(open('./datasets/Project_data/val.csv').readlines())\n",
    "batch_size = 20 #experiment with the batch size\n",
    "y, z = (224, 224)"
   ]
  },
  {
   "cell_type": "code",
   "execution_count": 4,
   "metadata": {},
   "outputs": [],
   "source": [
    "# Resize images witth padding, so we do not lose the aspect ratio\n",
    "def preprocess_image_with_padding(image, target_size=(360, 360)):\n",
    "    # Calculate the scaling factor to resize image while maintaining aspect ratio\n",
    "    old_size = image.shape[:2]  # Original size (height, width)\n",
    "    ratio = min(target_size[0] / old_size[0], target_size[1] / old_size[1])\n",
    "    new_size = (int(old_size[0] * ratio), int(old_size[1] * ratio))\n",
    "    \n",
    "    # Resize the image with the calculated new size\n",
    "    image_resized = resize(image, new_size, anti_aliasing=True)\n",
    "    \n",
    "    # Ensure the resized image has 3 channels (RGB)\n",
    "    if image_resized.ndim == 2:  # If single-channel (grayscale)\n",
    "        image_resized = np.stack((image_resized,) * 3, axis=-1)  # Convert to RGB by duplicating channels\n",
    "    \n",
    "    # Create a new image array with the target size, filled with black (0) padding\n",
    "    padded_image = np.zeros((target_size[0], target_size[1], 3))\n",
    "    \n",
    "    # Place the resized image in the center of the padded image\n",
    "    pad_top = (target_size[0] - new_size[0]) // 2\n",
    "    pad_left = (target_size[1] - new_size[1]) // 2\n",
    "    padded_image[pad_top:pad_top+new_size[0], pad_left:pad_left+new_size[1], :] = image_resized\n",
    "    \n",
    "    return padded_image"
   ]
  },
  {
   "cell_type": "markdown",
   "metadata": {},
   "source": [
    "## Generator\n",
    "This is one of the most important part of the code. The overall structure of the generator has been given. In the generator, you are going to preprocess the images as you have images of 2 different dimensions as well as create a batch of video frames. You have to experiment with `img_idx`, `y`,`z` and normalization such that you get high accuracy."
   ]
  },
  {
   "cell_type": "code",
   "execution_count": 5,
   "metadata": {},
   "outputs": [],
   "source": [
    "def generator(source_path, folder_list, batch_size):\n",
    "    print('Source path = ', source_path, '; batch size =', batch_size)\n",
    "    \n",
    "    # Create a list of specific image indices you want to use for each video.\n",
    "    img_idx = [0, 2, 4, 6, 8, 10, 12, 14, 16, 18]  # Example: Using 10 frames from each video, adjust as needed\n",
    "    \n",
    "    while True:\n",
    "        # Shuffle the list of folders randomly to ensure that the training is not biased by the order of folders.\n",
    "        t = np.random.permutation(folder_list)\n",
    "        \n",
    "        # Calculate the number of batches per epoch.\n",
    "        num_batches = len(folder_list) // batch_size  # Ensuring that we have full batches only\n",
    "        \n",
    "        for batch in range(num_batches):  # We iterate over the number of batches\n",
    "            # Initialize batch data array with zeros\n",
    "            # batch_data has shape (batch_size, #frames, height, width, #channels)\n",
    "            batch_data = np.zeros((batch_size, len(img_idx), y, z, 3))  # Replace `y` and `z` with image height and width\n",
    "            batch_labels = np.zeros((batch_size, 5))  # Assuming 5 classes for one-hot encoded labels\n",
    "            \n",
    "            for folder in range(batch_size):  # Iterate over each item in the batch\n",
    "                # Get the list of images in the folder corresponding to the shuffled list\n",
    "                imgs = os.listdir(source_path + '/' + t[folder + (batch * batch_size)].split(';')[0])\n",
    "                \n",
    "                for idx, item in enumerate(img_idx):  # Iterate over the selected frames for the video\n",
    "                    # Read each specified image for the current folder\n",
    "                    image = imread(source_path + '/' + t[folder + (batch * batch_size)].strip().split(';')[0] + '/' + imgs[item]).astype(np.float32)\n",
    "                    \n",
    "                    # Crop the images and resize them to (y, z) so that all images have the same shape\n",
    "                    image = preprocess_image_with_padding(image, (y, z))\n",
    "                    # Normalize and store the image into the batch_data array\n",
    "                    batch_data[folder, idx, :, :, 0] = (image[:, :, 0] / 255.0)  # Normalizing the R channel\n",
    "                    batch_data[folder, idx, :, :, 1] = (image[:, :, 1] / 255.0)  # Normalizing the G channel\n",
    "                    batch_data[folder, idx, :, :, 2] = (image[:, :, 2] / 255.0)  # Normalizing the B channel\n",
    "                \n",
    "                # One-hot encode the label for the current folder\n",
    "                batch_labels[folder, int(t[folder + (batch * batch_size)].strip().split(';')[2])] = 1\n",
    "            \n",
    "            # Yield a batch of data and labels. Yielding allows the function to generate batches as needed during training.\n",
    "            yield batch_data, batch_labels\n",
    "\n",
    "        # Handle any remaining data that doesn't fit into a complete batch\n",
    "        remaining = len(folder_list) % batch_size\n",
    "        if remaining > 0:\n",
    "            # Prepare batch data and labels for the remaining samples\n",
    "            batch_data = np.zeros((remaining, len(img_idx), y, z, 3))\n",
    "            batch_labels = np.zeros((remaining, 5))\n",
    "            \n",
    "            for folder in range(remaining):\n",
    "                imgs = os.listdir(source_path + '/' + t[folder + (num_batches * batch_size)].split(';')[0])\n",
    "                \n",
    "                for idx, item in enumerate(img_idx):\n",
    "                    image = imread(source_path + '/' + t[folder + (num_batches * batch_size)].strip().split(';')[0] + '/' + imgs[item]).astype(np.float32)\n",
    "                    \n",
    "                    # Crop the images and resize them to (y, z) so that all images have the same shape\n",
    "                    image = preprocess_image_with_padding(image, (y, z))\n",
    "\n",
    "                    # Normalize and store the image into the batch_data array\n",
    "                    batch_data[folder, idx, :, :, 0] = (image[:, :, 0] / 255.0)\n",
    "                    batch_data[folder, idx, :, :, 1] = (image[:, :, 1] / 255.0)\n",
    "                    batch_data[folder, idx, :, :, 2] = (image[:, :, 2] / 255.0)\n",
    "                \n",
    "                batch_labels[folder, int(t[folder + (num_batches * batch_size)].strip().split(';')[2])] = 1\n",
    "            \n",
    "            yield batch_data, batch_labels"
   ]
  },
  {
   "cell_type": "markdown",
   "metadata": {},
   "source": [
    "Note here that a video is represented above in the generator as (number of images, height, width, number of channels). Take this into consideration while creating the model architecture."
   ]
  },
  {
   "cell_type": "code",
   "execution_count": 6,
   "metadata": {},
   "outputs": [
    {
     "name": "stdout",
     "output_type": "stream",
     "text": [
      "# training sequences = 663\n",
      "# validation sequences = 100\n",
      "# epochs = 50\n"
     ]
    }
   ],
   "source": [
    "curr_dt_time = datetime.datetime.now()\n",
    "train_path = './datasets/Project_data/train'\n",
    "val_path = './datasets/Project_data/val'\n",
    "num_train_sequences = len(train_doc)\n",
    "print('# training sequences =', num_train_sequences)\n",
    "num_val_sequences = len(val_doc)\n",
    "print('# validation sequences =', num_val_sequences)\n",
    "num_epochs = 50 # choose the number of epochs\n",
    "print ('# epochs =', num_epochs)"
   ]
  },
  {
   "cell_type": "markdown",
   "metadata": {},
   "source": [
    "## Model\n",
    "Here you make the model using different functionalities that Keras provides. Remember to use `Conv3D` and `MaxPooling3D` and not `Conv2D` and `Maxpooling2D` for a 3D convolution model. You would want to use `TimeDistributed` while building a Conv2D + RNN model. Also remember that the last layer is the softmax. Design the network in such a way that the model is able to give good accuracy on the least number of parameters so that it can fit in the memory of the webcam."
   ]
  },
  {
   "cell_type": "code",
   "execution_count": 7,
   "metadata": {},
   "outputs": [],
   "source": [
    "from keras.models import Sequential, Model\n",
    "from keras.layers import Dense, GRU, Flatten, TimeDistributed, Flatten, BatchNormalization, Activation, GlobalAveragePooling3D\n",
    "from keras.layers import Conv3D, MaxPooling3D\n",
    "from keras.callbacks import ModelCheckpoint, ReduceLROnPlateau\n",
    "from keras import optimizers\n"
   ]
  },
  {
   "cell_type": "code",
   "execution_count": 8,
   "metadata": {},
   "outputs": [
    {
     "name": "stderr",
     "output_type": "stream",
     "text": [
      "2024-11-03 16:00:17.495183: W tensorflow/core/common_runtime/gpu/gpu_bfc_allocator.cc:39] Overriding allow_growth setting because the TF_FORCE_GPU_ALLOW_GROWTH environment variable is set. Original config value was 0.\n",
      "2024-11-03 16:00:17.495253: I tensorflow/core/common_runtime/gpu/gpu_device.cc:1525] Created device /job:localhost/replica:0/task:0/device:GPU:0 with 14800 MB memory:  -> device: 0, name: Quadro RTX 5000, pci bus id: 0000:3f:00.0, compute capability: 7.5\n"
     ]
    }
   ],
   "source": [
    "# Model parameters\n",
    "input_shape = (16, 64, 64, 3)  # Example: (frames, height, width, channels)\n",
    "num_classes = 5  # Adjust this based on the number of gesture classes\n",
    "\n",
    "model = Sequential()\n",
    "\n",
    "# First 3D Convolutional layer\n",
    "model.add(Conv3D(16, kernel_size=(3, 3, 3), activation='relu', input_shape=input_shape, padding='same'))\n",
    "model.add(MaxPooling3D(pool_size=(2, 2, 2), padding='same'))\n",
    "# model.add(BatchNormalization())\n",
    "\n",
    "# Second 3D Convolutional layer\n",
    "model.add(Conv3D(32, kernel_size=(3, 3, 3), activation='relu', padding='same'))\n",
    "model.add(MaxPooling3D(pool_size=(2, 2, 2), padding='same'))\n",
    "# model.add(BatchNormalization())\n",
    "\n",
    "# Third 3D Convolutional layer \n",
    "model.add(Conv3D(64, kernel_size=(3, 3, 3), activation='relu', padding='same'))\n",
    "model.add(MaxPooling3D(pool_size=(2, 2, 2), padding='same'))\n",
    "# model.add(BatchNormalization())\n",
    "\n",
    "# Global Average Pooling instead of Flatten to reduce the parameter count\n",
    "model.add(GlobalAveragePooling3D())\n",
    "\n",
    "# Fully connected layer with dropout for regularization\n",
    "model.add(Dense(128, activation='relu'))\n",
    "# model.add(Dropout(0.3))\n",
    "\n",
    "# Output layer with softmax for multi-class classification\n",
    "model.add(Dense(num_classes, activation='softmax'))"
   ]
  },
  {
   "cell_type": "markdown",
   "metadata": {},
   "source": [
    "Now that you have written the model, the next step is to `compile` the model. When you print the `summary` of the model, you'll see the total number of parameters you have to train."
   ]
  },
  {
   "cell_type": "code",
   "execution_count": 9,
   "metadata": {},
   "outputs": [
    {
     "name": "stdout",
     "output_type": "stream",
     "text": [
      "Model: \"sequential\"\n",
      "_________________________________________________________________\n",
      " Layer (type)                Output Shape              Param #   \n",
      "=================================================================\n",
      " conv3d (Conv3D)             (None, 16, 64, 64, 16)    1312      \n",
      "                                                                 \n",
      " max_pooling3d (MaxPooling3D  (None, 8, 32, 32, 16)    0         \n",
      " )                                                               \n",
      "                                                                 \n",
      " conv3d_1 (Conv3D)           (None, 8, 32, 32, 32)     13856     \n",
      "                                                                 \n",
      " max_pooling3d_1 (MaxPooling  (None, 4, 16, 16, 32)    0         \n",
      " 3D)                                                             \n",
      "                                                                 \n",
      " conv3d_2 (Conv3D)           (None, 4, 16, 16, 64)     55360     \n",
      "                                                                 \n",
      " max_pooling3d_2 (MaxPooling  (None, 2, 8, 8, 64)      0         \n",
      " 3D)                                                             \n",
      "                                                                 \n",
      " global_average_pooling3d (G  (None, 64)               0         \n",
      " lobalAveragePooling3D)                                          \n",
      "                                                                 \n",
      " dense (Dense)               (None, 128)               8320      \n",
      "                                                                 \n",
      " dense_1 (Dense)             (None, 5)                 645       \n",
      "                                                                 \n",
      "=================================================================\n",
      "Total params: 79,493\n",
      "Trainable params: 79,493\n",
      "Non-trainable params: 0\n",
      "_________________________________________________________________\n",
      "None\n"
     ]
    }
   ],
   "source": [
    "optimiser = tf.keras.optimizers.Adam() #write your optimizer\n",
    "model.compile(optimizer=optimiser, loss='categorical_crossentropy', metrics=['categorical_accuracy'])\n",
    "print (model.summary())"
   ]
  },
  {
   "cell_type": "markdown",
   "metadata": {},
   "source": [
    "Let us create the `train_generator` and the `val_generator` which will be used in `.fit_generator`."
   ]
  },
  {
   "cell_type": "code",
   "execution_count": 10,
   "metadata": {},
   "outputs": [],
   "source": [
    "train_generator = generator(train_path, train_doc, batch_size)\n",
    "val_generator = generator(val_path, val_doc, batch_size)"
   ]
  },
  {
   "cell_type": "code",
   "execution_count": 11,
   "metadata": {},
   "outputs": [],
   "source": [
    "model_name = 'model_init' + '_' + str(curr_dt_time).replace(' ','').replace(':','_') + '/'\n",
    "    \n",
    "if not os.path.exists(model_name):\n",
    "    os.mkdir(model_name)\n",
    "        \n",
    "filepath = model_name + 'model-{epoch:05d}-{loss:.5f}-{categorical_accuracy:.5f}-{val_loss:.5f}-{val_categorical_accuracy:.5f}.keras'\n",
    "\n",
    "checkpoint = ModelCheckpoint(filepath, monitor='val_loss', verbose=1, save_best_only=False, save_weights_only=False, mode='auto')\n",
    "\n",
    "LR = tf.keras.callbacks.ReduceLROnPlateau(\n",
    "    monitor=\"val_loss\",\n",
    "    verbose=1,\n",
    "    mode=\"auto\"\n",
    ") # write the REducelronplateau code here\n",
    "callbacks_list = [checkpoint, LR]"
   ]
  },
  {
   "cell_type": "markdown",
   "metadata": {},
   "source": [
    "The `steps_per_epoch` and `validation_steps` are used by `fit_generator` to decide the number of next() calls it need to make."
   ]
  },
  {
   "cell_type": "code",
   "execution_count": 12,
   "metadata": {},
   "outputs": [],
   "source": [
    "if (num_train_sequences%batch_size) == 0:\n",
    "    steps_per_epoch = int(num_train_sequences/batch_size)\n",
    "else:\n",
    "    steps_per_epoch = (num_train_sequences//batch_size) + 1\n",
    "\n",
    "if (num_val_sequences%batch_size) == 0:\n",
    "    validation_steps = int(num_val_sequences/batch_size)\n",
    "else:\n",
    "    validation_steps = (num_val_sequences//batch_size) + 1"
   ]
  },
  {
   "cell_type": "markdown",
   "metadata": {},
   "source": [
    "Let us now fit the model. This will start training the model and with the help of the checkpoints, you'll be able to save the model at the end of each epoch."
   ]
  },
  {
   "cell_type": "code",
   "execution_count": 13,
   "metadata": {},
   "outputs": [
    {
     "name": "stdout",
     "output_type": "stream",
     "text": [
      "Source path =  ./datasets/Project_data/train ; batch size = 20\n",
      "Epoch 1/50\n"
     ]
    },
    {
     "name": "stderr",
     "output_type": "stream",
     "text": [
      "2024-11-03 16:00:21.224899: I tensorflow/stream_executor/cuda/cuda_dnn.cc:377] Loaded cuDNN version 8302\n"
     ]
    },
    {
     "name": "stdout",
     "output_type": "stream",
     "text": [
      "34/34 [==============================] - ETA: 0s - loss: 1.6059 - categorical_accuracy: 0.2127Source path =  ./datasets/Project_data/val ; batch size = 20\n",
      "\n",
      "Epoch 00001: saving model to model_init_2024-11-0316_00_16.737559/model-00001-1.60589-0.21267-1.56121-0.23000.keras\n",
      "34/34 [==============================] - 82s 2s/step - loss: 1.6059 - categorical_accuracy: 0.2127 - val_loss: 1.5612 - val_categorical_accuracy: 0.2300 - lr: 0.0010\n",
      "Epoch 2/50\n",
      "34/34 [==============================] - ETA: 0s - loss: 1.5647 - categorical_accuracy: 0.2262\n",
      "Epoch 00002: saving model to model_init_2024-11-0316_00_16.737559/model-00002-1.56467-0.22624-1.50220-0.43000.keras\n",
      "34/34 [==============================] - 77s 2s/step - loss: 1.5647 - categorical_accuracy: 0.2262 - val_loss: 1.5022 - val_categorical_accuracy: 0.4300 - lr: 0.0010\n",
      "Epoch 3/50\n",
      "34/34 [==============================] - ETA: 0s - loss: 1.5172 - categorical_accuracy: 0.3002\n",
      "Epoch 00003: saving model to model_init_2024-11-0316_00_16.737559/model-00003-1.51722-0.30015-1.42994-0.44000.keras\n",
      "34/34 [==============================] - 76s 2s/step - loss: 1.5172 - categorical_accuracy: 0.3002 - val_loss: 1.4299 - val_categorical_accuracy: 0.4400 - lr: 0.0010\n",
      "Epoch 4/50\n",
      "34/34 [==============================] - ETA: 0s - loss: 1.4649 - categorical_accuracy: 0.3725\n",
      "Epoch 00004: saving model to model_init_2024-11-0316_00_16.737559/model-00004-1.46492-0.37255-1.33391-0.48000.keras\n",
      "34/34 [==============================] - 76s 2s/step - loss: 1.4649 - categorical_accuracy: 0.3725 - val_loss: 1.3339 - val_categorical_accuracy: 0.4800 - lr: 0.0010\n",
      "Epoch 5/50\n",
      "34/34 [==============================] - ETA: 0s - loss: 1.4070 - categorical_accuracy: 0.3590\n",
      "Epoch 00005: saving model to model_init_2024-11-0316_00_16.737559/model-00005-1.40705-0.35897-1.20869-0.49000.keras\n",
      "34/34 [==============================] - 77s 2s/step - loss: 1.4070 - categorical_accuracy: 0.3590 - val_loss: 1.2087 - val_categorical_accuracy: 0.4900 - lr: 0.0010\n",
      "Epoch 6/50\n",
      "34/34 [==============================] - ETA: 0s - loss: 1.3739 - categorical_accuracy: 0.3635\n",
      "Epoch 00006: saving model to model_init_2024-11-0316_00_16.737559/model-00006-1.37393-0.36350-1.20501-0.49000.keras\n",
      "34/34 [==============================] - 77s 2s/step - loss: 1.3739 - categorical_accuracy: 0.3635 - val_loss: 1.2050 - val_categorical_accuracy: 0.4900 - lr: 0.0010\n",
      "Epoch 7/50\n",
      "34/34 [==============================] - ETA: 0s - loss: 1.3263 - categorical_accuracy: 0.3861\n",
      "Epoch 00007: saving model to model_init_2024-11-0316_00_16.737559/model-00007-1.32633-0.38612-1.19596-0.44000.keras\n",
      "34/34 [==============================] - 76s 2s/step - loss: 1.3263 - categorical_accuracy: 0.3861 - val_loss: 1.1960 - val_categorical_accuracy: 0.4400 - lr: 0.0010\n",
      "Epoch 8/50\n",
      "34/34 [==============================] - ETA: 0s - loss: 1.2924 - categorical_accuracy: 0.4042\n",
      "Epoch 00008: saving model to model_init_2024-11-0316_00_16.737559/model-00008-1.29244-0.40422-1.13051-0.55000.keras\n",
      "34/34 [==============================] - 75s 2s/step - loss: 1.2924 - categorical_accuracy: 0.4042 - val_loss: 1.1305 - val_categorical_accuracy: 0.5500 - lr: 0.0010\n",
      "Epoch 9/50\n",
      "34/34 [==============================] - ETA: 0s - loss: 1.3343 - categorical_accuracy: 0.3831\n",
      "Epoch 00009: saving model to model_init_2024-11-0316_00_16.737559/model-00009-1.33426-0.38311-1.33085-0.26000.keras\n",
      "34/34 [==============================] - 94s 3s/step - loss: 1.3343 - categorical_accuracy: 0.3831 - val_loss: 1.3308 - val_categorical_accuracy: 0.2600 - lr: 0.0010\n",
      "Epoch 10/50\n",
      "34/34 [==============================] - ETA: 0s - loss: 1.2980 - categorical_accuracy: 0.3982\n",
      "Epoch 00010: saving model to model_init_2024-11-0316_00_16.737559/model-00010-1.29803-0.39819-1.26565-0.35000.keras\n",
      "34/34 [==============================] - 92s 3s/step - loss: 1.2980 - categorical_accuracy: 0.3982 - val_loss: 1.2656 - val_categorical_accuracy: 0.3500 - lr: 0.0010\n",
      "Epoch 11/50\n",
      "34/34 [==============================] - ETA: 0s - loss: 1.2480 - categorical_accuracy: 0.4268\n",
      "Epoch 00011: saving model to model_init_2024-11-0316_00_16.737559/model-00011-1.24797-0.42685-1.11131-0.58000.keras\n",
      "34/34 [==============================] - 80s 2s/step - loss: 1.2480 - categorical_accuracy: 0.4268 - val_loss: 1.1113 - val_categorical_accuracy: 0.5800 - lr: 0.0010\n",
      "Epoch 12/50\n",
      "34/34 [==============================] - ETA: 0s - loss: 1.2080 - categorical_accuracy: 0.4314\n",
      "Epoch 00012: saving model to model_init_2024-11-0316_00_16.737559/model-00012-1.20799-0.43137-1.08477-0.48000.keras\n",
      "34/34 [==============================] - 86s 3s/step - loss: 1.2080 - categorical_accuracy: 0.4314 - val_loss: 1.0848 - val_categorical_accuracy: 0.4800 - lr: 0.0010\n",
      "Epoch 13/50\n",
      "34/34 [==============================] - ETA: 0s - loss: 1.1989 - categorical_accuracy: 0.4419\n",
      "Epoch 00013: saving model to model_init_2024-11-0316_00_16.737559/model-00013-1.19892-0.44193-1.12893-0.48000.keras\n",
      "34/34 [==============================] - 77s 2s/step - loss: 1.1989 - categorical_accuracy: 0.4419 - val_loss: 1.1289 - val_categorical_accuracy: 0.4800 - lr: 0.0010\n",
      "Epoch 14/50\n",
      "34/34 [==============================] - ETA: 0s - loss: 1.1561 - categorical_accuracy: 0.4661\n",
      "Epoch 00014: saving model to model_init_2024-11-0316_00_16.737559/model-00014-1.15609-0.46606-1.02062-0.64000.keras\n",
      "34/34 [==============================] - 77s 2s/step - loss: 1.1561 - categorical_accuracy: 0.4661 - val_loss: 1.0206 - val_categorical_accuracy: 0.6400 - lr: 0.0010\n",
      "Epoch 15/50\n",
      "34/34 [==============================] - ETA: 0s - loss: 1.1347 - categorical_accuracy: 0.4661\n",
      "Epoch 00015: saving model to model_init_2024-11-0316_00_16.737559/model-00015-1.13471-0.46606-1.05214-0.45000.keras\n",
      "34/34 [==============================] - 77s 2s/step - loss: 1.1347 - categorical_accuracy: 0.4661 - val_loss: 1.0521 - val_categorical_accuracy: 0.4500 - lr: 0.0010\n",
      "Epoch 16/50\n",
      "34/34 [==============================] - ETA: 0s - loss: 1.1408 - categorical_accuracy: 0.4676\n",
      "Epoch 00016: saving model to model_init_2024-11-0316_00_16.737559/model-00016-1.14082-0.46757-1.01454-0.49000.keras\n",
      "34/34 [==============================] - 82s 2s/step - loss: 1.1408 - categorical_accuracy: 0.4676 - val_loss: 1.0145 - val_categorical_accuracy: 0.4900 - lr: 0.0010\n",
      "Epoch 17/50\n",
      "34/34 [==============================] - ETA: 0s - loss: 1.1241 - categorical_accuracy: 0.5158\n",
      "Epoch 00017: saving model to model_init_2024-11-0316_00_16.737559/model-00017-1.12410-0.51584-1.00999-0.56000.keras\n",
      "34/34 [==============================] - 90s 3s/step - loss: 1.1241 - categorical_accuracy: 0.5158 - val_loss: 1.0100 - val_categorical_accuracy: 0.5600 - lr: 0.0010\n",
      "Epoch 18/50\n",
      "34/34 [==============================] - ETA: 0s - loss: 1.1087 - categorical_accuracy: 0.4842\n",
      "Epoch 00018: saving model to model_init_2024-11-0316_00_16.737559/model-00018-1.10866-0.48416-0.99025-0.61000.keras\n",
      "34/34 [==============================] - 77s 2s/step - loss: 1.1087 - categorical_accuracy: 0.4842 - val_loss: 0.9903 - val_categorical_accuracy: 0.6100 - lr: 0.0010\n",
      "Epoch 19/50\n",
      "34/34 [==============================] - ETA: 0s - loss: 1.0150 - categorical_accuracy: 0.5385\n",
      "Epoch 00019: saving model to model_init_2024-11-0316_00_16.737559/model-00019-1.01503-0.53846-0.96266-0.63000.keras\n",
      "34/34 [==============================] - 77s 2s/step - loss: 1.0150 - categorical_accuracy: 0.5385 - val_loss: 0.9627 - val_categorical_accuracy: 0.6300 - lr: 0.0010\n",
      "Epoch 20/50\n",
      "34/34 [==============================] - ETA: 0s - loss: 1.0395 - categorical_accuracy: 0.5445\n",
      "Epoch 00020: saving model to model_init_2024-11-0316_00_16.737559/model-00020-1.03948-0.54449-0.95196-0.52000.keras\n",
      "34/34 [==============================] - 77s 2s/step - loss: 1.0395 - categorical_accuracy: 0.5445 - val_loss: 0.9520 - val_categorical_accuracy: 0.5200 - lr: 0.0010\n",
      "Epoch 21/50\n",
      "33/34 [============================>.] - ETA: 2s - loss: 1.0366 - categorical_accuracy: 0.5212\n",
      "Epoch 00021: saving model to model_init_2024-11-0316_00_16.737559/model-00021-1.03854-0.52036-0.92664-0.61000.keras\n",
      "34/34 [==============================] - 79s 2s/step - loss: 1.0385 - categorical_accuracy: 0.5204 - val_loss: 0.9266 - val_categorical_accuracy: 0.6100 - lr: 0.0010\n",
      "Epoch 22/50\n",
      "34/34 [==============================] - ETA: 0s - loss: 0.9555 - categorical_accuracy: 0.5747\n",
      "Epoch 00022: saving model to model_init_2024-11-0316_00_16.737559/model-00022-0.95549-0.57466-0.89297-0.61000.keras\n",
      "34/34 [==============================] - 86s 3s/step - loss: 0.9555 - categorical_accuracy: 0.5747 - val_loss: 0.8930 - val_categorical_accuracy: 0.6100 - lr: 0.0010\n",
      "Epoch 23/50\n",
      "34/34 [==============================] - ETA: 0s - loss: 0.9993 - categorical_accuracy: 0.5656\n",
      "Epoch 00023: saving model to model_init_2024-11-0316_00_16.737559/model-00023-0.99930-0.56561-0.99400-0.61000.keras\n",
      "34/34 [==============================] - 79s 2s/step - loss: 0.9993 - categorical_accuracy: 0.5656 - val_loss: 0.9940 - val_categorical_accuracy: 0.6100 - lr: 0.0010\n",
      "Epoch 24/50\n",
      "34/34 [==============================] - ETA: 0s - loss: 0.9308 - categorical_accuracy: 0.5656\n",
      "Epoch 00024: saving model to model_init_2024-11-0316_00_16.737559/model-00024-0.93084-0.56561-0.83060-0.62000.keras\n",
      "34/34 [==============================] - 78s 2s/step - loss: 0.9308 - categorical_accuracy: 0.5656 - val_loss: 0.8306 - val_categorical_accuracy: 0.6200 - lr: 0.0010\n",
      "Epoch 25/50\n",
      "34/34 [==============================] - ETA: 0s - loss: 0.9211 - categorical_accuracy: 0.5807\n",
      "Epoch 00025: saving model to model_init_2024-11-0316_00_16.737559/model-00025-0.92109-0.58069-0.79284-0.67000.keras\n",
      "34/34 [==============================] - 77s 2s/step - loss: 0.9211 - categorical_accuracy: 0.5807 - val_loss: 0.7928 - val_categorical_accuracy: 0.6700 - lr: 0.0010\n",
      "Epoch 26/50\n",
      "34/34 [==============================] - ETA: 0s - loss: 0.8829 - categorical_accuracy: 0.5837\n",
      "Epoch 00026: saving model to model_init_2024-11-0316_00_16.737559/model-00026-0.88289-0.58371-0.92838-0.61000.keras\n",
      "34/34 [==============================] - 78s 2s/step - loss: 0.8829 - categorical_accuracy: 0.5837 - val_loss: 0.9284 - val_categorical_accuracy: 0.6100 - lr: 0.0010\n",
      "Epoch 27/50\n",
      "34/34 [==============================] - ETA: 0s - loss: 1.0044 - categorical_accuracy: 0.5354\n",
      "Epoch 00027: saving model to model_init_2024-11-0316_00_16.737559/model-00027-1.00441-0.53544-0.92738-0.58000.keras\n",
      "34/34 [==============================] - 93s 3s/step - loss: 1.0044 - categorical_accuracy: 0.5354 - val_loss: 0.9274 - val_categorical_accuracy: 0.5800 - lr: 0.0010\n",
      "Epoch 28/50\n",
      "34/34 [==============================] - ETA: 0s - loss: 0.8647 - categorical_accuracy: 0.6094\n",
      "Epoch 00028: saving model to model_init_2024-11-0316_00_16.737559/model-00028-0.86472-0.60935-0.84803-0.68000.keras\n",
      "34/34 [==============================] - 80s 2s/step - loss: 0.8647 - categorical_accuracy: 0.6094 - val_loss: 0.8480 - val_categorical_accuracy: 0.6800 - lr: 0.0010\n",
      "Epoch 29/50\n",
      "34/34 [==============================] - ETA: 0s - loss: 0.8837 - categorical_accuracy: 0.6139\n",
      "Epoch 00029: saving model to model_init_2024-11-0316_00_16.737559/model-00029-0.88370-0.61388-0.86696-0.55000.keras\n",
      "34/34 [==============================] - 78s 2s/step - loss: 0.8837 - categorical_accuracy: 0.6139 - val_loss: 0.8670 - val_categorical_accuracy: 0.5500 - lr: 0.0010\n",
      "Epoch 30/50\n",
      "34/34 [==============================] - ETA: 0s - loss: 0.8575 - categorical_accuracy: 0.6214\n",
      "Epoch 00030: saving model to model_init_2024-11-0316_00_16.737559/model-00030-0.85748-0.62142-0.77254-0.73000.keras\n",
      "34/34 [==============================] - 79s 2s/step - loss: 0.8575 - categorical_accuracy: 0.6214 - val_loss: 0.7725 - val_categorical_accuracy: 0.7300 - lr: 0.0010\n",
      "Epoch 31/50\n",
      "34/34 [==============================] - ETA: 0s - loss: 0.9055 - categorical_accuracy: 0.6048\n",
      "Epoch 00031: saving model to model_init_2024-11-0316_00_16.737559/model-00031-0.90547-0.60483-0.83068-0.66000.keras\n",
      "34/34 [==============================] - 77s 2s/step - loss: 0.9055 - categorical_accuracy: 0.6048 - val_loss: 0.8307 - val_categorical_accuracy: 0.6600 - lr: 0.0010\n",
      "Epoch 32/50\n",
      "34/34 [==============================] - ETA: 0s - loss: 0.8565 - categorical_accuracy: 0.6244\n",
      "Epoch 00032: saving model to model_init_2024-11-0316_00_16.737559/model-00032-0.85647-0.62443-0.78338-0.72000.keras\n",
      "34/34 [==============================] - 84s 3s/step - loss: 0.8565 - categorical_accuracy: 0.6244 - val_loss: 0.7834 - val_categorical_accuracy: 0.7200 - lr: 0.0010\n",
      "Epoch 33/50\n",
      "34/34 [==============================] - ETA: 0s - loss: 0.8304 - categorical_accuracy: 0.6395\n",
      "Epoch 00033: saving model to model_init_2024-11-0316_00_16.737559/model-00033-0.83036-0.63952-0.86453-0.65000.keras\n",
      "34/34 [==============================] - 80s 2s/step - loss: 0.8304 - categorical_accuracy: 0.6395 - val_loss: 0.8645 - val_categorical_accuracy: 0.6500 - lr: 0.0010\n",
      "Epoch 34/50\n",
      "34/34 [==============================] - ETA: 0s - loss: 0.9801 - categorical_accuracy: 0.5339\n",
      "Epoch 00034: saving model to model_init_2024-11-0316_00_16.737559/model-00034-0.98008-0.53394-0.90053-0.68000.keras\n",
      "34/34 [==============================] - 82s 2s/step - loss: 0.9801 - categorical_accuracy: 0.5339 - val_loss: 0.9005 - val_categorical_accuracy: 0.6800 - lr: 0.0010\n",
      "Epoch 35/50\n",
      "34/34 [==============================] - ETA: 0s - loss: 0.8705 - categorical_accuracy: 0.6139\n",
      "Epoch 00035: saving model to model_init_2024-11-0316_00_16.737559/model-00035-0.87046-0.61388-0.79653-0.67000.keras\n",
      "34/34 [==============================] - 77s 2s/step - loss: 0.8705 - categorical_accuracy: 0.6139 - val_loss: 0.7965 - val_categorical_accuracy: 0.6700 - lr: 0.0010\n",
      "Epoch 36/50\n",
      "34/34 [==============================] - ETA: 0s - loss: 0.8271 - categorical_accuracy: 0.6410\n",
      "Epoch 00036: saving model to model_init_2024-11-0316_00_16.737559/model-00036-0.82712-0.64103-0.84122-0.63000.keras\n",
      "34/34 [==============================] - 77s 2s/step - loss: 0.8271 - categorical_accuracy: 0.6410 - val_loss: 0.8412 - val_categorical_accuracy: 0.6300 - lr: 0.0010\n",
      "Epoch 37/50\n",
      "34/34 [==============================] - ETA: 0s - loss: 0.8408 - categorical_accuracy: 0.6290\n",
      "Epoch 00037: saving model to model_init_2024-11-0316_00_16.737559/model-00037-0.84081-0.62896-0.82816-0.66000.keras\n",
      "34/34 [==============================] - 83s 3s/step - loss: 0.8408 - categorical_accuracy: 0.6290 - val_loss: 0.8282 - val_categorical_accuracy: 0.6600 - lr: 0.0010\n",
      "Epoch 38/50\n",
      "34/34 [==============================] - ETA: 0s - loss: 0.8239 - categorical_accuracy: 0.6169\n",
      "Epoch 00038: saving model to model_init_2024-11-0316_00_16.737559/model-00038-0.82395-0.61689-0.77054-0.73000.keras\n",
      "34/34 [==============================] - 85s 3s/step - loss: 0.8239 - categorical_accuracy: 0.6169 - val_loss: 0.7705 - val_categorical_accuracy: 0.7300 - lr: 0.0010\n",
      "Epoch 39/50\n",
      "34/34 [==============================] - ETA: 0s - loss: 0.8698 - categorical_accuracy: 0.5792\n",
      "Epoch 00039: saving model to model_init_2024-11-0316_00_16.737559/model-00039-0.86978-0.57919-0.79726-0.64000.keras\n",
      "34/34 [==============================] - 81s 2s/step - loss: 0.8698 - categorical_accuracy: 0.5792 - val_loss: 0.7973 - val_categorical_accuracy: 0.6400 - lr: 0.0010\n",
      "Epoch 40/50\n",
      "34/34 [==============================] - ETA: 0s - loss: 0.8331 - categorical_accuracy: 0.6229\n",
      "Epoch 00040: saving model to model_init_2024-11-0316_00_16.737559/model-00040-0.83313-0.62293-0.79990-0.66000.keras\n",
      "34/34 [==============================] - 76s 2s/step - loss: 0.8331 - categorical_accuracy: 0.6229 - val_loss: 0.7999 - val_categorical_accuracy: 0.6600 - lr: 0.0010\n",
      "Epoch 41/50\n",
      "34/34 [==============================] - ETA: 0s - loss: 0.8145 - categorical_accuracy: 0.6516\n",
      "Epoch 00041: saving model to model_init_2024-11-0316_00_16.737559/model-00041-0.81452-0.65158-0.84094-0.61000.keras\n",
      "34/34 [==============================] - 78s 2s/step - loss: 0.8145 - categorical_accuracy: 0.6516 - val_loss: 0.8409 - val_categorical_accuracy: 0.6100 - lr: 0.0010\n",
      "Epoch 42/50\n",
      "34/34 [==============================] - ETA: 0s - loss: 0.7841 - categorical_accuracy: 0.6501\n",
      "Epoch 00042: saving model to model_init_2024-11-0316_00_16.737559/model-00042-0.78411-0.65008-0.68071-0.74000.keras\n",
      "34/34 [==============================] - 78s 2s/step - loss: 0.7841 - categorical_accuracy: 0.6501 - val_loss: 0.6807 - val_categorical_accuracy: 0.7400 - lr: 0.0010\n",
      "Epoch 43/50\n",
      "34/34 [==============================] - ETA: 0s - loss: 0.7867 - categorical_accuracy: 0.6501\n",
      "Epoch 00043: saving model to model_init_2024-11-0316_00_16.737559/model-00043-0.78666-0.65008-0.76810-0.67000.keras\n",
      "34/34 [==============================] - 83s 2s/step - loss: 0.7867 - categorical_accuracy: 0.6501 - val_loss: 0.7681 - val_categorical_accuracy: 0.6700 - lr: 0.0010\n",
      "Epoch 44/50\n",
      "34/34 [==============================] - ETA: 0s - loss: 0.8070 - categorical_accuracy: 0.6259\n",
      "Epoch 00044: saving model to model_init_2024-11-0316_00_16.737559/model-00044-0.80698-0.62594-0.72339-0.72000.keras\n",
      "34/34 [==============================] - 84s 3s/step - loss: 0.8070 - categorical_accuracy: 0.6259 - val_loss: 0.7234 - val_categorical_accuracy: 0.7200 - lr: 0.0010\n",
      "Epoch 45/50\n",
      "34/34 [==============================] - ETA: 0s - loss: 0.7600 - categorical_accuracy: 0.6425\n",
      "Epoch 00045: saving model to model_init_2024-11-0316_00_16.737559/model-00045-0.76001-0.64253-0.64430-0.70000.keras\n",
      "34/34 [==============================] - 83s 3s/step - loss: 0.7600 - categorical_accuracy: 0.6425 - val_loss: 0.6443 - val_categorical_accuracy: 0.7000 - lr: 0.0010\n",
      "Epoch 46/50\n",
      "34/34 [==============================] - ETA: 0s - loss: 0.8142 - categorical_accuracy: 0.6501\n",
      "Epoch 00046: saving model to model_init_2024-11-0316_00_16.737559/model-00046-0.81420-0.65008-0.84324-0.66000.keras\n",
      "34/34 [==============================] - 77s 2s/step - loss: 0.8142 - categorical_accuracy: 0.6501 - val_loss: 0.8432 - val_categorical_accuracy: 0.6600 - lr: 0.0010\n",
      "Epoch 47/50\n",
      "34/34 [==============================] - ETA: 0s - loss: 0.8055 - categorical_accuracy: 0.6335\n",
      "Epoch 00047: saving model to model_init_2024-11-0316_00_16.737559/model-00047-0.80552-0.63348-0.69786-0.79000.keras\n",
      "34/34 [==============================] - 98s 3s/step - loss: 0.8055 - categorical_accuracy: 0.6335 - val_loss: 0.6979 - val_categorical_accuracy: 0.7900 - lr: 0.0010\n",
      "Epoch 48/50\n",
      "34/34 [==============================] - ETA: 0s - loss: 0.7773 - categorical_accuracy: 0.6561\n",
      "Epoch 00048: saving model to model_init_2024-11-0316_00_16.737559/model-00048-0.77731-0.65611-0.80282-0.68000.keras\n",
      "34/34 [==============================] - 87s 3s/step - loss: 0.7773 - categorical_accuracy: 0.6561 - val_loss: 0.8028 - val_categorical_accuracy: 0.6800 - lr: 0.0010\n",
      "Epoch 49/50\n",
      "34/34 [==============================] - ETA: 0s - loss: 0.7730 - categorical_accuracy: 0.6802\n",
      "Epoch 00049: saving model to model_init_2024-11-0316_00_16.737559/model-00049-0.77305-0.68024-0.72442-0.71000.keras\n",
      "34/34 [==============================] - 82s 2s/step - loss: 0.7730 - categorical_accuracy: 0.6802 - val_loss: 0.7244 - val_categorical_accuracy: 0.7100 - lr: 0.0010\n",
      "Epoch 50/50\n",
      "34/34 [==============================] - ETA: 0s - loss: 0.7569 - categorical_accuracy: 0.6667\n",
      "Epoch 00050: saving model to model_init_2024-11-0316_00_16.737559/model-00050-0.75694-0.66667-0.95211-0.59000.keras\n",
      "34/34 [==============================] - 90s 3s/step - loss: 0.7569 - categorical_accuracy: 0.6667 - val_loss: 0.9521 - val_categorical_accuracy: 0.5900 - lr: 0.0010\n"
     ]
    },
    {
     "data": {
      "text/plain": [
       "<keras.callbacks.History at 0x7f766a53a190>"
      ]
     },
     "execution_count": 13,
     "metadata": {},
     "output_type": "execute_result"
    }
   ],
   "source": [
    "model.fit(train_generator, steps_per_epoch=steps_per_epoch, epochs=num_epochs, verbose=1, \n",
    "                    callbacks=callbacks_list, validation_data=val_generator, \n",
    "                    validation_steps=validation_steps, class_weight=None, initial_epoch=0)"
   ]
  },
  {
   "cell_type": "code",
   "execution_count": null,
   "metadata": {},
   "outputs": [],
   "source": []
  }
 ],
 "metadata": {
  "kernelspec": {
   "display_name": "Python 3 (ipykernel)",
   "language": "python",
   "name": "python3"
  },
  "language_info": {
   "codemirror_mode": {
    "name": "ipython",
    "version": 3
   },
   "file_extension": ".py",
   "mimetype": "text/x-python",
   "name": "python",
   "nbconvert_exporter": "python",
   "pygments_lexer": "ipython3",
   "version": "3.12.4"
  }
 },
 "nbformat": 4,
 "nbformat_minor": 4
}
