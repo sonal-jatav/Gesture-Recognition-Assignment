{
 "cells": [
  {
   "cell_type": "markdown",
   "metadata": {},
   "source": [
    "# Gesture Recognition Assignment\n",
    "\n",
    "### Objective:\n",
    "\n",
    "Experiment with models, trainable parameters, hyperparameters to derive appropriate model to recognize a model with minimized loss and higher accuracy.\n",
    "\n",
    "---\n",
    "#### Steps\n",
    "---\n",
    "\n",
    "1. Preprocess data\n",
    "2. Standardize videos\n",
    "3. Use generator function to generate training and validation data\n",
    "4. Model selection [experiment to derive appropriate model]\n",
    "5. a. CNN + RNN LSTM\n",
    "6. b. 3D Convolution n/w\n",
    "7. Derive Loss and accuracy of different models\n",
    "8. Condense training time\n",
    "9. Derive appropriate trainable parameters - i/p weights and biases, o/p weights and biases\n",
    "10. Derive appropriate hyperparameters - no. of epochs, batch_size, learning rate, optimizer"
   ]
  },
  {
   "cell_type": "code",
   "execution_count": 1,
   "metadata": {},
   "outputs": [],
   "source": [
    "import numpy as np\n",
    "import os\n",
    "from skimage.transform import resize\n",
    "from imageio import imread\n",
    "import datetime\n",
    "import os"
   ]
  },
  {
   "cell_type": "markdown",
   "metadata": {},
   "source": [
    "We set the random seed so that the results don't vary drastically."
   ]
  },
  {
   "cell_type": "code",
   "execution_count": 2,
   "metadata": {},
   "outputs": [],
   "source": [
    "np.random.seed(30)\n",
    "import random as rn\n",
    "rn.seed(30)\n",
    "from keras import backend as K\n",
    "import tensorflow as tf\n",
    "tf.random.set_seed(30)"
   ]
  },
  {
   "cell_type": "markdown",
   "metadata": {},
   "source": [
    "In this block, you read the folder names for training and validation. You also set the `batch_size` here. Note that you set the batch size in such a way that you are able to use the GPU in full capacity. You keep increasing the batch size until the machine throws an error."
   ]
  },
  {
   "cell_type": "code",
   "execution_count": 3,
   "metadata": {},
   "outputs": [],
   "source": [
    "train_doc = np.random.permutation(open('./datasets/Project_data/train.csv').readlines())\n",
    "val_doc = np.random.permutation(open('./datasets/Project_data/val.csv').readlines())\n",
    "batch_size = 5 #experiment with the batch size\n",
    "y, z = (128, 128)"
   ]
  },
  {
   "cell_type": "code",
   "execution_count": 4,
   "metadata": {},
   "outputs": [],
   "source": [
    "# Resize images witth padding, so we do not lose the aspect ratio\n",
    "def preprocess_image_with_padding(image, target_size=(360, 360)):\n",
    "    # Calculate the scaling factor to resize image while maintaining aspect ratio\n",
    "    old_size = image.shape[:2]  # Original size (height, width)\n",
    "    ratio = min(target_size[0] / old_size[0], target_size[1] / old_size[1])\n",
    "    new_size = (int(old_size[0] * ratio), int(old_size[1] * ratio))\n",
    "    \n",
    "    # Resize the image with the calculated new size\n",
    "    image_resized = resize(image, new_size, anti_aliasing=True)\n",
    "    \n",
    "    # Create a new image array with the target size, filled with black (0) padding\n",
    "    padded_image = np.zeros((target_size[0], target_size[1], 3))\n",
    "    \n",
    "    # Place the resized image in the center of the padded image\n",
    "    pad_top = (target_size[0] - new_size[0]) // 2\n",
    "    pad_left = (target_size[1] - new_size[1]) // 2\n",
    "    padded_image[pad_top:pad_top+new_size[0], pad_left:pad_left+new_size[1], :] = image_resized\n",
    "    \n",
    "    return padded_image"
   ]
  },
  {
   "cell_type": "markdown",
   "metadata": {},
   "source": [
    "## Generator\n",
    "This is one of the most important part of the code. The overall structure of the generator has been given. In the generator, you are going to preprocess the images as you have images of 2 different dimensions as well as create a batch of video frames. You have to experiment with `img_idx`, `y`,`z` and normalization such that you get high accuracy."
   ]
  },
  {
   "cell_type": "code",
   "execution_count": 5,
   "metadata": {},
   "outputs": [],
   "source": [
    "def generator(source_path, folder_list, batch_size):\n",
    "    print('Source path = ', source_path, '; batch size =', batch_size)\n",
    "    \n",
    "    # Create a list of specific image indices you want to use for each video.\n",
    "    img_idx = [0, 2, 4, 6, 8, 10, 12, 14, 16, 18]  # Example: Using 10 frames from each video, adjust as needed\n",
    "    \n",
    "    while True:\n",
    "        # Shuffle the list of folders randomly to ensure that the training is not biased by the order of folders.\n",
    "        t = np.random.permutation(folder_list)\n",
    "        \n",
    "        # Calculate the number of batches per epoch.\n",
    "        num_batches = len(folder_list) // batch_size  # Ensuring that we have full batches only\n",
    "        \n",
    "        for batch in range(num_batches):  # We iterate over the number of batches\n",
    "            # Initialize batch data array with zeros\n",
    "            # batch_data has shape (batch_size, #frames, height, width, #channels)\n",
    "            batch_data = np.zeros((batch_size, len(img_idx), y, z, 3))  # Replace `y` and `z` with image height and width\n",
    "            batch_labels = np.zeros((batch_size, 5))  # Assuming 5 classes for one-hot encoded labels\n",
    "            \n",
    "            for folder in range(batch_size):  # Iterate over each item in the batch\n",
    "                # Get the list of images in the folder corresponding to the shuffled list\n",
    "                imgs = os.listdir(source_path + '/' + t[folder + (batch * batch_size)].split(';')[0])\n",
    "                \n",
    "                for idx, item in enumerate(img_idx):  # Iterate over the selected frames for the video\n",
    "                    # Read each specified image for the current folder\n",
    "                    image = imread(source_path + '/' + t[folder + (batch * batch_size)].strip().split(';')[0] + '/' + imgs[item]).astype(np.float32)\n",
    "                    \n",
    "                    # Crop the images and resize them to (y, z) so that all images have the same shape\n",
    "                    image = preprocess_image_with_padding(image, (y, z))\n",
    "                    # Normalize and store the image into the batch_data array\n",
    "                    batch_data[folder, idx, :, :, 0] = (image[:, :, 0] / 255.0)  # Normalizing the R channel\n",
    "                    batch_data[folder, idx, :, :, 1] = (image[:, :, 1] / 255.0)  # Normalizing the G channel\n",
    "                    batch_data[folder, idx, :, :, 2] = (image[:, :, 2] / 255.0)  # Normalizing the B channel\n",
    "                \n",
    "                # One-hot encode the label for the current folder\n",
    "                batch_labels[folder, int(t[folder + (batch * batch_size)].strip().split(';')[2])] = 1\n",
    "            \n",
    "            # Yield a batch of data and labels. Yielding allows the function to generate batches as needed during training.\n",
    "            yield batch_data, batch_labels\n",
    "\n",
    "        # Handle any remaining data that doesn't fit into a complete batch\n",
    "        remaining = len(folder_list) % batch_size\n",
    "        if remaining > 0:\n",
    "            # Prepare batch data and labels for the remaining samples\n",
    "            batch_data = np.zeros((remaining, len(img_idx), y, z, 3))\n",
    "            batch_labels = np.zeros((remaining, 5))\n",
    "            \n",
    "            for folder in range(remaining):\n",
    "                imgs = os.listdir(source_path + '/' + t[folder + (num_batches * batch_size)].split(';')[0])\n",
    "                \n",
    "                for idx, item in enumerate(img_idx):\n",
    "                    image = imread(source_path + '/' + t[folder + (num_batches * batch_size)].strip().split(';')[0] + '/' + imgs[item]).astype(np.float32)\n",
    "                    \n",
    "                    # Crop the images and resize them to (y, z) so that all images have the same shape\n",
    "                    image = preprocess_image_with_padding(image, (y, z))\n",
    "\n",
    "                    # Normalize and store the image into the batch_data array\n",
    "                    batch_data[folder, idx, :, :, 0] = (image[:, :, 0] / 255.0)\n",
    "                    batch_data[folder, idx, :, :, 1] = (image[:, :, 1] / 255.0)\n",
    "                    batch_data[folder, idx, :, :, 2] = (image[:, :, 2] / 255.0)\n",
    "                \n",
    "                batch_labels[folder, int(t[folder + (num_batches * batch_size)].strip().split(';')[2])] = 1\n",
    "            \n",
    "            yield batch_data, batch_labels"
   ]
  },
  {
   "cell_type": "markdown",
   "metadata": {},
   "source": [
    "Note here that a video is represented above in the generator as (number of images, height, width, number of channels). Take this into consideration while creating the model architecture."
   ]
  },
  {
   "cell_type": "code",
   "execution_count": 6,
   "metadata": {},
   "outputs": [
    {
     "name": "stdout",
     "output_type": "stream",
     "text": [
      "# training sequences = 663\n",
      "# validation sequences = 100\n",
      "# epochs = 30\n"
     ]
    }
   ],
   "source": [
    "curr_dt_time = datetime.datetime.now()\n",
    "train_path = './datasets/Project_data/train'\n",
    "val_path = './datasets/Project_data/val'\n",
    "num_train_sequences = len(train_doc)\n",
    "print('# training sequences =', num_train_sequences)\n",
    "num_val_sequences = len(val_doc)\n",
    "print('# validation sequences =', num_val_sequences)\n",
    "num_epochs = 30 # choose the number of epochs\n",
    "print ('# epochs =', num_epochs)"
   ]
  },
  {
   "cell_type": "markdown",
   "metadata": {},
   "source": [
    "## Model\n",
    "Here you make the model using different functionalities that Keras provides. Remember to use `Conv3D` and `MaxPooling3D` and not `Conv2D` and `Maxpooling2D` for a 3D convolution model. You would want to use `TimeDistributed` while building a Conv2D + RNN model. Also remember that the last layer is the softmax. Design the network in such a way that the model is able to give good accuracy on the least number of parameters so that it can fit in the memory of the webcam."
   ]
  },
  {
   "cell_type": "code",
   "execution_count": 7,
   "metadata": {},
   "outputs": [],
   "source": [
    "from keras.models import Sequential, Model\n",
    "from keras.layers import Dense, ConvLSTM2D, GRU, Flatten, TimeDistributed, Flatten, BatchNormalization, Activation, GlobalAveragePooling3D, GlobalAveragePooling2D\n",
    "from keras.layers import Conv3D, MaxPooling3D\n",
    "from keras.callbacks import ModelCheckpoint, ReduceLROnPlateau\n",
    "from keras import optimizers\n"
   ]
  },
  {
   "cell_type": "code",
   "execution_count": 8,
   "metadata": {},
   "outputs": [
    {
     "name": "stderr",
     "output_type": "stream",
     "text": [
      "2024-11-04 06:14:48.455318: W tensorflow/core/common_runtime/gpu/gpu_bfc_allocator.cc:39] Overriding allow_growth setting because the TF_FORCE_GPU_ALLOW_GROWTH environment variable is set. Original config value was 0.\n",
      "2024-11-04 06:14:48.455386: I tensorflow/core/common_runtime/gpu/gpu_device.cc:1525] Created device /job:localhost/replica:0/task:0/device:GPU:0 with 14800 MB memory:  -> device: 0, name: Quadro RTX 5000, pci bus id: 0000:40:00.0, compute capability: 7.5\n"
     ]
    }
   ],
   "source": [
    "# Model parameters\n",
    "input_shape = (10, 128, 128, 3)  # Example: (frames, height, width, channels)\n",
    "num_classes = 5\n",
    "\n",
    "model = Sequential()\n",
    "\n",
    "# First 3D Convolutional layer\n",
    "model.add(ConvLSTM2D(16, kernel_size=(3, 3), activation='relu', input_shape=input_shape, padding='same', return_sequences=True))\n",
    "# model.add(MaxPooling3D(pool_size=(2, 2, 2), padding='same'))\n",
    "model.add(BatchNormalization())\n",
    "\n",
    "# Second 3D Convolutional layer\n",
    "model.add(ConvLSTM2D(32, kernel_size=(3, 3), activation='relu', padding='same', return_sequences=True))\n",
    "# model.add(MaxPooling3D(pool_size=(2, 2, 2), padding='same'))\n",
    "model.add(BatchNormalization())\n",
    "\n",
    "# Third 3D Convolutional layer \n",
    "model.add(ConvLSTM2D(64, kernel_size=(3, 3), activation='relu', padding='same', return_sequences=False))\n",
    "# model.add(MaxPooling3D(pool_size=(2, 2, 2), padding='same'))\n",
    "model.add(BatchNormalization())\n",
    "\n",
    "# Global Average Pooling instead of Flatten to reduce the parameter count\n",
    "model.add(GlobalAveragePooling2D())\n",
    "\n",
    "# Fully connected layer with dropout for regularization\n",
    "model.add(Dense(128, activation='relu'))\n",
    "# model.add(Dropout(0.3))\n",
    "\n",
    "# Output layer with softmax for multi-class classification\n",
    "model.add(Dense(num_classes, activation='softmax'))"
   ]
  },
  {
   "cell_type": "markdown",
   "metadata": {},
   "source": [
    "Now that you have written the model, the next step is to `compile` the model. When you print the `summary` of the model, you'll see the total number of parameters you have to train."
   ]
  },
  {
   "cell_type": "code",
   "execution_count": 9,
   "metadata": {},
   "outputs": [
    {
     "name": "stdout",
     "output_type": "stream",
     "text": [
      "Model: \"sequential\"\n",
      "_________________________________________________________________\n",
      " Layer (type)                Output Shape              Param #   \n",
      "=================================================================\n",
      " conv_lstm2d (ConvLSTM2D)    (None, 10, 128, 128, 16)  11008     \n",
      "                                                                 \n",
      " batch_normalization (BatchN  (None, 10, 128, 128, 16)  64       \n",
      " ormalization)                                                   \n",
      "                                                                 \n",
      " conv_lstm2d_1 (ConvLSTM2D)  (None, 10, 128, 128, 32)  55424     \n",
      "                                                                 \n",
      " batch_normalization_1 (Batc  (None, 10, 128, 128, 32)  128      \n",
      " hNormalization)                                                 \n",
      "                                                                 \n",
      " conv_lstm2d_2 (ConvLSTM2D)  (None, 128, 128, 64)      221440    \n",
      "                                                                 \n",
      " batch_normalization_2 (Batc  (None, 128, 128, 64)     256       \n",
      " hNormalization)                                                 \n",
      "                                                                 \n",
      " global_average_pooling2d (G  (None, 64)               0         \n",
      " lobalAveragePooling2D)                                          \n",
      "                                                                 \n",
      " dense (Dense)               (None, 128)               8320      \n",
      "                                                                 \n",
      " dense_1 (Dense)             (None, 5)                 645       \n",
      "                                                                 \n",
      "=================================================================\n",
      "Total params: 297,285\n",
      "Trainable params: 297,061\n",
      "Non-trainable params: 224\n",
      "_________________________________________________________________\n",
      "None\n"
     ]
    }
   ],
   "source": [
    "optimiser = tf.keras.optimizers.Adam() #write your optimizer\n",
    "model.compile(optimizer=optimiser, loss='categorical_crossentropy', metrics=['categorical_accuracy'])\n",
    "print (model.summary())"
   ]
  },
  {
   "cell_type": "markdown",
   "metadata": {},
   "source": [
    "Let us create the `train_generator` and the `val_generator` which will be used in `.fit_generator`."
   ]
  },
  {
   "cell_type": "code",
   "execution_count": 10,
   "metadata": {},
   "outputs": [],
   "source": [
    "train_generator = generator(train_path, train_doc, batch_size)\n",
    "val_generator = generator(val_path, val_doc, batch_size)"
   ]
  },
  {
   "cell_type": "code",
   "execution_count": 11,
   "metadata": {},
   "outputs": [],
   "source": [
    "model_name = 'model_init' + '_' + str(curr_dt_time).replace(' ','').replace(':','_') + '/'\n",
    "    \n",
    "if not os.path.exists(model_name):\n",
    "    os.mkdir(model_name)\n",
    "        \n",
    "filepath = model_name + 'model-{epoch:05d}-{loss:.5f}-{categorical_accuracy:.5f}-{val_loss:.5f}-{val_categorical_accuracy:.5f}.keras'\n",
    "\n",
    "checkpoint = ModelCheckpoint(filepath, monitor='val_loss', verbose=1, save_best_only=False, save_weights_only=False, mode='auto')\n",
    "\n",
    "LR = tf.keras.callbacks.ReduceLROnPlateau(\n",
    "    monitor=\"val_loss\",\n",
    "    verbose=1,\n",
    "    mode=\"auto\"\n",
    ") # write the REducelronplateau code here\n",
    "callbacks_list = [checkpoint, LR]"
   ]
  },
  {
   "cell_type": "markdown",
   "metadata": {},
   "source": [
    "The `steps_per_epoch` and `validation_steps` are used by `fit_generator` to decide the number of next() calls it need to make."
   ]
  },
  {
   "cell_type": "code",
   "execution_count": 12,
   "metadata": {},
   "outputs": [],
   "source": [
    "if (num_train_sequences%batch_size) == 0:\n",
    "    steps_per_epoch = int(num_train_sequences/batch_size)\n",
    "else:\n",
    "    steps_per_epoch = (num_train_sequences//batch_size) + 1\n",
    "\n",
    "if (num_val_sequences%batch_size) == 0:\n",
    "    validation_steps = int(num_val_sequences/batch_size)\n",
    "else:\n",
    "    validation_steps = (num_val_sequences//batch_size) + 1"
   ]
  },
  {
   "cell_type": "markdown",
   "metadata": {},
   "source": [
    "Let us now fit the model. This will start training the model and with the help of the checkpoints, you'll be able to save the model at the end of each epoch."
   ]
  },
  {
   "cell_type": "code",
   "execution_count": 13,
   "metadata": {},
   "outputs": [
    {
     "name": "stdout",
     "output_type": "stream",
     "text": [
      "Source path =  ./datasets/Project_data/train ; batch size = 5\n",
      "Epoch 1/30\n"
     ]
    },
    {
     "name": "stderr",
     "output_type": "stream",
     "text": [
      "2024-11-04 06:14:56.415269: I tensorflow/stream_executor/cuda/cuda_dnn.cc:377] Loaded cuDNN version 8302\n"
     ]
    },
    {
     "name": "stdout",
     "output_type": "stream",
     "text": [
      "133/133 [==============================] - ETA: 0s - loss: 1.3854 - categorical_accuracy: 0.3861Source path =  ./datasets/Project_data/val ; batch size = 5\n",
      "\n",
      "Epoch 00001: saving model to model_init_2024-11-0406_14_47.607260/model-00001-1.38543-0.38612-1.88902-0.16000.keras\n",
      "133/133 [==============================] - 86s 579ms/step - loss: 1.3854 - categorical_accuracy: 0.3861 - val_loss: 1.8890 - val_categorical_accuracy: 0.1600 - lr: 0.0010\n",
      "Epoch 2/30\n",
      "133/133 [==============================] - ETA: 0s - loss: 1.3096 - categorical_accuracy: 0.3967\n",
      "Epoch 00002: saving model to model_init_2024-11-0406_14_47.607260/model-00002-1.30955-0.39668-2.11902-0.14000.keras\n",
      "133/133 [==============================] - 75s 567ms/step - loss: 1.3096 - categorical_accuracy: 0.3967 - val_loss: 2.1190 - val_categorical_accuracy: 0.1400 - lr: 0.0010\n",
      "Epoch 3/30\n",
      "133/133 [==============================] - ETA: 0s - loss: 1.1804 - categorical_accuracy: 0.4947\n",
      "Epoch 00003: saving model to model_init_2024-11-0406_14_47.607260/model-00003-1.18041-0.49472-1.66634-0.24000.keras\n",
      "133/133 [==============================] - 75s 567ms/step - loss: 1.1804 - categorical_accuracy: 0.4947 - val_loss: 1.6663 - val_categorical_accuracy: 0.2400 - lr: 0.0010\n",
      "Epoch 4/30\n",
      "133/133 [==============================] - ETA: 0s - loss: 1.1248 - categorical_accuracy: 0.5158\n",
      "Epoch 00004: saving model to model_init_2024-11-0406_14_47.607260/model-00004-1.12476-0.51584-1.61049-0.25000.keras\n",
      "133/133 [==============================] - 76s 568ms/step - loss: 1.1248 - categorical_accuracy: 0.5158 - val_loss: 1.6105 - val_categorical_accuracy: 0.2500 - lr: 0.0010\n",
      "Epoch 5/30\n",
      "133/133 [==============================] - ETA: 0s - loss: 1.1015 - categorical_accuracy: 0.5234\n",
      "Epoch 00005: saving model to model_init_2024-11-0406_14_47.607260/model-00005-1.10146-0.52338-2.20868-0.28000.keras\n",
      "133/133 [==============================] - 76s 573ms/step - loss: 1.1015 - categorical_accuracy: 0.5234 - val_loss: 2.2087 - val_categorical_accuracy: 0.2800 - lr: 0.0010\n",
      "Epoch 6/30\n",
      "133/133 [==============================] - ETA: 0s - loss: 1.0605 - categorical_accuracy: 0.5626\n",
      "Epoch 00006: saving model to model_init_2024-11-0406_14_47.607260/model-00006-1.06049-0.56259-1.48951-0.32000.keras\n",
      "133/133 [==============================] - 75s 566ms/step - loss: 1.0605 - categorical_accuracy: 0.5626 - val_loss: 1.4895 - val_categorical_accuracy: 0.3200 - lr: 0.0010\n",
      "Epoch 7/30\n",
      "133/133 [==============================] - ETA: 0s - loss: 1.0088 - categorical_accuracy: 0.5656\n",
      "Epoch 00007: saving model to model_init_2024-11-0406_14_47.607260/model-00007-1.00876-0.56561-1.73790-0.50000.keras\n",
      "133/133 [==============================] - 75s 563ms/step - loss: 1.0088 - categorical_accuracy: 0.5656 - val_loss: 1.7379 - val_categorical_accuracy: 0.5000 - lr: 0.0010\n",
      "Epoch 8/30\n",
      "133/133 [==============================] - ETA: 0s - loss: 0.9107 - categorical_accuracy: 0.6003\n",
      "Epoch 00008: saving model to model_init_2024-11-0406_14_47.607260/model-00008-0.91073-0.60030-2.49404-0.26000.keras\n",
      "133/133 [==============================] - 75s 568ms/step - loss: 0.9107 - categorical_accuracy: 0.6003 - val_loss: 2.4940 - val_categorical_accuracy: 0.2600 - lr: 0.0010\n",
      "Epoch 9/30\n",
      "133/133 [==============================] - ETA: 0s - loss: 0.9095 - categorical_accuracy: 0.6003\n",
      "Epoch 00009: saving model to model_init_2024-11-0406_14_47.607260/model-00009-0.90951-0.60030-0.84513-0.76000.keras\n",
      "133/133 [==============================] - 75s 562ms/step - loss: 0.9095 - categorical_accuracy: 0.6003 - val_loss: 0.8451 - val_categorical_accuracy: 0.7600 - lr: 0.0010\n",
      "Epoch 10/30\n",
      "133/133 [==============================] - ETA: 0s - loss: 0.8492 - categorical_accuracy: 0.6606\n",
      "Epoch 00010: saving model to model_init_2024-11-0406_14_47.607260/model-00010-0.84921-0.66063-1.65709-0.42000.keras\n",
      "133/133 [==============================] - 75s 562ms/step - loss: 0.8492 - categorical_accuracy: 0.6606 - val_loss: 1.6571 - val_categorical_accuracy: 0.4200 - lr: 0.0010\n",
      "Epoch 11/30\n",
      "133/133 [==============================] - ETA: 0s - loss: 0.9185 - categorical_accuracy: 0.6275\n",
      "Epoch 00011: saving model to model_init_2024-11-0406_14_47.607260/model-00011-0.91852-0.62745-1.20764-0.41000.keras\n",
      "133/133 [==============================] - 75s 564ms/step - loss: 0.9185 - categorical_accuracy: 0.6275 - val_loss: 1.2076 - val_categorical_accuracy: 0.4100 - lr: 0.0010\n",
      "Epoch 12/30\n",
      "133/133 [==============================] - ETA: 0s - loss: 0.9133 - categorical_accuracy: 0.6290\n",
      "Epoch 00012: saving model to model_init_2024-11-0406_14_47.607260/model-00012-0.91335-0.62896-1.19601-0.55000.keras\n",
      "133/133 [==============================] - 75s 562ms/step - loss: 0.9133 - categorical_accuracy: 0.6290 - val_loss: 1.1960 - val_categorical_accuracy: 0.5500 - lr: 0.0010\n",
      "Epoch 13/30\n",
      "133/133 [==============================] - ETA: 0s - loss: 0.7731 - categorical_accuracy: 0.6923\n",
      "Epoch 00013: saving model to model_init_2024-11-0406_14_47.607260/model-00013-0.77311-0.69231-1.16957-0.43000.keras\n",
      "133/133 [==============================] - 74s 560ms/step - loss: 0.7731 - categorical_accuracy: 0.6923 - val_loss: 1.1696 - val_categorical_accuracy: 0.4300 - lr: 0.0010\n",
      "Epoch 14/30\n",
      "133/133 [==============================] - ETA: 0s - loss: 0.7949 - categorical_accuracy: 0.6787\n",
      "Epoch 00014: saving model to model_init_2024-11-0406_14_47.607260/model-00014-0.79491-0.67873-1.09920-0.59000.keras\n",
      "133/133 [==============================] - 75s 565ms/step - loss: 0.7949 - categorical_accuracy: 0.6787 - val_loss: 1.0992 - val_categorical_accuracy: 0.5900 - lr: 0.0010\n",
      "Epoch 15/30\n",
      "133/133 [==============================] - ETA: 0s - loss: 0.7494 - categorical_accuracy: 0.6878\n",
      "Epoch 00015: saving model to model_init_2024-11-0406_14_47.607260/model-00015-0.74936-0.68778-1.29306-0.54000.keras\n",
      "133/133 [==============================] - 75s 563ms/step - loss: 0.7494 - categorical_accuracy: 0.6878 - val_loss: 1.2931 - val_categorical_accuracy: 0.5400 - lr: 0.0010\n",
      "Epoch 16/30\n",
      "133/133 [==============================] - ETA: 0s - loss: 0.7472 - categorical_accuracy: 0.7029\n",
      "Epoch 00016: saving model to model_init_2024-11-0406_14_47.607260/model-00016-0.74717-0.70287-0.90174-0.59000.keras\n",
      "133/133 [==============================] - 75s 564ms/step - loss: 0.7472 - categorical_accuracy: 0.7029 - val_loss: 0.9017 - val_categorical_accuracy: 0.5900 - lr: 0.0010\n",
      "Epoch 17/30\n",
      "133/133 [==============================] - ETA: 0s - loss: 0.7416 - categorical_accuracy: 0.7014\n",
      "Epoch 00017: saving model to model_init_2024-11-0406_14_47.607260/model-00017-0.74157-0.70136-2.58690-0.40000.keras\n",
      "133/133 [==============================] - 75s 561ms/step - loss: 0.7416 - categorical_accuracy: 0.7014 - val_loss: 2.5869 - val_categorical_accuracy: 0.4000 - lr: 0.0010\n",
      "Epoch 18/30\n",
      "133/133 [==============================] - ETA: 0s - loss: 0.7228 - categorical_accuracy: 0.7089\n",
      "Epoch 00018: saving model to model_init_2024-11-0406_14_47.607260/model-00018-0.72281-0.70890-1.24035-0.63000.keras\n",
      "133/133 [==============================] - 75s 563ms/step - loss: 0.7228 - categorical_accuracy: 0.7089 - val_loss: 1.2404 - val_categorical_accuracy: 0.6300 - lr: 0.0010\n",
      "Epoch 19/30\n",
      "133/133 [==============================] - ETA: 0s - loss: 0.7515 - categorical_accuracy: 0.7029\n",
      "Epoch 00019: saving model to model_init_2024-11-0406_14_47.607260/model-00019-0.75154-0.70287-0.97529-0.67000.keras\n",
      "\n",
      "Epoch 00019: ReduceLROnPlateau reducing learning rate to 0.00010000000474974513.\n",
      "133/133 [==============================] - 75s 565ms/step - loss: 0.7515 - categorical_accuracy: 0.7029 - val_loss: 0.9753 - val_categorical_accuracy: 0.6700 - lr: 0.0010\n",
      "Epoch 20/30\n",
      "133/133 [==============================] - ETA: 0s - loss: 0.6638 - categorical_accuracy: 0.7330\n",
      "Epoch 00020: saving model to model_init_2024-11-0406_14_47.607260/model-00020-0.66381-0.73303-0.44350-0.88000.keras\n",
      "133/133 [==============================] - 76s 574ms/step - loss: 0.6638 - categorical_accuracy: 0.7330 - val_loss: 0.4435 - val_categorical_accuracy: 0.8800 - lr: 1.0000e-04\n",
      "Epoch 21/30\n",
      "133/133 [==============================] - ETA: 0s - loss: 0.6200 - categorical_accuracy: 0.7466\n",
      "Epoch 00021: saving model to model_init_2024-11-0406_14_47.607260/model-00021-0.62002-0.74661-0.39683-0.85000.keras\n",
      "133/133 [==============================] - 74s 558ms/step - loss: 0.6200 - categorical_accuracy: 0.7466 - val_loss: 0.3968 - val_categorical_accuracy: 0.8500 - lr: 1.0000e-04\n",
      "Epoch 22/30\n",
      "133/133 [==============================] - ETA: 0s - loss: 0.6548 - categorical_accuracy: 0.7376\n",
      "Epoch 00022: saving model to model_init_2024-11-0406_14_47.607260/model-00022-0.65480-0.73756-0.41579-0.88000.keras\n",
      "133/133 [==============================] - 75s 562ms/step - loss: 0.6548 - categorical_accuracy: 0.7376 - val_loss: 0.4158 - val_categorical_accuracy: 0.8800 - lr: 1.0000e-04\n",
      "Epoch 23/30\n",
      "133/133 [==============================] - ETA: 0s - loss: 0.6036 - categorical_accuracy: 0.7436\n",
      "Epoch 00023: saving model to model_init_2024-11-0406_14_47.607260/model-00023-0.60364-0.74359-0.42069-0.88000.keras\n",
      "133/133 [==============================] - 74s 558ms/step - loss: 0.6036 - categorical_accuracy: 0.7436 - val_loss: 0.4207 - val_categorical_accuracy: 0.8800 - lr: 1.0000e-04\n",
      "Epoch 24/30\n",
      "133/133 [==============================] - ETA: 0s - loss: 0.6135 - categorical_accuracy: 0.7466\n",
      "Epoch 00024: saving model to model_init_2024-11-0406_14_47.607260/model-00024-0.61351-0.74661-0.36008-0.88000.keras\n",
      "133/133 [==============================] - 76s 569ms/step - loss: 0.6135 - categorical_accuracy: 0.7466 - val_loss: 0.3601 - val_categorical_accuracy: 0.8800 - lr: 1.0000e-04\n",
      "Epoch 25/30\n",
      "133/133 [==============================] - ETA: 0s - loss: 0.5748 - categorical_accuracy: 0.7602\n",
      "Epoch 00025: saving model to model_init_2024-11-0406_14_47.607260/model-00025-0.57476-0.76018-0.43594-0.87000.keras\n",
      "133/133 [==============================] - 76s 571ms/step - loss: 0.5748 - categorical_accuracy: 0.7602 - val_loss: 0.4359 - val_categorical_accuracy: 0.8700 - lr: 1.0000e-04\n",
      "Epoch 26/30\n",
      "133/133 [==============================] - ETA: 0s - loss: 0.5904 - categorical_accuracy: 0.7541\n",
      "Epoch 00026: saving model to model_init_2024-11-0406_14_47.607260/model-00026-0.59039-0.75415-0.40821-0.87000.keras\n",
      "133/133 [==============================] - 76s 569ms/step - loss: 0.5904 - categorical_accuracy: 0.7541 - val_loss: 0.4082 - val_categorical_accuracy: 0.8700 - lr: 1.0000e-04\n",
      "Epoch 27/30\n",
      "133/133 [==============================] - ETA: 0s - loss: 0.5607 - categorical_accuracy: 0.7692\n",
      "Epoch 00027: saving model to model_init_2024-11-0406_14_47.607260/model-00027-0.56074-0.76923-0.42446-0.86000.keras\n",
      "133/133 [==============================] - 74s 556ms/step - loss: 0.5607 - categorical_accuracy: 0.7692 - val_loss: 0.4245 - val_categorical_accuracy: 0.8600 - lr: 1.0000e-04\n",
      "Epoch 28/30\n",
      "133/133 [==============================] - ETA: 0s - loss: 0.6153 - categorical_accuracy: 0.7662\n",
      "Epoch 00028: saving model to model_init_2024-11-0406_14_47.607260/model-00028-0.61533-0.76621-0.48011-0.83000.keras\n",
      "133/133 [==============================] - 75s 563ms/step - loss: 0.6153 - categorical_accuracy: 0.7662 - val_loss: 0.4801 - val_categorical_accuracy: 0.8300 - lr: 1.0000e-04\n",
      "Epoch 29/30\n",
      "133/133 [==============================] - ETA: 0s - loss: 0.6002 - categorical_accuracy: 0.7526\n",
      "Epoch 00029: saving model to model_init_2024-11-0406_14_47.607260/model-00029-0.60019-0.75264-0.40597-0.88000.keras\n",
      "133/133 [==============================] - 77s 579ms/step - loss: 0.6002 - categorical_accuracy: 0.7526 - val_loss: 0.4060 - val_categorical_accuracy: 0.8800 - lr: 1.0000e-04\n",
      "Epoch 30/30\n",
      "133/133 [==============================] - ETA: 0s - loss: 0.5509 - categorical_accuracy: 0.7677\n",
      "Epoch 00030: saving model to model_init_2024-11-0406_14_47.607260/model-00030-0.55092-0.76772-0.40246-0.88000.keras\n",
      "133/133 [==============================] - 75s 565ms/step - loss: 0.5509 - categorical_accuracy: 0.7677 - val_loss: 0.4025 - val_categorical_accuracy: 0.8800 - lr: 1.0000e-04\n"
     ]
    },
    {
     "data": {
      "text/plain": [
       "<keras.callbacks.History at 0x7f25108b4340>"
      ]
     },
     "execution_count": 13,
     "metadata": {},
     "output_type": "execute_result"
    }
   ],
   "source": [
    "model.fit(train_generator, steps_per_epoch=steps_per_epoch, epochs=num_epochs, verbose=1, \n",
    "                    callbacks=callbacks_list, validation_data=val_generator, \n",
    "                    validation_steps=validation_steps, class_weight=None, initial_epoch=0)"
   ]
  },
  {
   "cell_type": "code",
   "execution_count": null,
   "metadata": {},
   "outputs": [],
   "source": []
  },
  {
   "cell_type": "code",
   "execution_count": null,
   "metadata": {},
   "outputs": [],
   "source": []
  }
 ],
 "metadata": {
  "kernelspec": {
   "display_name": "Python 3 (ipykernel)",
   "language": "python",
   "name": "python3"
  },
  "language_info": {
   "codemirror_mode": {
    "name": "ipython",
    "version": 3
   },
   "file_extension": ".py",
   "mimetype": "text/x-python",
   "name": "python",
   "nbconvert_exporter": "python",
   "pygments_lexer": "ipython3",
   "version": "3.12.4"
  }
 },
 "nbformat": 4,
 "nbformat_minor": 4
}
